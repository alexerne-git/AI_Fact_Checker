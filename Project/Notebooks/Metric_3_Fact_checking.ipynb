{
  "cells": [
    {
      "cell_type": "markdown",
      "metadata": {
        "id": "JbXo7jMKJHBW"
      },
      "source": [
        "## **Performance Metrics to evaluate text generating LLMs:**\n",
        "\n",
        "- **Fact checking**\n",
        "\n",
        "In this notebook, we essentially focus on the Fact checking performance metric (more about this on the readme.md file).\n"
      ]
    },
    {
      "cell_type": "markdown",
      "metadata": {
        "id": "aYoVDCPsJMTu"
      },
      "source": [
        "### **Step 1: Generating specific queries + saving results**"
      ]
    },
    {
      "cell_type": "code",
      "execution_count": 1,
      "metadata": {
        "id": "upDoxsvqKcov"
      },
      "outputs": [],
      "source": [
        "# import libraries\n",
        "import pandas as pd\n",
        "import requests\n",
        "import numpy as np\n",
        "from numpy.linalg import norm"
      ]
    },
    {
      "cell_type": "code",
      "execution_count": 2,
      "metadata": {
        "id": "ZuYIJT12PpfU"
      },
      "outputs": [],
      "source": [
        "def similarity_metric(array1, array2):\n",
        "    dot_product = np.dot(array1, array2)\n",
        "    norm_array1 = norm(array1)\n",
        "    norm_array2 = norm(array2)\n",
        "    if norm_array1 == 0 or norm_array2 == 0:\n",
        "        return 0  # Return 0 if any of the arrays has zero norm to avoid division by zero\n",
        "    return dot_product / (norm_array1 * norm_array2)\n"
      ]
    },
    {
      "cell_type": "code",
      "execution_count": 3,
      "metadata": {
        "id": "UKPC8FnHKbcH"
      },
      "outputs": [],
      "source": [
        "def execute_sparql_query(query):\n",
        "    endpoint_url = \"https://query.wikidata.org/sparql\"\n",
        "    headers = {\n",
        "        'User-Agent': 'Example/1.0 (contact@example.com)',\n",
        "        'Accept': 'application/sparql-results+json'\n",
        "    }\n",
        "    params = {\n",
        "        'query': query,\n",
        "        'format': 'json'\n",
        "    }\n",
        "    response = requests.get(endpoint_url, params=params, headers=headers)\n",
        "    if response.status_code == 200:\n",
        "        results = response.json()\n",
        "        return results\n",
        "    else:\n",
        "        print(\"Error executing SPARQL query:\")\n",
        "        print(response.text)\n",
        "        return None"
      ]
    },
    {
      "cell_type": "code",
      "execution_count": 5,
      "metadata": {
        "colab": {
          "base_uri": "https://localhost:8080/"
        },
        "id": "1y76HJCpJE2e",
        "outputId": "6099a420-5133-4f8d-b75a-a9d6668bb898"
      },
      "outputs": [
        {
          "name": "stdout",
          "output_type": "stream",
          "text": [
            "Answer_1 62\n",
            "Answer_2 300\n"
          ]
        }
      ],
      "source": [
        "# 1. Age of Barack Obama\n",
        "query_1 = \"\"\"\n",
        "SELECT DISTINCT ?age WHERE {\n",
        "  wd:Q76 p:P569 ?birthdateStatement.\n",
        "  ?birthdateStatement ps:P569 ?birthdate.\n",
        "  BIND((YEAR(NOW()) - YEAR(?birthdate)) - IF(MONTH(NOW()) < MONTH(?birthdate) || (MONTH(NOW()) = MONTH(?birthdate) && DAY(NOW()) < DAY(?birthdate)), 1, 0) AS ?age)\n",
        "}\n",
        "\"\"\"\n",
        "results = execute_sparql_query(query_1)\n",
        "answer_1 = int(results['results']['bindings'][0]['age']['value'])\n",
        "print(\"Answer_1\",answer_1)\n",
        "prompt_1 = \"How old is barack obama, please give just the decimal number\"\n",
        "\n",
        "# 2. Height of Eiffel Tower\n",
        "query_2 = \"\"\"\n",
        "SELECT DISTINCT ?height WHERE {\n",
        "  wd:Q243 p:P2048 ?heightStatement.\n",
        "  ?heightStatement ps:P2048 ?height.\n",
        "}\n",
        "\"\"\"\n",
        "results = execute_sparql_query(query_2)\n",
        "answer_2 = int(results['results']['bindings'][0]['height']['value'])\n",
        "print(\"Answer_2\",answer_2)\n",
        "prompt_2 = \"What is the height of the Eiffel Tower, please give just the decimal number\"\n",
        "\n",
        "# 3. Distance from Earth to Mars\n",
        "# ..."
      ]
    },
    {
      "cell_type": "markdown",
      "metadata": {
        "id": "UpWqwW-VOmoj"
      },
      "source": [
        "### **Step 2:From here: re-execute the code for the different Text Generative Models:**"
      ]
    },
    {
      "cell_type": "markdown",
      "metadata": {
        "id": "umiBZ_2JOoaS"
      },
      "source": [
        "**Query the text generating llm with the following prompt:** (copy the document as mentionned: PASTE_DOCUMENTS_HERE)\n",
        "\n",
        "```\n",
        "Please answer the following questions:COPY_QUESTIONS, please answer in the following format: [answer_1,answer_2]\n",
        "```"
      ]
    },
    {
      "cell_type": "code",
      "execution_count": 6,
      "metadata": {
        "colab": {
          "base_uri": "https://localhost:8080/"
        },
        "id": "7lPh_a-vLqFb",
        "outputId": "f45217d3-9b77-462f-f26b-6f6360857aed"
      },
      "outputs": [
        {
          "name": "stdout",
          "output_type": "stream",
          "text": [
            "['How old is barack obama, please give just the decimal number', 'What is the height of the Eiffel Tower, please give just the decimal number']\n"
          ]
        }
      ],
      "source": [
        "arr = [prompt_1,prompt_2]\n",
        "print(arr)"
      ]
    },
    {
      "cell_type": "code",
      "execution_count": 7,
      "metadata": {
        "id": "QUlMu8zDOwPC"
      },
      "outputs": [],
      "source": [
        "ground_truth = [answer_1,answer_2]\n",
        "answers_from_models = [62, 330]"
      ]
    },
    {
      "cell_type": "code",
      "execution_count": 8,
      "metadata": {
        "colab": {
          "base_uri": "https://localhost:8080/"
        },
        "id": "ZHl2PnhMPcSd",
        "outputId": "ebc7c76c-2dd0-4a57-9cf3-1ca643f3a2b8"
      },
      "outputs": [
        {
          "data": {
            "text/plain": [
              "[62, 300]"
            ]
          },
          "execution_count": 8,
          "metadata": {},
          "output_type": "execute_result"
        }
      ],
      "source": [
        "ground_truth"
      ]
    },
    {
      "cell_type": "code",
      "execution_count": 9,
      "metadata": {
        "id": "D-4vMGaJPMiq"
      },
      "outputs": [],
      "source": [
        "array1 = np.array(ground_truth)\n",
        "array2 = np.array(answers_from_models)\n",
        "similarity_score = round(similarity_metric(array1, array2),2)"
      ]
    },
    {
      "cell_type": "code",
      "execution_count": 10,
      "metadata": {
        "id": "ajqeKlkSPE36"
      },
      "outputs": [],
      "source": [
        "model_name = \"Chat GPT\"\n",
        "output_filename = \"chat_gpt_fact_checking.csv\""
      ]
    },
    {
      "cell_type": "code",
      "execution_count": 12,
      "metadata": {
        "id": "C3e5JO6AP3WU"
      },
      "outputs": [],
      "source": [
        "new_data = {\n",
        "    'model_name': model_name,\n",
        "    'fact_check_acc': [similarity_score]\n",
        "\n",
        "}\n",
        "new_df = pd.DataFrame(new_data)\n",
        "new_df.to_csv(output_filename, index=False)"
      ]
    }
  ],
  "metadata": {
    "colab": {
      "provenance": []
    },
    "kernelspec": {
      "display_name": "Python 3",
      "name": "python3"
    },
    "language_info": {
      "name": "python"
    }
  },
  "nbformat": 4,
  "nbformat_minor": 0
}
