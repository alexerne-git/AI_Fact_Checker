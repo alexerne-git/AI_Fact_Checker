{
  "cells": [
    {
      "cell_type": "markdown",
      "metadata": {
        "id": "o0K7C5LK9By3"
      },
      "source": [
        "## **Performance Metrics to evaluate text generating LLMs:**\n",
        "\n",
        "- **Sentiment Analysis**\n",
        "\n",
        "In this notebook, we essentially focus on the Sentiment Analysis performance metric (more about this on the readme.md file)."
      ]
    },
    {
      "cell_type": "code",
      "execution_count": 8,
      "metadata": {
        "id": "134oa12s934-"
      },
      "outputs": [],
      "source": [
        "!pip install datasets"
      ]
    },
    {
      "cell_type": "code",
      "execution_count": 9,
      "metadata": {
        "id": "08TJN7Vu-Sav"
      },
      "outputs": [],
      "source": [
        "# Import Libraries\n",
        "import pandas as pd\n",
        "from datasets import load_dataset\n",
        "import random"
      ]
    },
    {
      "cell_type": "code",
      "execution_count": null,
      "metadata": {
        "id": "wQdy5bDR-WFq"
      },
      "outputs": [],
      "source": [
        "# Load the IMDb dataset from Hugging Face datasets\n",
        "dataset = load_dataset(\"imdb\")"
      ]
    },
    {
      "cell_type": "code",
      "execution_count": 30,
      "metadata": {
        "id": "kvOUYnK389LC"
      },
      "outputs": [],
      "source": [
        "# Select a subset of reviews and their labels\n",
        "random_indices = random.sample(range(len(dataset['train'])), 10)\n",
        "random_reviews = [dataset['train'][i]['text'] for i in random_indices]\n",
        "random_labels = [dataset['train'][i]['label'] for i in random_indices]\n",
        "\n",
        "# Convert label indices to actual labels\n",
        "label_mapping = {\n",
        "    0: 'Negative',\n",
        "    1: 'Positive',\n",
        "}\n",
        "random_labels = [label_mapping[label] for label in random_labels]"
      ]
    },
    {
      "cell_type": "code",
      "execution_count": 31,
      "metadata": {
        "id": "-pUCcYFh-YZ_"
      },
      "outputs": [],
      "source": [
        "df = pd.DataFrame({'Review': random_reviews, 'Ground_Truth_Label': random_labels})"
      ]
    },
    {
      "cell_type": "markdown",
      "metadata": {
        "id": "oV78Caqe999k"
      },
      "source": [
        "### **From here: re-execute the code for the different Text Generative Models:**"
      ]
    },
    {
      "cell_type": "code",
      "execution_count": 32,
      "metadata": {
        "colab": {
          "base_uri": "https://localhost:8080/"
        },
        "id": "ChcVaYLg-hZ1",
        "outputId": "f9e4f360-2288-4b84-c658-157901c3a865"
      },
      "outputs": [
        {
          "name": "stdout",
          "output_type": "stream",
          "text": [
            "[\"Really, it's nothing much. I only recommend watching it if; 1.) You're a big fan of any of the main stars. 2.) If you really want to check out the first time Lucille Ball was seen with red hair.<br /><br />4 out of 10 stars\"\n",
            " 'There are a lot of highly talented filmmakers/actors in Germany now. None of them are associated with this \"movie\".<br /><br />Why in the world do producers actually invest money in something like this this? You could have made 10 good films with the budget of this garbage! It\\'s not entertaining to have seven grown men running around as dwarfs, pretending to be funny. What IS funny though is that the film\\'s producer (who happens to be the oldest guy of the bunch) is playing the YOUNGEST dwarf.<br /><br />The film is filled with moments that scream for captions saying \"You\\'re supposed to laugh now!\". It\\'s hard to believe that this crap\\'s supposed to be a comedy.<br /><br />Many people actually stood up and left the cinema 30 minutes into the movie. I should have done the same instead of wasting my time...<br /><br />Pain!'\n",
            " 'Confounding melodrama taken from a William Gibson story, produced by John Houseman and directed by Vincente Minnelli! Richard Widmark heads up posh, upscale rural nervous asylum, where his loose wife battles with self-appointed queen bee Lillian Gish, and Widmark himself gets the straying eye for staff-newcomer Lauren Bacall, who is putting her life back together after the death of her husband and child. Facetious and muddled, set in an indiscriminate time and place, and with a \"David and Lisa\" love story hidden in the plush morass. Widmark and Bacall do have some good chemistry together, but this script gives them nothing to build on. For precisely an hour, most of the dialogue concerns what to do about the drapes hanging in the library (this thread isn\\'t used as symbolism, rather it\\'s a red herring in a non-mystery!). The picture hopes to show the loggerheads that disparate people come to when they\\'re working in the same profession and everyone thinks their opinion is right, but unfortunately the roundabout way Minnelli unravels this stew is neither informative, enlightening nor entertaining. ** from ****'\n",
            " 'I first heard about White Noise when I saw the TV advert. Before then I didn\\'t even know it existed. I watched the trailer online and decided that I would go and see it. Now being a fan of films like The Sixth Sense, I thought that this film would give me everything I wanted. It has Michael Keaton in it, and he rocks. Unfortunately the film did not deliver. It tried to be another Sixth Sense or Stir of Echoes, and failed miserably. It has a very promising start, but the middle just drags on repeating itself, and ends with a completely poor twist which any monkey could have figured out. Unfortunately like most \"Scary\" films nowadays it relies on loud noises and bangs to make the audience jump. This film could have been so much more. It\\'s a shame because it was a good idea.'\n",
            " 'Walter Matthau and George Burns were a famous vaudeville comedy act, Lewis and Clark, who haven\\'t spoken in over 10 years. Burns retired and Matthau took it personally and has held a grudge ever since. Such is the premise of this hilarious Neil Simon play made into a movie. Of course, what makes it so good is Matthau and Burns in their prime, and the material is funnier than anything you can find today. Richard Benjamin shines as Matthau\\'s nephew and agent. There\\'s even old clips of actual stars of the golden era to get you into the groove of the film, and character actor Fritz Feld starts it all off with a \"pop.\" Rosetta LaNoire, who started out in the 30s in theater with Orson Welles and later was Grandma on \"Family Matters,\" is great in a small role.<br /><br />The only problem I had with it (and maybe I\\'m being too picky and/or serious) is the way Matthau treats Burns when they first meet. Granted, he\\'s had a lot of resentment festering in all these years, but some of the things he does would be considered rude or just plain bad manners taken out of context. Also, I\\'m used to seeing Matthau act that way in other movies, but not to George Burns. And, Matthau\\'s bellowing tends to get a little old. <br /><br />All in all, if you need a consistently funny film to help and forget your troubles, put in \"The Sunshine Boys.\" They\\'ll lift your spirits and make you think of a simpler time and way of life.<br /><br />Benjamin: \"You have to slide it.\" <br /><br />Matthau: \"Wait, wait. I think you have to slide it.\"'\n",
            " 'I\\'m really surprised this movie didn\\'t get a higher rating on IMDB. It\\'s one of those movies that could easily get by someone, but for romantic comedy \"Moonstruck\" is really in a class by itself. It\\'s setting and ethnic charm are things people seem to take for granted. The casting alone makes it a nearly perfect movie. Few movies in the 1980\\'s were as good as \"Moonstruck\"and it\\'s funny too. **** out of *****'\n",
            " 'Body Slam (1987) is a flat out terrible movie. The low budget reeks, the direction is pedestrian (at best) and the writing and acting is lame. But if you\\'re into old school wrestling (circa 1970\\'s through the mid-80\\') then you\\'ll be more entertained than the average viewer. I have to warn you, this movie stinks on ice. I gave it a two because I felt like being generous. This turkey was \"directed\" by stunt master Hal Needham. The stars are Roddy Piper, The Tonga Kid and a bunch of scrub wrestlers and c-list actors (Dirk Benedict).<br /><br />The synopsis of this \"movie\" is about a promoter who wants to combine \"hair rock\" and wrestling. But their are others that don\\'t want him to succeed. There\\'s more but I don\\'t want to SPOIL it for you. If you can stomach the bad acting and inane storyline, there\\'s a few surprises near the end for die-hard wrestling fans. <br /><br />I wouldn\\'t recommend this to my worse enemy (and I mean it).'\n",
            " \"While most of the movie is very amateurish, the Kosher slaughter scene is played up, but not untrue. Kosher law says that an animal must be conscious when the blade touches it's skin. The Kosher slaughter scene is accurate as anyone knows who has seen one, or has seen the Peta film showing a Kosher slaughter, in which the animals throat is cut, and the esophagus cut out while it is still alive, conscious, and obviously suffering. We must remember that history is written by the victors. Is one even Allowed to even THINK that maybe the Nazis were right??<br /><br />Doesn't it say anything that the Nazis had outlawed this vicious religious slaughter, and the Jews are still practicing it even today?\"\n",
            " 'I got to see the movie \" On Thin Ice\" on the television in India.. I must say the movie was really well done, and really sent a chill down my spine.. the basic story makes me ponder what makes certain addicts decide to move on where as others still remain addicted...<br /><br />however, I felt that Diane Keaton was at her best... the scene where she has cravings, and begins rummaging her home for cocaine... was the best... the two boys are good, and Lynda Boyd also showed what a good actress she is....The script is well done as is the cinematography and direction.. and casting<br /><br />A must must watch movie..... for everyone'\n",
            " \"WARNING SPOILERS***** A really stupid movie about a group of young excursionists in Italy that find an armor of mythical warrior with a demonic souls. One of them wears it and becomes possessed by the spirit of a demon. It's killing time and several of his friends die under his blade to revive the demon corpse.<br /><br />A waste of time for the viewers, as the fine young ladies in the movie leave their clothes on, the gore is ludicrous at best, and the acting is terrible, perfect pairing for such a bad script<br /><br />\"]\n",
            "10\n"
          ]
        }
      ],
      "source": [
        "testing_array = df['Review'].values\n",
        "print(testing_array)\n",
        "print(len(testing_array))"
      ]
    },
    {
      "cell_type": "markdown",
      "metadata": {
        "id": "g4kZ3EFI-CbW"
      },
      "source": [
        "**Query the text generating llm with the following prompt:** (copy the document as mentionned: PASTE_DOCUMENTS_HERE)\n",
        "\n",
        "```\n",
        "Please classify the following 10 sentences: positive, negative. Here are the sentences: PASTE_SENTENCES_HERE. please return the answers as an array\n",
        "```"
      ]
    },
    {
      "cell_type": "code",
      "execution_count": 33,
      "metadata": {
        "id": "Q2vDiwrN9_L1"
      },
      "outputs": [],
      "source": [
        "# Add the result\n",
        "predicted_labels = ['Positive', 'Negative', 'Negative', 'Negative', 'Negative', 'Negative', 'Positive', 'Negative', 'Negative', 'Positive']\n"
      ]
    },
    {
      "cell_type": "code",
      "execution_count": 34,
      "metadata": {
        "colab": {
          "base_uri": "https://localhost:8080/"
        },
        "id": "AhYWAJzU90y4",
        "outputId": "92254a00-9dd3-448b-f418-816cf7f037a9"
      },
      "outputs": [
        {
          "name": "stdout",
          "output_type": "stream",
          "text": [
            "Total Score: 0.4\n",
            "Grade: F\n",
            "\n",
            "DataFrame with 10 random reviews:\n"
          ]
        }
      ],
      "source": [
        "df['Predicted_Labels'] = predicted_labels\n",
        "correct_predictions = sum(df['Ground_Truth_Label'] == df['Predicted_Labels'])\n",
        "total_reviews = len(df)\n",
        "accuracy = correct_predictions / total_reviews\n",
        "if accuracy >= 0.9:\n",
        "    grade = 'A'\n",
        "elif accuracy >= 0.8:\n",
        "    grade = 'B'\n",
        "elif accuracy >= 0.7:\n",
        "    grade = 'C'\n",
        "elif accuracy >= 0.6:\n",
        "    grade = 'D'\n",
        "else:\n",
        "    grade = 'F'\n",
        "\n",
        "print(\"Total Score:\", accuracy)\n",
        "print(\"Grade:\", grade)\n",
        "print(\"\\nDataFrame with 10 random reviews:\")"
      ]
    },
    {
      "cell_type": "code",
      "execution_count": 35,
      "metadata": {
        "colab": {
          "base_uri": "https://localhost:8080/",
          "height": 363
        },
        "id": "rGsZMiiV--oZ",
        "outputId": "3119a626-6646-4843-ba0f-ec30749afa17"
      },
      "outputs": [
        {
          "data": {
            "application/vnd.google.colaboratory.intrinsic+json": {
              "summary": "{\n  \"name\": \"df\",\n  \"rows\": 10,\n  \"fields\": [\n    {\n      \"column\": \"Review\",\n      \"properties\": {\n        \"dtype\": \"string\",\n        \"num_unique_values\": 10,\n        \"samples\": [\n          \"I got to see the movie \\\" On Thin Ice\\\" on the television in India.. I must say the movie was really well done, and really sent a chill down my spine.. the basic story makes me ponder what makes certain addicts decide to move on where as others still remain addicted...<br /><br />however, I felt that Diane Keaton was at her best... the scene where she has cravings, and begins rummaging her home for cocaine... was the best... the two boys are good, and Lynda Boyd also showed what a good actress she is....The script is well done as is the cinematography and direction.. and casting<br /><br />A must must watch movie..... for everyone\",\n          \"There are a lot of highly talented filmmakers/actors in Germany now. None of them are associated with this \\\"movie\\\".<br /><br />Why in the world do producers actually invest money in something like this this? You could have made 10 good films with the budget of this garbage! It's not entertaining to have seven grown men running around as dwarfs, pretending to be funny. What IS funny though is that the film's producer (who happens to be the oldest guy of the bunch) is playing the YOUNGEST dwarf.<br /><br />The film is filled with moments that scream for captions saying \\\"You're supposed to laugh now!\\\". It's hard to believe that this crap's supposed to be a comedy.<br /><br />Many people actually stood up and left the cinema 30 minutes into the movie. I should have done the same instead of wasting my time...<br /><br />Pain!\",\n          \"I'm really surprised this movie didn't get a higher rating on IMDB. It's one of those movies that could easily get by someone, but for romantic comedy \\\"Moonstruck\\\" is really in a class by itself. It's setting and ethnic charm are things people seem to take for granted. The casting alone makes it a nearly perfect movie. Few movies in the 1980's were as good as \\\"Moonstruck\\\"and it's funny too. **** out of *****\"\n        ],\n        \"semantic_type\": \"\",\n        \"description\": \"\"\n      }\n    },\n    {\n      \"column\": \"Ground_Truth_Label\",\n      \"properties\": {\n        \"dtype\": \"category\",\n        \"num_unique_values\": 2,\n        \"samples\": [\n          \"Positive\",\n          \"Negative\"\n        ],\n        \"semantic_type\": \"\",\n        \"description\": \"\"\n      }\n    },\n    {\n      \"column\": \"Predicted_Labels\",\n      \"properties\": {\n        \"dtype\": \"category\",\n        \"num_unique_values\": 2,\n        \"samples\": [\n          \"Negative\",\n          \"Positive\"\n        ],\n        \"semantic_type\": \"\",\n        \"description\": \"\"\n      }\n    }\n  ]\n}",
              "type": "dataframe",
              "variable_name": "df"
            },
            "text/html": [
              "\n",
              "  <div id=\"df-be2131c4-ab14-43d8-ab76-284b6920d9dc\" class=\"colab-df-container\">\n",
              "    <div>\n",
              "<style scoped>\n",
              "    .dataframe tbody tr th:only-of-type {\n",
              "        vertical-align: middle;\n",
              "    }\n",
              "\n",
              "    .dataframe tbody tr th {\n",
              "        vertical-align: top;\n",
              "    }\n",
              "\n",
              "    .dataframe thead th {\n",
              "        text-align: right;\n",
              "    }\n",
              "</style>\n",
              "<table border=\"1\" class=\"dataframe\">\n",
              "  <thead>\n",
              "    <tr style=\"text-align: right;\">\n",
              "      <th></th>\n",
              "      <th>Review</th>\n",
              "      <th>Ground_Truth_Label</th>\n",
              "      <th>Predicted_Labels</th>\n",
              "    </tr>\n",
              "  </thead>\n",
              "  <tbody>\n",
              "    <tr>\n",
              "      <th>0</th>\n",
              "      <td>Really, it's nothing much. I only recommend wa...</td>\n",
              "      <td>Negative</td>\n",
              "      <td>Positive</td>\n",
              "    </tr>\n",
              "    <tr>\n",
              "      <th>1</th>\n",
              "      <td>There are a lot of highly talented filmmakers/...</td>\n",
              "      <td>Negative</td>\n",
              "      <td>Negative</td>\n",
              "    </tr>\n",
              "    <tr>\n",
              "      <th>2</th>\n",
              "      <td>Confounding melodrama taken from a William Gib...</td>\n",
              "      <td>Negative</td>\n",
              "      <td>Negative</td>\n",
              "    </tr>\n",
              "    <tr>\n",
              "      <th>3</th>\n",
              "      <td>I first heard about White Noise when I saw the...</td>\n",
              "      <td>Negative</td>\n",
              "      <td>Negative</td>\n",
              "    </tr>\n",
              "    <tr>\n",
              "      <th>4</th>\n",
              "      <td>Walter Matthau and George Burns were a famous ...</td>\n",
              "      <td>Positive</td>\n",
              "      <td>Negative</td>\n",
              "    </tr>\n",
              "    <tr>\n",
              "      <th>5</th>\n",
              "      <td>I'm really surprised this movie didn't get a h...</td>\n",
              "      <td>Positive</td>\n",
              "      <td>Negative</td>\n",
              "    </tr>\n",
              "    <tr>\n",
              "      <th>6</th>\n",
              "      <td>Body Slam (1987) is a flat out terrible movie....</td>\n",
              "      <td>Negative</td>\n",
              "      <td>Positive</td>\n",
              "    </tr>\n",
              "    <tr>\n",
              "      <th>7</th>\n",
              "      <td>While most of the movie is very amateurish, th...</td>\n",
              "      <td>Negative</td>\n",
              "      <td>Negative</td>\n",
              "    </tr>\n",
              "    <tr>\n",
              "      <th>8</th>\n",
              "      <td>I got to see the movie \" On Thin Ice\" on the t...</td>\n",
              "      <td>Positive</td>\n",
              "      <td>Negative</td>\n",
              "    </tr>\n",
              "    <tr>\n",
              "      <th>9</th>\n",
              "      <td>WARNING SPOILERS***** A really stupid movie ab...</td>\n",
              "      <td>Negative</td>\n",
              "      <td>Positive</td>\n",
              "    </tr>\n",
              "  </tbody>\n",
              "</table>\n",
              "</div>\n",
              "    <div class=\"colab-df-buttons\">\n",
              "\n",
              "  <div class=\"colab-df-container\">\n",
              "    <button class=\"colab-df-convert\" onclick=\"convertToInteractive('df-be2131c4-ab14-43d8-ab76-284b6920d9dc')\"\n",
              "            title=\"Convert this dataframe to an interactive table.\"\n",
              "            style=\"display:none;\">\n",
              "\n",
              "  <svg xmlns=\"http://www.w3.org/2000/svg\" height=\"24px\" viewBox=\"0 -960 960 960\">\n",
              "    <path d=\"M120-120v-720h720v720H120Zm60-500h600v-160H180v160Zm220 220h160v-160H400v160Zm0 220h160v-160H400v160ZM180-400h160v-160H180v160Zm440 0h160v-160H620v160ZM180-180h160v-160H180v160Zm440 0h160v-160H620v160Z\"/>\n",
              "  </svg>\n",
              "    </button>\n",
              "\n",
              "  <style>\n",
              "    .colab-df-container {\n",
              "      display:flex;\n",
              "      gap: 12px;\n",
              "    }\n",
              "\n",
              "    .colab-df-convert {\n",
              "      background-color: #E8F0FE;\n",
              "      border: none;\n",
              "      border-radius: 50%;\n",
              "      cursor: pointer;\n",
              "      display: none;\n",
              "      fill: #1967D2;\n",
              "      height: 32px;\n",
              "      padding: 0 0 0 0;\n",
              "      width: 32px;\n",
              "    }\n",
              "\n",
              "    .colab-df-convert:hover {\n",
              "      background-color: #E2EBFA;\n",
              "      box-shadow: 0px 1px 2px rgba(60, 64, 67, 0.3), 0px 1px 3px 1px rgba(60, 64, 67, 0.15);\n",
              "      fill: #174EA6;\n",
              "    }\n",
              "\n",
              "    .colab-df-buttons div {\n",
              "      margin-bottom: 4px;\n",
              "    }\n",
              "\n",
              "    [theme=dark] .colab-df-convert {\n",
              "      background-color: #3B4455;\n",
              "      fill: #D2E3FC;\n",
              "    }\n",
              "\n",
              "    [theme=dark] .colab-df-convert:hover {\n",
              "      background-color: #434B5C;\n",
              "      box-shadow: 0px 1px 3px 1px rgba(0, 0, 0, 0.15);\n",
              "      filter: drop-shadow(0px 1px 2px rgba(0, 0, 0, 0.3));\n",
              "      fill: #FFFFFF;\n",
              "    }\n",
              "  </style>\n",
              "\n",
              "    <script>\n",
              "      const buttonEl =\n",
              "        document.querySelector('#df-be2131c4-ab14-43d8-ab76-284b6920d9dc button.colab-df-convert');\n",
              "      buttonEl.style.display =\n",
              "        google.colab.kernel.accessAllowed ? 'block' : 'none';\n",
              "\n",
              "      async function convertToInteractive(key) {\n",
              "        const element = document.querySelector('#df-be2131c4-ab14-43d8-ab76-284b6920d9dc');\n",
              "        const dataTable =\n",
              "          await google.colab.kernel.invokeFunction('convertToInteractive',\n",
              "                                                    [key], {});\n",
              "        if (!dataTable) return;\n",
              "\n",
              "        const docLinkHtml = 'Like what you see? Visit the ' +\n",
              "          '<a target=\"_blank\" href=https://colab.research.google.com/notebooks/data_table.ipynb>data table notebook</a>'\n",
              "          + ' to learn more about interactive tables.';\n",
              "        element.innerHTML = '';\n",
              "        dataTable['output_type'] = 'display_data';\n",
              "        await google.colab.output.renderOutput(dataTable, element);\n",
              "        const docLink = document.createElement('div');\n",
              "        docLink.innerHTML = docLinkHtml;\n",
              "        element.appendChild(docLink);\n",
              "      }\n",
              "    </script>\n",
              "  </div>\n",
              "\n",
              "\n",
              "<div id=\"df-0112f93f-9301-45aa-ba39-5915e416524c\">\n",
              "  <button class=\"colab-df-quickchart\" onclick=\"quickchart('df-0112f93f-9301-45aa-ba39-5915e416524c')\"\n",
              "            title=\"Suggest charts\"\n",
              "            style=\"display:none;\">\n",
              "\n",
              "<svg xmlns=\"http://www.w3.org/2000/svg\" height=\"24px\"viewBox=\"0 0 24 24\"\n",
              "     width=\"24px\">\n",
              "    <g>\n",
              "        <path d=\"M19 3H5c-1.1 0-2 .9-2 2v14c0 1.1.9 2 2 2h14c1.1 0 2-.9 2-2V5c0-1.1-.9-2-2-2zM9 17H7v-7h2v7zm4 0h-2V7h2v10zm4 0h-2v-4h2v4z\"/>\n",
              "    </g>\n",
              "</svg>\n",
              "  </button>\n",
              "\n",
              "<style>\n",
              "  .colab-df-quickchart {\n",
              "      --bg-color: #E8F0FE;\n",
              "      --fill-color: #1967D2;\n",
              "      --hover-bg-color: #E2EBFA;\n",
              "      --hover-fill-color: #174EA6;\n",
              "      --disabled-fill-color: #AAA;\n",
              "      --disabled-bg-color: #DDD;\n",
              "  }\n",
              "\n",
              "  [theme=dark] .colab-df-quickchart {\n",
              "      --bg-color: #3B4455;\n",
              "      --fill-color: #D2E3FC;\n",
              "      --hover-bg-color: #434B5C;\n",
              "      --hover-fill-color: #FFFFFF;\n",
              "      --disabled-bg-color: #3B4455;\n",
              "      --disabled-fill-color: #666;\n",
              "  }\n",
              "\n",
              "  .colab-df-quickchart {\n",
              "    background-color: var(--bg-color);\n",
              "    border: none;\n",
              "    border-radius: 50%;\n",
              "    cursor: pointer;\n",
              "    display: none;\n",
              "    fill: var(--fill-color);\n",
              "    height: 32px;\n",
              "    padding: 0;\n",
              "    width: 32px;\n",
              "  }\n",
              "\n",
              "  .colab-df-quickchart:hover {\n",
              "    background-color: var(--hover-bg-color);\n",
              "    box-shadow: 0 1px 2px rgba(60, 64, 67, 0.3), 0 1px 3px 1px rgba(60, 64, 67, 0.15);\n",
              "    fill: var(--button-hover-fill-color);\n",
              "  }\n",
              "\n",
              "  .colab-df-quickchart-complete:disabled,\n",
              "  .colab-df-quickchart-complete:disabled:hover {\n",
              "    background-color: var(--disabled-bg-color);\n",
              "    fill: var(--disabled-fill-color);\n",
              "    box-shadow: none;\n",
              "  }\n",
              "\n",
              "  .colab-df-spinner {\n",
              "    border: 2px solid var(--fill-color);\n",
              "    border-color: transparent;\n",
              "    border-bottom-color: var(--fill-color);\n",
              "    animation:\n",
              "      spin 1s steps(1) infinite;\n",
              "  }\n",
              "\n",
              "  @keyframes spin {\n",
              "    0% {\n",
              "      border-color: transparent;\n",
              "      border-bottom-color: var(--fill-color);\n",
              "      border-left-color: var(--fill-color);\n",
              "    }\n",
              "    20% {\n",
              "      border-color: transparent;\n",
              "      border-left-color: var(--fill-color);\n",
              "      border-top-color: var(--fill-color);\n",
              "    }\n",
              "    30% {\n",
              "      border-color: transparent;\n",
              "      border-left-color: var(--fill-color);\n",
              "      border-top-color: var(--fill-color);\n",
              "      border-right-color: var(--fill-color);\n",
              "    }\n",
              "    40% {\n",
              "      border-color: transparent;\n",
              "      border-right-color: var(--fill-color);\n",
              "      border-top-color: var(--fill-color);\n",
              "    }\n",
              "    60% {\n",
              "      border-color: transparent;\n",
              "      border-right-color: var(--fill-color);\n",
              "    }\n",
              "    80% {\n",
              "      border-color: transparent;\n",
              "      border-right-color: var(--fill-color);\n",
              "      border-bottom-color: var(--fill-color);\n",
              "    }\n",
              "    90% {\n",
              "      border-color: transparent;\n",
              "      border-bottom-color: var(--fill-color);\n",
              "    }\n",
              "  }\n",
              "</style>\n",
              "\n",
              "  <script>\n",
              "    async function quickchart(key) {\n",
              "      const quickchartButtonEl =\n",
              "        document.querySelector('#' + key + ' button');\n",
              "      quickchartButtonEl.disabled = true;  // To prevent multiple clicks.\n",
              "      quickchartButtonEl.classList.add('colab-df-spinner');\n",
              "      try {\n",
              "        const charts = await google.colab.kernel.invokeFunction(\n",
              "            'suggestCharts', [key], {});\n",
              "      } catch (error) {\n",
              "        console.error('Error during call to suggestCharts:', error);\n",
              "      }\n",
              "      quickchartButtonEl.classList.remove('colab-df-spinner');\n",
              "      quickchartButtonEl.classList.add('colab-df-quickchart-complete');\n",
              "    }\n",
              "    (() => {\n",
              "      let quickchartButtonEl =\n",
              "        document.querySelector('#df-0112f93f-9301-45aa-ba39-5915e416524c button');\n",
              "      quickchartButtonEl.style.display =\n",
              "        google.colab.kernel.accessAllowed ? 'block' : 'none';\n",
              "    })();\n",
              "  </script>\n",
              "</div>\n",
              "    </div>\n",
              "  </div>\n"
            ],
            "text/plain": [
              "                                              Review Ground_Truth_Label  \\\n",
              "0  Really, it's nothing much. I only recommend wa...           Negative   \n",
              "1  There are a lot of highly talented filmmakers/...           Negative   \n",
              "2  Confounding melodrama taken from a William Gib...           Negative   \n",
              "3  I first heard about White Noise when I saw the...           Negative   \n",
              "4  Walter Matthau and George Burns were a famous ...           Positive   \n",
              "5  I'm really surprised this movie didn't get a h...           Positive   \n",
              "6  Body Slam (1987) is a flat out terrible movie....           Negative   \n",
              "7  While most of the movie is very amateurish, th...           Negative   \n",
              "8  I got to see the movie \" On Thin Ice\" on the t...           Positive   \n",
              "9  WARNING SPOILERS***** A really stupid movie ab...           Negative   \n",
              "\n",
              "  Predicted_Labels  \n",
              "0         Positive  \n",
              "1         Negative  \n",
              "2         Negative  \n",
              "3         Negative  \n",
              "4         Negative  \n",
              "5         Negative  \n",
              "6         Positive  \n",
              "7         Negative  \n",
              "8         Negative  \n",
              "9         Positive  "
            ]
          },
          "execution_count": 35,
          "metadata": {},
          "output_type": "execute_result"
        }
      ],
      "source": [
        "df"
      ]
    },
    {
      "cell_type": "code",
      "execution_count": 36,
      "metadata": {
        "id": "CBypDP6z_dqU"
      },
      "outputs": [],
      "source": [
        "model_name = \"Chat GPT\"\n",
        "output_filename = \"chat_gpt_sentiment.csv\""
      ]
    },
    {
      "cell_type": "code",
      "execution_count": 37,
      "metadata": {
        "id": "vlyYgymT_CDg"
      },
      "outputs": [],
      "source": [
        "new_data = {\n",
        "    'model_name': model_name,\n",
        "    'sent_acc': [accuracy]\n",
        "}\n",
        "new_df = pd.DataFrame(new_data)\n",
        "new_df.to_csv(output_filename, index=False)"
      ]
    },
    {
      "cell_type": "code",
      "execution_count": null,
      "metadata": {
        "id": "jU0BbHltCEbS"
      },
      "outputs": [],
      "source": []
    }
  ],
  "metadata": {
    "colab": {
      "provenance": []
    },
    "kernelspec": {
      "display_name": "Python 3",
      "name": "python3"
    },
    "language_info": {
      "name": "python"
    }
  },
  "nbformat": 4,
  "nbformat_minor": 0
}
