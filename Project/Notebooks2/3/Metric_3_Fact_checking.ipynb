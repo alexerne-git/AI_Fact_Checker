{
  "cells": [
    {
      "cell_type": "markdown",
      "metadata": {
        "id": "JbXo7jMKJHBW"
      },
      "source": [
        "## **Performance Metrics to evaluate text generating LLMs:**\n",
        "\n",
        "- **Fact checking**\n",
        "\n",
        "In this notebook, we essentially focus on the Fact checking performance metric (more about this on the readme.md file).\n"
      ]
    },
    {
      "cell_type": "markdown",
      "metadata": {
        "id": "aYoVDCPsJMTu"
      },
      "source": [
        "### **Step 1: Generating specific queries + saving results**"
      ]
    },
    {
      "cell_type": "code",
      "execution_count": 16,
      "metadata": {
        "id": "upDoxsvqKcov"
      },
      "outputs": [],
      "source": [
        "# import libraries\n",
        "import pandas as pd\n",
        "import requests\n",
        "import numpy as np\n",
        "from numpy.linalg import norm\n",
        "import matplotlib.pyplot as plt"
      ]
    },
    {
      "cell_type": "code",
      "execution_count": 2,
      "metadata": {
        "id": "ZuYIJT12PpfU"
      },
      "outputs": [],
      "source": [
        "def similarity_metric(array1, array2):\n",
        "    dot_product = np.dot(array1, array2)\n",
        "    norm_array1 = norm(array1)\n",
        "    norm_array2 = norm(array2)\n",
        "    if norm_array1 == 0 or norm_array2 == 0:\n",
        "        return 0  # Return 0 if any of the arrays has zero norm to avoid division by zero\n",
        "    return dot_product / (norm_array1 * norm_array2)\n"
      ]
    },
    {
      "cell_type": "code",
      "execution_count": 3,
      "metadata": {
        "id": "UKPC8FnHKbcH"
      },
      "outputs": [],
      "source": [
        "def execute_sparql_query(query):\n",
        "    endpoint_url = \"https://query.wikidata.org/sparql\"\n",
        "    headers = {\n",
        "        'User-Agent': 'Example/1.0 (contact@example.com)',\n",
        "        'Accept': 'application/sparql-results+json'\n",
        "    }\n",
        "    params = {\n",
        "        'query': query,\n",
        "        'format': 'json'\n",
        "    }\n",
        "    response = requests.get(endpoint_url, params=params, headers=headers)\n",
        "    if response.status_code == 200:\n",
        "        results = response.json()\n",
        "        return results\n",
        "    else:\n",
        "        print(\"Error executing SPARQL query:\")\n",
        "        print(response.text)\n",
        "        return None"
      ]
    },
    {
      "cell_type": "code",
      "execution_count": 4,
      "metadata": {
        "colab": {
          "base_uri": "https://localhost:8080/"
        },
        "id": "1y76HJCpJE2e",
        "outputId": "1a545741-9aa8-4740-dea1-020d2d33d2b6"
      },
      "outputs": [
        {
          "output_type": "stream",
          "name": "stdout",
          "text": [
            "Answer_1 62\n",
            "Answer_2 300\n"
          ]
        }
      ],
      "source": [
        "# 1. Age of Barack Obama\n",
        "query_1 = \"\"\"\n",
        "SELECT DISTINCT ?age WHERE {\n",
        "  wd:Q76 p:P569 ?birthdateStatement.\n",
        "  ?birthdateStatement ps:P569 ?birthdate.\n",
        "  BIND((YEAR(NOW()) - YEAR(?birthdate)) - IF(MONTH(NOW()) < MONTH(?birthdate) || (MONTH(NOW()) = MONTH(?birthdate) && DAY(NOW()) < DAY(?birthdate)), 1, 0) AS ?age)\n",
        "}\n",
        "\"\"\"\n",
        "results = execute_sparql_query(query_1)\n",
        "answer_1 = int(results['results']['bindings'][0]['age']['value'])\n",
        "print(\"Answer_1\",answer_1)\n",
        "prompt_1 = \"How old is barack obama, please give just the decimal number\"\n",
        "\n",
        "# 2. Height of Eiffel Tower\n",
        "query_2 = \"\"\"\n",
        "SELECT DISTINCT ?height WHERE {\n",
        "  wd:Q243 p:P2048 ?heightStatement.\n",
        "  ?heightStatement ps:P2048 ?height.\n",
        "}\n",
        "\"\"\"\n",
        "results = execute_sparql_query(query_2)\n",
        "answer_2 = int(results['results']['bindings'][0]['height']['value'])\n",
        "print(\"Answer_2\",answer_2)\n",
        "prompt_2 = \"What is the height of the Eiffel Tower, please give just the decimal number\"\n",
        "\n",
        "# 3. Distance from Earth to Mars\n",
        "# ..."
      ]
    },
    {
      "cell_type": "markdown",
      "metadata": {
        "id": "UpWqwW-VOmoj"
      },
      "source": [
        "### **Step 2:From here: re-execute the code for the different Text Generative Models:**"
      ]
    },
    {
      "cell_type": "markdown",
      "metadata": {
        "id": "umiBZ_2JOoaS"
      },
      "source": [
        "**Query the text generating llm with the following prompt:** (copy the document as mentionned: PASTE_DOCUMENTS_HERE)\n",
        "\n",
        "```\n",
        "Please answer the following questions:COPY_QUESTIONS, please answer in the following format: [answer_1,answer_2]\n",
        "```"
      ]
    },
    {
      "cell_type": "code",
      "execution_count": 5,
      "metadata": {
        "colab": {
          "base_uri": "https://localhost:8080/"
        },
        "id": "7lPh_a-vLqFb",
        "outputId": "222b9334-c606-4c3f-a531-6b6c4966cdee"
      },
      "outputs": [
        {
          "output_type": "stream",
          "name": "stdout",
          "text": [
            "['How old is barack obama, please give just the decimal number', 'What is the height of the Eiffel Tower, please give just the decimal number']\n"
          ]
        }
      ],
      "source": [
        "arr = [prompt_1,prompt_2]\n",
        "print(arr)"
      ]
    },
    {
      "cell_type": "code",
      "execution_count": 18,
      "metadata": {
        "id": "QUlMu8zDOwPC"
      },
      "outputs": [],
      "source": [
        "ground_truth = [answer_1,answer_2]\n",
        "answers_chatgpt = [62, 330]\n",
        "answers_gemini = [56, 324]\n",
        "answers_mistral = [59, 324]\n",
        "answers_llama = [58, 324]\n",
        "\n",
        "answers = [answers_chatgpt, answers_gemini, answers_mistral, answers_llama]\n",
        "model_names = [\"Chat GPT\", \"Gemini\", \"Mistral\", \"Llama\"]"
      ]
    },
    {
      "cell_type": "code",
      "execution_count": 13,
      "metadata": {
        "colab": {
          "base_uri": "https://localhost:8080/"
        },
        "id": "ZHl2PnhMPcSd",
        "outputId": "650fe094-70e5-47c8-8750-7c33e1a0c6ff"
      },
      "outputs": [
        {
          "output_type": "execute_result",
          "data": {
            "text/plain": [
              "[62, 300]"
            ]
          },
          "metadata": {},
          "execution_count": 13
        }
      ],
      "source": [
        "ground_truth"
      ]
    },
    {
      "cell_type": "code",
      "execution_count": 20,
      "metadata": {
        "id": "D-4vMGaJPMiq"
      },
      "outputs": [],
      "source": [
        "array1 = np.array(ground_truth)\n",
        "\n",
        "similarity_scores = []\n",
        "\n",
        "for answer in answers:\n",
        "  array2 = np.array(answer)\n",
        "\n",
        "  similarity_scores.append(round(similarity_metric(array1, array2),2))"
      ]
    },
    {
      "cell_type": "code",
      "source": [
        "# Create bar plot\n",
        "plt.figure(figsize=(10, 6))\n",
        "plt.bar(model_names, similarity_scores)\n",
        "\n",
        "# Add labels and title\n",
        "plt.xlabel('Models')\n",
        "plt.ylabel('Sentiment Accuracy')\n",
        "plt.title('Sentiment Accuracy for Different Models')\n",
        "\n",
        "# Show plot\n",
        "plt.show()\n"
      ],
      "metadata": {
        "colab": {
          "base_uri": "https://localhost:8080/",
          "height": 564
        },
        "id": "a9Lhkom4vw6B",
        "outputId": "f768dac8-b1e7-446f-d84b-e0dbce65ab62"
      },
      "execution_count": 21,
      "outputs": [
        {
          "output_type": "display_data",
          "data": {
            "text/plain": [
              "<Figure size 1000x600 with 1 Axes>"
            ],
            "image/png": "[encoded data removed]"
          },
          "metadata": {}
        }
      ]
    },
    {
      "cell_type": "code",
      "execution_count": 23,
      "metadata": {
        "id": "C3e5JO6AP3WU"
      },
      "outputs": [],
      "source": [
        "def save_fact_check_accuracy(model_name, similarity_score, output_filename):\n",
        "    # Create a DataFrame with the model name and fact-checking accuracy\n",
        "    new_data = {\n",
        "        'model_name': [model_name],\n",
        "        'fact_check_acc': [similarity_score]\n",
        "    }\n",
        "    new_df = pd.DataFrame(new_data)\n",
        "\n",
        "    # Save the DataFrame to a CSV file\n",
        "    new_df.to_csv(output_filename, index=False)"
      ]
    },
    {
      "cell_type": "code",
      "source": [
        "# Iterate over each model and save fact-checking accuracy\n",
        "for model_name, similarity_score in zip(model_names, similarity_scores):\n",
        "    output_filename = f\"{model_name.lower().replace(' ', '_')}_fact_checking.csv\"\n",
        "    save_fact_check_accuracy(model_name, similarity_score, output_filename)"
      ],
      "metadata": {
        "id": "tLFuRimItKud"
      },
      "execution_count": 25,
      "outputs": []
    },
    {
      "cell_type": "code",
      "source": [
        "df_list = []\n",
        "\n",
        "# Iterate over each model and create DataFrame\n",
        "for model_name, similarity_score in zip(model_names, similarity_scores):\n",
        "    # Create a DataFrame for each model\n",
        "    new_data = {\n",
        "        'model_name': [model_name],\n",
        "        'fact_check_acc': [similarity_score]\n",
        "    }\n",
        "    df = pd.DataFrame(new_data)\n",
        "    df_list.append(df)\n",
        "\n",
        "# Concatenate all DataFrames into one\n",
        "combined_df = pd.concat(df_list, ignore_index=True)\n",
        "\n",
        "# Save the combined DataFrame to a CSV file\n",
        "combined_output_filename = \"combined_fact_checking_scores.csv\"\n",
        "combined_df.to_csv(combined_output_filename, index=False)"
      ],
      "metadata": {
        "id": "AsMcCnl0xDvi"
      },
      "execution_count": 27,
      "outputs": []
    },
    {
      "cell_type": "code",
      "source": [],
      "metadata": {
        "id": "W_7bZN-UxSMu"
      },
      "execution_count": null,
      "outputs": []
    }
  ],
  "metadata": {
    "colab": {
      "provenance": []
    },
    "kernelspec": {
      "display_name": "Python 3",
      "name": "python3"
    },
    "language_info": {
      "name": "python"
    }
  },
  "nbformat": 4,
  "nbformat_minor": 0
}