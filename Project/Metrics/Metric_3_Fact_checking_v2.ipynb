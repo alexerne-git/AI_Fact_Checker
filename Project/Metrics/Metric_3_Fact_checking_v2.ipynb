{
  "cells": [
    {
      "cell_type": "markdown",
      "metadata": {
        "id": "JbXo7jMKJHBW"
      },
      "source": [
        "## **Performance Metrics to evaluate text generating LLMs:**\n",
        "\n",
        "- **Fact checking**\n",
        "\n",
        "In this notebook, we essentially focus on the Fact checking performance metric (more about this on the readme.md file).\n"
      ]
    },
    {
      "cell_type": "markdown",
      "metadata": {
        "id": "aYoVDCPsJMTu"
      },
      "source": [
        "### **Step 1: Generating specific queries + saving results**"
      ]
    },
    {
      "cell_type": "code",
      "execution_count": 13,
      "metadata": {
        "id": "upDoxsvqKcov",
        "ExecuteTime": {
          "end_time": "2024-03-25T20:17:42.930949Z",
          "start_time": "2024-03-25T20:17:40.495900Z"
        }
      },
      "outputs": [],
      "source": [
        "# import libraries\n",
        "import pandas as pd\n",
        "import requests\n",
        "import numpy as np\n",
        "from numpy.linalg import norm\n",
        "import matplotlib.pyplot as plt\n",
        "import math\n",
        "import os"
      ]
    },
    {
      "cell_type": "code",
      "execution_count": 14,
      "metadata": {
        "id": "ZuYIJT12PpfU",
        "ExecuteTime": {
          "end_time": "2024-03-25T20:17:42.939391Z",
          "start_time": "2024-03-25T20:17:42.933803Z"
        }
      },
      "outputs": [],
      "source": [
        "def similarity_metric(array1, array2):\n",
        "    dot_product = np.dot(array1, array2)\n",
        "    norm_array1 = norm(array1)\n",
        "    norm_array2 = norm(array2)\n",
        "    if norm_array1 == 0 or norm_array2 == 0:\n",
        "        return 0  # Return 0 if any of the arrays has zero norm to avoid division by zero\n",
        "    return dot_product / (norm_array1 * norm_array2)\n"
      ]
    },
    {
      "cell_type": "code",
      "execution_count": 15,
      "metadata": {
        "id": "LwhkCtShGwKL",
        "ExecuteTime": {
          "end_time": "2024-03-25T20:17:42.948855Z",
          "start_time": "2024-03-25T20:17:42.943845Z"
        }
      },
      "outputs": [],
      "source": [
        "def similarity_metric2(array1, array2):\n",
        "    accuracy_ratio = [1- (abs((array1[i] - array2[i]) / array1[i])) for i in range(len(array1))]\n",
        "\n",
        "    return sum(accuracy_ratio) / len(accuracy_ratio)"
      ]
    },
    {
      "cell_type": "code",
      "execution_count": 16,
      "metadata": {
        "id": "UKPC8FnHKbcH",
        "ExecuteTime": {
          "end_time": "2024-03-25T20:17:42.958897Z",
          "start_time": "2024-03-25T20:17:42.952437Z"
        }
      },
      "outputs": [],
      "source": [
        "def execute_sparql_query(query):\n",
        "    endpoint_url = \"https://query.wikidata.org/sparql\"\n",
        "    headers = {\n",
        "        'User-Agent': 'Example/1.0 (contact@example.com)',\n",
        "        'Accept': 'application/sparql-results+json'\n",
        "    }\n",
        "    params = {\n",
        "        'query': query,\n",
        "        'format': 'json'\n",
        "    }\n",
        "    response = requests.get(endpoint_url, params=params, headers=headers)\n",
        "    if response.status_code == 200:\n",
        "        results = response.json()\n",
        "        return results\n",
        "    else:\n",
        "        print(\"Error executing SPARQL query:\")\n",
        "        print(response.text)\n",
        "        return None"
      ]
    },
    {
      "cell_type": "code",
      "execution_count": 17,
      "metadata": {
        "colab": {
          "base_uri": "https://localhost:8080/"
        },
        "id": "1y76HJCpJE2e",
        "outputId": "9f53342e-6cfe-4d29-e55d-20afaa60c44f",
        "ExecuteTime": {
          "end_time": "2024-03-25T20:17:43.972575Z",
          "start_time": "2024-03-25T20:17:42.961354Z"
        }
      },
      "outputs": [
        {
          "output_type": "stream",
          "name": "stdout",
          "text": [
            "Answer_1 62\n",
            "Answer_2 300\n"
          ]
        }
      ],
      "source": [
        "# 1. Age of Barack Obama\n",
        "query_1 = \"\"\"\n",
        "SELECT DISTINCT ?age WHERE {\n",
        "  wd:Q76 p:P569 ?birthdateStatement.\n",
        "  ?birthdateStatement ps:P569 ?birthdate.\n",
        "  BIND((YEAR(NOW()) - YEAR(?birthdate)) - IF(MONTH(NOW()) < MONTH(?birthdate) || (MONTH(NOW()) = MONTH(?birthdate) && DAY(NOW()) < DAY(?birthdate)), 1, 0) AS ?age)\n",
        "}\n",
        "\"\"\"\n",
        "results = execute_sparql_query(query_1)\n",
        "answer_1 = int(results['results']['bindings'][0]['age']['value'])\n",
        "print(\"Answer_1\",answer_1)\n",
        "prompt_1 = \"How old is barack obama, please give just the decimal number\"\n",
        "\n",
        "# 2. Height of Eiffel Tower\n",
        "query_2 = \"\"\"\n",
        "SELECT DISTINCT ?height WHERE {\n",
        "  wd:Q243 p:P2048 ?heightStatement.\n",
        "  ?heightStatement ps:P2048 ?height.\n",
        "}\n",
        "\"\"\"\n",
        "results = execute_sparql_query(query_2)\n",
        "answer_2 = int(results['results']['bindings'][0]['height']['value'])\n",
        "print(\"Answer_2\",answer_2)\n",
        "prompt_2 = \"What is the height of the Eiffel Tower, please give just the decimal number\"\n",
        "\n",
        "# 3. Distance from Earth to Mars\n",
        "# ..."
      ]
    },
    {
      "cell_type": "markdown",
      "metadata": {
        "id": "UpWqwW-VOmoj"
      },
      "source": [
        "### **Step 2:From here: re-execute the code for the different Text Generative Models:**"
      ]
    },
    {
      "cell_type": "markdown",
      "metadata": {
        "id": "umiBZ_2JOoaS"
      },
      "source": [
        "**Query the text generating llm with the following prompt:** (copy the document as mentionned: PASTE_DOCUMENTS_HERE)\n",
        "\n",
        "```\n",
        "Please answer the following questions:COPY_QUESTIONS, please answer in the following format: [answer_1,answer_2]\n",
        "```"
      ]
    },
    {
      "cell_type": "code",
      "execution_count": 18,
      "metadata": {
        "colab": {
          "base_uri": "https://localhost:8080/"
        },
        "id": "7lPh_a-vLqFb",
        "outputId": "0d551c24-c8cb-4b43-99e1-190933d589a1",
        "ExecuteTime": {
          "end_time": "2024-03-25T20:17:43.983324Z",
          "start_time": "2024-03-25T20:17:43.977134Z"
        }
      },
      "outputs": [
        {
          "output_type": "stream",
          "name": "stdout",
          "text": [
            "['How old is barack obama, please give just the decimal number', 'What is the height of the Eiffel Tower, please give just the decimal number']\n"
          ]
        }
      ],
      "source": [
        "arr = [prompt_1,prompt_2]\n",
        "print(arr)"
      ]
    },
    {
      "cell_type": "code",
      "execution_count": 19,
      "metadata": {
        "id": "QUlMu8zDOwPC",
        "ExecuteTime": {
          "end_time": "2024-03-25T20:17:43.996945Z",
          "start_time": "2024-03-25T20:17:43.986640Z"
        }
      },
      "outputs": [],
      "source": [
        "ground_truth = [answer_1,answer_2]\n",
        "answers_chatgpt = [62, 330]\n",
        "answers_gemini = [56, 324]\n",
        "answers_mistral = [59, 324]\n",
        "answers_llama = [58, 324]\n",
        "\n",
        "answers = [answers_chatgpt, answers_gemini, answers_mistral, answers_llama]\n",
        "model_names = [\"Chat GPT\", \"Gemini\", \"Mistral\", \"Llama\"]"
      ]
    },
    {
      "cell_type": "code",
      "execution_count": 20,
      "metadata": {
        "colab": {
          "base_uri": "https://localhost:8080/"
        },
        "id": "ZHl2PnhMPcSd",
        "outputId": "d72fd051-1a52-46e7-9329-8a824b0e7a99",
        "ExecuteTime": {
          "end_time": "2024-03-25T20:17:44.025096Z",
          "start_time": "2024-03-25T20:17:44.003817Z"
        }
      },
      "outputs": [
        {
          "output_type": "execute_result",
          "data": {
            "text/plain": [
              "[62, 300]"
            ]
          },
          "metadata": {},
          "execution_count": 20
        }
      ],
      "source": [
        "ground_truth"
      ]
    },
    {
      "cell_type": "code",
      "execution_count": 21,
      "metadata": {
        "id": "D-4vMGaJPMiq",
        "ExecuteTime": {
          "end_time": "2024-03-25T20:17:44.034104Z",
          "start_time": "2024-03-25T20:17:44.028358Z"
        }
      },
      "outputs": [],
      "source": [
        "array1 = np.array(ground_truth)\n",
        "\n",
        "similarity_scores = []\n",
        "\n",
        "for answer in answers:\n",
        "  array2 = np.array(answer)\n",
        "\n",
        "  similarity_scores.append(round(similarity_metric2(array1, array2),2))"
      ]
    },
    {
      "cell_type": "code",
      "source": [
        "def save_scores(model_names, similarity_scores):\n",
        "    # Create the \"Outputs/3\" folder if it doesn't exist\n",
        "    output_folder = os.path.join(\"Outputs\", \"3\")\n",
        "    if not os.path.exists(output_folder):\n",
        "        os.makedirs(output_folder)\n",
        "\n",
        "    # Save individual fact-checking accuracies for each model\n",
        "    for model_name, similarity_score in zip(model_names, similarity_scores):\n",
        "        # Create DataFrame for individual model fact-checking accuracy\n",
        "        new_data = {\n",
        "            'model_name': [model_name],\n",
        "            'fact_check_acc': [similarity_score]\n",
        "        }\n",
        "        new_df = pd.DataFrame(new_data)\n",
        "\n",
        "        # Save the DataFrame to a CSV file in the \"Outputs/3\" folder\n",
        "        output_filename = f\"{model_name.lower().replace(' ', '_')}.csv\"\n",
        "        output_path = os.path.join(output_folder, output_filename)\n",
        "        new_df.to_csv(output_path, index=False)\n",
        "\n",
        "    # Create DataFrame for combined fact-checking accuracies\n",
        "    combined_df = pd.DataFrame(columns=[\"model_name\", \"fact_check_acc\"])\n",
        "\n",
        "    for model_name, similarity_score in zip(model_names, similarity_scores):\n",
        "        combined_df = pd.concat([combined_df, pd.DataFrame({\"model_name\": [model_name],\n",
        "                                                            \"fact_check_acc\": [similarity_score]})],\n",
        "                                ignore_index=True)\n",
        "\n",
        "    # Save the combined DataFrame to a CSV file in the \"Outputs/3\" folder\n",
        "    combined_output_filename = \"Combined.csv\"\n",
        "    combined_output_path = os.path.join(output_folder, combined_output_filename)\n",
        "    combined_df.to_csv(combined_output_path, index=False)"
      ],
      "metadata": {
        "id": "W_7bZN-UxSMu",
        "ExecuteTime": {
          "end_time": "2024-03-25T20:17:44.474508Z",
          "start_time": "2024-03-25T20:17:44.472180Z"
        }
      },
      "execution_count": 29,
      "outputs": []
    },
    {
      "cell_type": "code",
      "source": [
        "# Create bar plot\n",
        "plt.figure(figsize=(10, 6))\n",
        "plt.bar(model_names, similarity_scores)\n",
        "\n",
        "# Add labels and title\n",
        "plt.xlabel('Models')\n",
        "plt.ylabel('Sentiment Accuracy')\n",
        "plt.title('Factual Accuracy for Different Models')\n",
        "\n",
        "# Show plot\n",
        "plt.show()\n",
        "\n",
        "# Save plot\n",
        "output_folder = os.path.join(\"Outputs\", \"3\")\n",
        "plot_output_path = os.path.join(output_folder, \"Output.png\")\n",
        "plt.savefig(plot_output_path)"
      ],
      "metadata": {
        "colab": {
          "base_uri": "https://localhost:8080/",
          "height": 601
        },
        "id": "a9Lhkom4vw6B",
        "outputId": "d8c0da8a-4cf8-4b10-a80a-6cdf00a95427",
        "ExecuteTime": {
          "end_time": "2024-03-25T20:17:44.427482Z",
          "start_time": "2024-03-25T20:17:44.036794Z"
        }
      },
      "execution_count": 31,
      "outputs": [
        {
          "output_type": "display_data",
          "data": {
            "text/plain": [
              "<Figure size 1000x600 with 1 Axes>"
            ],
            "image/png": "[encoded data removed]"
          },
          "metadata": {}
        },
        {
          "output_type": "display_data",
          "data": {
            "text/plain": [
              "<Figure size 640x480 with 0 Axes>"
            ]
          },
          "metadata": {}
        }
      ]
    },
    {
      "cell_type": "code",
      "source": [
        "save_scores(model_names, similarity_scores)"
      ],
      "metadata": {
        "id": "e1m_jlp0cYJX"
      },
      "execution_count": 30,
      "outputs": []
    },
    {
      "cell_type": "code",
      "source": [],
      "metadata": {
        "id": "14gZiMxpcaCS"
      },
      "execution_count": null,
      "outputs": []
    }
  ],
  "metadata": {
    "colab": {
      "provenance": []
    },
    "kernelspec": {
      "name": "python3",
      "language": "python",
      "display_name": "Python 3"
    },
    "language_info": {
      "name": "python"
    }
  },
  "nbformat": 4,
  "nbformat_minor": 0
}