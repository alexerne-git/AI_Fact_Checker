{
 "cells": [
  {
   "metadata": {
    "ExecuteTime": {
     "end_time": "2024-04-10T14:58:39.975258Z",
     "start_time": "2024-04-10T14:58:39.970003Z"
    }
   },
   "cell_type": "code",
   "source": [
    "import os\n",
    "import pandas as pd"
   ],
   "id": "5d37df4e2f9fa9a9",
   "outputs": [],
   "execution_count": 6
  },
  {
   "cell_type": "code",
   "id": "initial_id",
   "metadata": {
    "collapsed": true,
    "ExecuteTime": {
     "end_time": "2024-04-10T14:58:40.558647Z",
     "start_time": "2024-04-10T14:58:40.546918Z"
    }
   },
   "source": [
    "def combine():\n",
    "    # Get the list of folders within the \"Outputs\" directory\n",
    "    output_folder = \"Outputs\"\n",
    "    folder_names = [folder for folder in os.listdir(output_folder) if os.path.isdir(os.path.join(output_folder, folder))]\n",
    "\n",
    "    # Initialize an empty DataFrame to store the combined results\n",
    "    combined_df = pd.DataFrame()\n",
    "\n",
    "    # Iterate over each folder\n",
    "    for folder_name in folder_names:\n",
    "        folder_path = os.path.join(output_folder, folder_name)\n",
    "        combined_file_path = os.path.join(folder_path, \"Combined.csv\")\n",
    "        # Check if the combined file exists\n",
    "        if os.path.exists(combined_file_path):\n",
    "            # Read the combined file into a DataFrame\n",
    "            df = pd.read_csv(combined_file_path)\n",
    "            # Merge the DataFrames on model_name\n",
    "            if not combined_df.empty:\n",
    "                combined_df = pd.merge(combined_df, df, on=\"model_name\", how=\"outer\")\n",
    "            else:\n",
    "                combined_df = df\n",
    "\n",
    "    # Save the combined DataFrame to a CSV file\n",
    "    combined_output_filename = \"Combined_All.csv\"\n",
    "    combined_output_path = os.path.join(output_folder, combined_output_filename)\n",
    "    combined_df.to_csv(combined_output_path, index=False)"
   ],
   "outputs": [],
   "execution_count": 7
  },
  {
   "metadata": {
    "ExecuteTime": {
     "end_time": "2024-04-10T14:58:42.317269Z",
     "start_time": "2024-04-10T14:58:42.186468Z"
    }
   },
   "cell_type": "code",
   "source": [
    "# Call the function to combine the CSV files\n",
    "combine()"
   ],
   "id": "30f3ea6d2ffa6874",
   "outputs": [],
   "execution_count": 8
  },
  {
   "metadata": {},
   "cell_type": "code",
   "outputs": [],
   "execution_count": null,
   "source": "",
   "id": "6a95763fca56d992"
  }
 ],
 "metadata": {
  "kernelspec": {
   "display_name": "Python 3",
   "language": "python",
   "name": "python3"
  },
  "language_info": {
   "codemirror_mode": {
    "name": "ipython",
    "version": 2
   },
   "file_extension": ".py",
   "mimetype": "text/x-python",
   "name": "python",
   "nbconvert_exporter": "python",
   "pygments_lexer": "ipython2",
   "version": "2.7.6"
  }
 },
 "nbformat": 4,
 "nbformat_minor": 5
}
