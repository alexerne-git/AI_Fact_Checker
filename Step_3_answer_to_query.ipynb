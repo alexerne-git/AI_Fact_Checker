{
 "cells": [
  {
   "cell_type": "markdown",
   "metadata": {},
   "source": [
    "### **Method 1: prompt engineering** This is the more simple method, where we explicitely ask to chatGPT the formatted query"
   ]
  },
  {
   "cell_type": "code",
   "execution_count": 10,
   "metadata": {},
   "outputs": [],
   "source": [
    "# Define the function to extract the query from the propmt\n",
    "def extract_president_info(sentence):\n",
    "    # Find the index of \"QUERY HERE\"\n",
    "    query_index = sentence.find(\"QUERY HERE\")\n",
    "\n",
    "    if query_index == -1:\n",
    "        return None\n",
    "\n",
    "    # Extract the substring after \"QUERY HERE\"\n",
    "    info_str = sentence[query_index + len(\"QUERY HERE\"):].strip()\n",
    "\n",
    "    # Remove the outer double quotes and split the information string to extract individual components\n",
    "    parts = [part.strip() for part in info_str.strip('\"').split('\", \"')]\n",
    "    \n",
    "    # Assigning variables\n",
    "    if len(parts) == 3:\n",
    "        president_name, pres_num, begin_office = parts\n",
    "        end_office = None\n",
    "    elif len(parts) == 4:\n",
    "        president_name, pres_num, begin_office, end_office = parts\n",
    "    else:\n",
    "        raise ValueError(\"Invalid format\")\n",
    "\n",
    "    return president_name, pres_num, begin_office, end_office"
   ]
  },
  {
   "cell_type": "code",
   "execution_count": 5,
   "metadata": {},
   "outputs": [],
   "source": [
    "# We add to all the following lines the query string\n",
    "answer_to_query = \"\"\"\n",
    "Notice: For the answer, please just write the answer, then please add at the end of the answer in plain text - not python: \"QUERY HERE\" and add below the answer in the format:\n",
    "\"president name\", \"number of the president in the list of president\", \"Year of begin office\", \"Year of end office\" (for the number of the president, just the number without suffixe). Please also use the same name used in the query.\n",
    "\"\"\" "
   ]
  },
  {
   "cell_type": "markdown",
   "metadata": {},
   "source": [
    "#### Example 1: Barack Obama"
   ]
  },
  {
   "cell_type": "code",
   "execution_count": 6,
   "metadata": {},
   "outputs": [
    {
     "name": "stdout",
     "output_type": "stream",
     "text": [
      "From when to when was Barack Obama the president of the United States?\n",
      "Notice: For the answer, please just write the answer, then please add at the end of the answer in plain text - not python: \"QUERY HERE\" and add below the answer in the format:\n",
      "\"president name\", \"number of the president in the list of president\", \"Year of begin office\", \"Year of end office\" (for the number of the president, just the number without suffixe). Please also use the same name used in the query.\n",
      "\n"
     ]
    }
   ],
   "source": [
    "question_1 = \"From when to when was Barack Obama the president of the United States?\"+answer_to_query\n",
    "# Extract the answer from ChatGPT's response\n",
    "print(question_1)"
   ]
  },
  {
   "cell_type": "code",
   "execution_count": 25,
   "metadata": {},
   "outputs": [
    {
     "name": "stdout",
     "output_type": "stream",
     "text": [
      "President Name: Barack Obama\n",
      "President Number: 44\n",
      "Begin Office: 2009\n",
      "End Office: 2017\n"
     ]
    }
   ],
   "source": [
    "input_sentence = \"\"\"\n",
    "Barack Obama was the President of the United States from January 20, 2009, to January 20, 2017.\n",
    "QUERY HERE\n",
    "\"Barack Obama\", \"44\", \"2009\", \"2017\"\n",
    "\"\"\"\n",
    "\"\"\"\n",
    "Barack Obama was the 44th president of the United States, and he served from January 20, 2009, to January 20, 2017.\n",
    "QUERY HERE\n",
    "\"Barack Obama\", \"44\", \"2009\", \"2017\"\n",
    "\n",
    "\"\"\"\n",
    "\n",
    "result = extract_president_info(input_sentence)\n",
    "\n",
    "if result:\n",
    "    president_name, pres_num, begin_office, end_office = result\n",
    "    print(\"President Name:\", president_name)\n",
    "    print(\"President Number:\", pres_num)\n",
    "    print(\"Begin Office:\", begin_office)\n",
    "    print(\"End Office:\", end_office)\n",
    "else:\n",
    "    print(\"Error: 'QUERY HERE' not found in the input sentence.\")"
   ]
  },
  {
   "cell_type": "markdown",
   "metadata": {},
   "source": [
    "#### Example 2: William (Bill) Clinton"
   ]
  },
  {
   "cell_type": "code",
   "execution_count": 7,
   "metadata": {},
   "outputs": [
    {
     "name": "stdout",
     "output_type": "stream",
     "text": [
      "From when to when was William (Bill) Clinton the president of the United States?\n",
      "Notice: For the answer, please just write the answer, then please add at the end of the answer in plain text - not python: \"QUERY HERE\" and add below the answer in the format:\n",
      "\"president name\", \"number of the president in the list of president\", \"Year of begin office\", \"Year of end office\" (for the number of the president, just the number without suffixe). Please also use the same name used in the query.\n",
      "\n"
     ]
    }
   ],
   "source": [
    "question_1 = \"From when to when was William (Bill) Clinton the president of the United States?\"+answer_to_query\n",
    "# Extract the answer from ChatGPT's response\n",
    "print(question_1)"
   ]
  },
  {
   "cell_type": "code",
   "execution_count": 27,
   "metadata": {},
   "outputs": [
    {
     "name": "stdout",
     "output_type": "stream",
     "text": [
      "President Name: William (Bill) Clinton\n",
      "President Number: 42\n",
      "Begin Office: 1993\n",
      "End Office: 2001\n"
     ]
    }
   ],
   "source": [
    "\n",
    "input_sentence = \"\"\"\n",
    "William (Bill) Clinton was the President of the United States from January 20, 1993, to January 20, 2001.\n",
    "QUERY HERE\n",
    "\"William (Bill) Clinton\", \"42\", \"1993\", \"2001\"\n",
    "\"\"\"\n",
    "result = extract_president_info(input_sentence)\n",
    "\n",
    "if result:\n",
    "    president_name, pres_num, begin_office, end_office = result\n",
    "    print(\"President Name:\", president_name)\n",
    "    print(\"President Number:\", pres_num)\n",
    "    print(\"Begin Office:\", begin_office)\n",
    "    print(\"End Office:\", end_office)\n",
    "else:\n",
    "    print(\"Error: 'QUERY HERE' not found in the input sentence.\")"
   ]
  },
  {
   "cell_type": "markdown",
   "metadata": {},
   "source": [
    "#### Example 3: George W Bush "
   ]
  },
  {
   "cell_type": "code",
   "execution_count": 8,
   "metadata": {},
   "outputs": [
    {
     "name": "stdout",
     "output_type": "stream",
     "text": [
      "From when to when was George W. Bush the president of the United States?\n",
      "Notice: For the answer, please just write the answer, then please add at the end of the answer in plain text - not python: \"QUERY HERE\" and add below the answer in the format:\n",
      "\"president name\", \"number of the president in the list of president\", \"Year of begin office\", \"Year of end office\" (for the number of the president, just the number without suffixe). Please also use the same name used in the query.\n",
      "\n"
     ]
    }
   ],
   "source": [
    "question_1 = \"From when to when was George W. Bush the president of the United States?\"+answer_to_query\n",
    "# Extract the answer from ChatGPT's response\n",
    "print(question_1)"
   ]
  },
  {
   "cell_type": "code",
   "execution_count": 29,
   "metadata": {},
   "outputs": [
    {
     "name": "stdout",
     "output_type": "stream",
     "text": [
      "President Name: George W. Bush\n",
      "President Number: 43\n",
      "Begin Office: 2001\n",
      "End Office: 2009\n"
     ]
    }
   ],
   "source": [
    "\n",
    "input_sentence = \"\"\"\n",
    "George W. Bush was the President of the United States from January 20, 2001, to January 20, 2009.\n",
    "QUERY HERE\n",
    "\"George W. Bush\", \"43\", \"2001\", \"2009\"\n",
    "\"\"\"\n",
    "result = extract_president_info(input_sentence)\n",
    "\n",
    "if result:\n",
    "    president_name, pres_num, begin_office, end_office = result\n",
    "    print(\"President Name:\", president_name)\n",
    "    print(\"Begin Office:\", begin_office)\n",
    "    print(\"End Office:\", end_office)\n",
    "else:\n",
    "    print(\"Error: 'QUERY HERE' not found in the input sentence.\")"
   ]
  },
  {
   "cell_type": "markdown",
   "metadata": {},
   "source": [
    "**Limitations:** Names: work can be done with names - i.e: if we write William (Bill) Clinton, chatGPT will answer Bill Clinton"
   ]
  },
  {
   "cell_type": "markdown",
   "metadata": {},
   "source": [
    "### **Method 2: Name Entity Resolution** We will use NER from spacy to try to create the formatted query. "
   ]
  },
  {
   "cell_type": "code",
   "execution_count": 37,
   "metadata": {},
   "outputs": [],
   "source": [
    "## Install Libraries\n",
    "# !pip install spacy\n",
    "# !python -m spacy download en_core_web_sm"
   ]
  },
  {
   "cell_type": "code",
   "execution_count": 53,
   "metadata": {},
   "outputs": [],
   "source": [
    "import spacy\n",
    "import re\n",
    "\n",
    "def extract_president_info(text):\n",
    "    nlp = spacy.load(\"en_core_web_sm\")\n",
    "    doc = nlp(text)\n",
    "\n",
    "    president_name = None\n",
    "    begin_office = None\n",
    "    end_office = None\n",
    "\n",
    "    # Extract entities\n",
    "    for ent in doc.ents:\n",
    "        if ent.label_ == \"PERSON\":\n",
    "            president_name = ent.text\n",
    "        elif ent.label_ == \"DATE\":\n",
    "            if not begin_office:\n",
    "                begin_office = ent.text\n",
    "            else:\n",
    "                end_office = ent.text\n",
    "\n",
    "\n",
    "    # Format the year part of the date\n",
    "    begin_year_match = re.search(r\"\\d{4}\", begin_office)\n",
    "    begin_year = begin_year_match.group() if begin_year_match else None\n",
    "\n",
    "    end_year_match = re.search(r\"\\d{4}\", end_office)\n",
    "    end_year = end_year_match.group() if end_year_match else None\n",
    "\n",
    "    return president_name, begin_year, end_year"
   ]
  },
  {
   "cell_type": "markdown",
   "metadata": {},
   "source": [
    "#### Example 1: Barack Obama"
   ]
  },
  {
   "cell_type": "code",
   "execution_count": 56,
   "metadata": {},
   "outputs": [
    {
     "name": "stdout",
     "output_type": "stream",
     "text": [
      "From when to when was Barack Obama the president of the United States?\n"
     ]
    }
   ],
   "source": [
    "question_1 = \"From when to when was Barack Obama the president of the United States?\"\n",
    "print(question_1)"
   ]
  },
  {
   "cell_type": "code",
   "execution_count": 62,
   "metadata": {},
   "outputs": [
    {
     "name": "stdout",
     "output_type": "stream",
     "text": [
      "('Barack Obama', '2009', '2017')\n"
     ]
    }
   ],
   "source": [
    "answer_to_query = \"Barack Obama was the President of the United States from January 20, 2009, to January 20, 2017.\"\n",
    "result = extract_president_info(answer_to_query)\n",
    "\n",
    "if result:\n",
    "    print(result)\n",
    "else:\n",
    "    print(\"Information not found.\")"
   ]
  },
  {
   "cell_type": "markdown",
   "metadata": {},
   "source": [
    "#### Example 2: William (Bill) Clinton"
   ]
  },
  {
   "cell_type": "code",
   "execution_count": 63,
   "metadata": {},
   "outputs": [
    {
     "name": "stdout",
     "output_type": "stream",
     "text": [
      "From when to when was William (Bill) Clinton the president of the United States?\n"
     ]
    }
   ],
   "source": [
    "question_1 = \"From when to when was William (Bill) Clinton the president of the United States?\"\n",
    "print(question_1)"
   ]
  },
  {
   "cell_type": "code",
   "execution_count": 64,
   "metadata": {},
   "outputs": [
    {
     "name": "stdout",
     "output_type": "stream",
     "text": [
      "('Clinton', '1993', '2001')\n"
     ]
    }
   ],
   "source": [
    "answer_to_query = \"William (Bill) Clinton was the President of the United States from January 20, 1993, to January 20, 2001.\"\n",
    "result = extract_president_info(answer_to_query)\n",
    "\n",
    "if result:\n",
    "    print(result)\n",
    "else:\n",
    "    print(\"Information not found.\")"
   ]
  },
  {
   "cell_type": "markdown",
   "metadata": {},
   "source": [
    "#### Example 3: George W Bush "
   ]
  },
  {
   "cell_type": "code",
   "execution_count": 65,
   "metadata": {},
   "outputs": [
    {
     "name": "stdout",
     "output_type": "stream",
     "text": [
      "From when to when was George W. Bush the president of the United States?\n"
     ]
    }
   ],
   "source": [
    "question_1 = \"From when to when was George W. Bush the president of the United States?\"\n",
    "print(question_1)"
   ]
  },
  {
   "cell_type": "code",
   "execution_count": 66,
   "metadata": {},
   "outputs": [
    {
     "name": "stdout",
     "output_type": "stream",
     "text": [
      "('George W. Bush', '2001', '2009')\n"
     ]
    }
   ],
   "source": [
    "answer_to_query = \"George W. Bush was the President of the United States from January 20, 2001, to January 20, 2009.\"\n",
    "result = extract_president_info(answer_to_query)\n",
    "\n",
    "if result:\n",
    "    print(result)\n",
    "else:\n",
    "    print(\"Information not found.\")"
   ]
  },
  {
   "cell_type": "markdown",
   "metadata": {},
   "source": [
    "**Limitations:** Need to be careful not adding too much info or not enough info in the question, i.e: if we ask the question chatGPT might answer differently, i.e: adding or not the president number"
   ]
  }
 ],
 "metadata": {
  "kernelspec": {
   "display_name": ".venv",
   "language": "python",
   "name": "python3"
  },
  "language_info": {
   "codemirror_mode": {
    "name": "ipython",
    "version": 3
   },
   "file_extension": ".py",
   "mimetype": "text/x-python",
   "name": "python",
   "nbconvert_exporter": "python",
   "pygments_lexer": "ipython3",
   "version": "3.12.0"
  }
 },
 "nbformat": 4,
 "nbformat_minor": 2
}
