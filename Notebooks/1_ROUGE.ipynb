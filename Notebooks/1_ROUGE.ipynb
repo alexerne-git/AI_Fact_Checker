{
  "cells": [
    {
      "cell_type": "markdown",
      "metadata": {
        "id": "1qRubwEUMVvk"
      },
      "source": [
        "## **ROUGE:** Compares quality / similarity between reference and generated summary\n",
        "\n",
        "In this notebook, we essentially focus on the ROUGE performance metric (more about this on the readme.md file). The code should also work from **Step 4:** Compress all in 1 function."
      ]
    },
    {
      "cell_type": "markdown",
      "metadata": {
        "id": "S-_7jxWgqwUq"
      },
      "source": [
        "### **Steps to run this Notebook:**\n",
        "\n",
        "- **Step 1:** Download the libraries & Load the data\n",
        "- **Step 2:** Prompt the text generative LLM - using the prompt given below\n",
        "- **Step 3:** Adding the summary to the pandas df to execute results & download\n",
        "- **Step 4:** Compress all in 1 function"
      ]
    },
    {
      "cell_type": "markdown",
      "metadata": {
        "id": "ZxQIEidYupbm"
      },
      "source": [
        "### **Step 1:** Download the libraries & Load the data"
      ]
    },
    {
      "cell_type": "code",
      "execution_count": null,
      "metadata": {
        "id": "xrH5DZqrDJIO"
      },
      "outputs": [],
      "source": [
        "# Install datasets and rouge-score\n",
        "# !pip install datasets - don't need unless we want to gen. new summaries\n",
        "!pip install rouge-score"
      ]
    },
    {
      "cell_type": "code",
      "execution_count": 75,
      "metadata": {
        "id": "fHaO_GAhDEG_"
      },
      "outputs": [],
      "source": [
        "# Importing Libraries\n",
        "#from datasets import load_dataset\n",
        "#from transformers import pipeline\n",
        "from rouge_score import rouge_scorer\n",
        "import pandas as pd"
      ]
    },
    {
      "cell_type": "code",
      "execution_count": null,
      "metadata": {
        "id": "tkD5V5uRDFag"
      },
      "outputs": [],
      "source": [
        "# Keep below to generate other samples\n",
        "xsum_dataset = load_dataset(\"xsum\", version=\"1.2.0\")\n",
        "xsum_sample = xsum_dataset[\"test\"].select(range(10)) # or use train \n",
        "xsum_sample = xsum_sample.to_csv(\"dataset_sample_summaries_v2.csv\")"
      ]
    },
    {
      "cell_type": "code",
      "execution_count": 77,
      "metadata": {
        "id": "VlZpkGEL8yFx"
      },
      "outputs": [],
      "source": [
        "# Load the dataset\n",
        "xsum_sample = pd.read_csv(\"./content/dataset_sample_summaries_v2.csv\") # delete . if on colab"
      ]
    },
    {
      "cell_type": "code",
      "execution_count": 78,
      "metadata": {},
      "outputs": [
        {
          "data": {
            "text/html": [
              "<div>\n",
              "<style scoped>\n",
              "    .dataframe tbody tr th:only-of-type {\n",
              "        vertical-align: middle;\n",
              "    }\n",
              "\n",
              "    .dataframe tbody tr th {\n",
              "        vertical-align: top;\n",
              "    }\n",
              "\n",
              "    .dataframe thead th {\n",
              "        text-align: right;\n",
              "    }\n",
              "</style>\n",
              "<table border=\"1\" class=\"dataframe\">\n",
              "  <thead>\n",
              "    <tr style=\"text-align: right;\">\n",
              "      <th></th>\n",
              "      <th>document</th>\n",
              "      <th>summary</th>\n",
              "      <th>id</th>\n",
              "    </tr>\n",
              "  </thead>\n",
              "  <tbody>\n",
              "    <tr>\n",
              "      <th>0</th>\n",
              "      <td>Prison Link Cymru had 1,099 referrals in 2015-...</td>\n",
              "      <td>There is a \"chronic\" need for more housing for...</td>\n",
              "      <td>38264402</td>\n",
              "    </tr>\n",
              "    <tr>\n",
              "      <th>1</th>\n",
              "      <td>Officers searched properties in the Waterfront...</td>\n",
              "      <td>A man has appeared in court after firearms, am...</td>\n",
              "      <td>34227252</td>\n",
              "    </tr>\n",
              "    <tr>\n",
              "      <th>2</th>\n",
              "      <td>Jordan Hill, Brittany Covington and Tesfaye Co...</td>\n",
              "      <td>Four people accused of kidnapping and torturin...</td>\n",
              "      <td>38537698</td>\n",
              "    </tr>\n",
              "    <tr>\n",
              "      <th>3</th>\n",
              "      <td>The 48-year-old former Arsenal goalkeeper play...</td>\n",
              "      <td>West Brom have appointed Nicky Hammond as tech...</td>\n",
              "      <td>36175342</td>\n",
              "    </tr>\n",
              "    <tr>\n",
              "      <th>4</th>\n",
              "      <td>Restoring the function of the organ - which he...</td>\n",
              "      <td>The pancreas can be triggered to regenerate it...</td>\n",
              "      <td>39070183</td>\n",
              "    </tr>\n",
              "    <tr>\n",
              "      <th>5</th>\n",
              "      <td>But there certainly should be.\\nThese are two ...</td>\n",
              "      <td>Since their impending merger was announced in ...</td>\n",
              "      <td>38899892</td>\n",
              "    </tr>\n",
              "    <tr>\n",
              "      <th>6</th>\n",
              "      <td>Media playback is not supported on this device...</td>\n",
              "      <td>A \"medal at any cost\" approach created a \"cult...</td>\n",
              "      <td>39339718</td>\n",
              "    </tr>\n",
              "    <tr>\n",
              "      <th>7</th>\n",
              "      <td>It's no joke. But Kareem Badr says people did ...</td>\n",
              "      <td>Have you heard the one about the computer prog...</td>\n",
              "      <td>34571446</td>\n",
              "    </tr>\n",
              "    <tr>\n",
              "      <th>8</th>\n",
              "      <td>Relieved that the giant telecoms company would...</td>\n",
              "      <td>The reaction from BT's investors told us much ...</td>\n",
              "      <td>36892983</td>\n",
              "    </tr>\n",
              "    <tr>\n",
              "      <th>9</th>\n",
              "      <td>\"I'm really looking forward to it - the home o...</td>\n",
              "      <td>Manager Brendan Rodgers is sure Celtic can exp...</td>\n",
              "      <td>37732028</td>\n",
              "    </tr>\n",
              "  </tbody>\n",
              "</table>\n",
              "</div>"
            ],
            "text/plain": [
              "                                            document  \\\n",
              "0  Prison Link Cymru had 1,099 referrals in 2015-...   \n",
              "1  Officers searched properties in the Waterfront...   \n",
              "2  Jordan Hill, Brittany Covington and Tesfaye Co...   \n",
              "3  The 48-year-old former Arsenal goalkeeper play...   \n",
              "4  Restoring the function of the organ - which he...   \n",
              "5  But there certainly should be.\\nThese are two ...   \n",
              "6  Media playback is not supported on this device...   \n",
              "7  It's no joke. But Kareem Badr says people did ...   \n",
              "8  Relieved that the giant telecoms company would...   \n",
              "9  \"I'm really looking forward to it - the home o...   \n",
              "\n",
              "                                             summary        id  \n",
              "0  There is a \"chronic\" need for more housing for...  38264402  \n",
              "1  A man has appeared in court after firearms, am...  34227252  \n",
              "2  Four people accused of kidnapping and torturin...  38537698  \n",
              "3  West Brom have appointed Nicky Hammond as tech...  36175342  \n",
              "4  The pancreas can be triggered to regenerate it...  39070183  \n",
              "5  Since their impending merger was announced in ...  38899892  \n",
              "6  A \"medal at any cost\" approach created a \"cult...  39339718  \n",
              "7  Have you heard the one about the computer prog...  34571446  \n",
              "8  The reaction from BT's investors told us much ...  36892983  \n",
              "9  Manager Brendan Rodgers is sure Celtic can exp...  37732028  "
            ]
          },
          "execution_count": 78,
          "metadata": {},
          "output_type": "execute_result"
        }
      ],
      "source": [
        "xsum_sample"
      ]
    },
    {
      "cell_type": "code",
      "execution_count": 79,
      "metadata": {
        "colab": {
          "base_uri": "https://localhost:8080/",
          "height": 380
        },
        "id": "qi3q_SpiDGt3",
        "outputId": "3189a444-633f-4361-db63-20ed22240bf5"
      },
      "outputs": [
        {
          "name": "stdout",
          "output_type": "stream",
          "text": [
            "(10, 3)\n"
          ]
        }
      ],
      "source": [
        "print(xsum_sample.shape)"
      ]
    },
    {
      "cell_type": "code",
      "execution_count": 80,
      "metadata": {
        "colab": {
          "base_uri": "https://localhost:8080/"
        },
        "id": "jdalf54Pumjv",
        "outputId": "d842a328-66c7-4521-9400-670d60e35c1e"
      },
      "outputs": [
        {
          "name": "stdout",
          "output_type": "stream",
          "text": [
            "0    Prison Link Cymru had 1,099 referrals in 2015-...\n",
            "1    Officers searched properties in the Waterfront...\n",
            "2    Jordan Hill, Brittany Covington and Tesfaye Co...\n",
            "3    The 48-year-old former Arsenal goalkeeper play...\n",
            "4    Restoring the function of the organ - which he...\n",
            "5    But there certainly should be.\\nThese are two ...\n",
            "6    Media playback is not supported on this device...\n",
            "7    It's no joke. But Kareem Badr says people did ...\n",
            "8    Relieved that the giant telecoms company would...\n",
            "9    \"I'm really looking forward to it - the home o...\n",
            "Name: document, dtype: object\n"
          ]
        }
      ],
      "source": [
        "document_array = xsum_sample['document']\n",
        "print(document_array)"
      ]
    },
    {
      "cell_type": "markdown",
      "metadata": {
        "id": "D3BgT9XwubbD"
      },
      "source": [
        "### **Step 2:** Prompt the text generative LLM - using the prompt given below\n"
      ]
    },
    {
      "cell_type": "markdown",
      "metadata": {
        "id": "lX8KvhqLrdio"
      },
      "source": [
        "**Query the text generating llm with the following prompt:** (copy the document as mentionned: PASTE_DOCUMENTS_HERE)\n",
        "\n",
        "```\n",
        "Please generate a summary in one line (max 25 words) for each of the following documents: PASTE_DOCUMENTS_HERE\n",
        "```\n",
        "```\n",
        ", please just return the answer as the following: results={\"generated_summary\":[\"\",\"\",\"\",\"\",\"\"]}\n",
        "```"
      ]
    },
    {
      "cell_type": "code",
      "execution_count": 81,
      "metadata": {},
      "outputs": [],
      "source": [
        "## Example below\n",
        "\n",
        "# Please generate a summary in one line (max 25 words) for each of the following documents: PASTE_DOCUMENTS_HERE\n",
        "\n",
        "# 0    'Prison Link Cymru had 1,099 referrals in 2015-16 and said some ex-offenders were living rough for up to a year before finding suitable accommodation.\\nWorkers at the charity claim investment in housing would be cheaper than jailing homeless repeat offenders.\\nThe Welsh Government said more people than ever were getting help to address housing problems.\\nChanges to the Housing Act in Wales, introduced in 2015, removed the right for prison leavers to be given priority for accommodation.\\nPrison Link Cymru, which helps people find accommodation after their release, said things were generally good for women because issues such as children or domestic violence were now considered.\\nHowever, the same could not be said for men, the charity said, because issues which often affect them, such as post traumatic stress disorder or drug dependency, were often viewed as less of a priority.\\nAndrew Stevens, who works in Welsh prisons trying to secure housing for prison leavers, said the need for accommodation was \"chronic\".\\n\"There\\'s a desperate need for it, finding suitable accommodation for those leaving prison there is just a lack of it everywhere,\" he said.\\n\"It could take six months to a year, without a lot of help they could be on the streets for six months.\\n\"When you think of the consequences of either being on the street, especially with the cold weather at the moment or you may have a roof over your head, sometimes there is only one choice.\"\\nMr Stevens believes building more one-bedroom flats could help ease the problem.\\n\"The average price is a hundred pounds a week to keep someone in a rented flat, prison is a lot more than that so I would imagine it would save the public purse quite a few pounds,\" he said.\\nOfficial figures show 830 one-bedroom properties were built in the year to March 2016, of an overall total of 6,900 new properties in Wales.\\nMarc, 50, who has been in and out of prison for the past 20 years for burglary offences, said he struggled to find accommodation each time he was released.\\nHe said he would ask himself: \"Where am I going to stay? Where am I going to live? Have I got somewhere where I can see my daughter.\"\\n\"You\\'re put out among the same sort of people doing the same sort of thing, and it\\'s difficult, it\\'s difficult to get away from it. It\\'s like every man for himself, there\\'s nothing.\"\\nMarc has now found stable accommodation with homeless charity Emmaus and said it had been life changing.\\n\"You feel safe, you got hot food, you\\'ve got company of people in similar situations to yourself but all dealing with different issues. It\\'s a constructive, helpful atmosphere,\" he said.\\nTom Clarke, chief executive of Emmaus South Wales, agreed there was not enough support available.\\n\"We do still see [people] homeless on the streets, so clearly they haven\\'t got accommodation and haven\\'t got provision,\" he said.\\n\"I think the key is connecting people with the services they need. I don\\'t delude myself that Emmaus can offer a one size fits all for everyone, we can\\'t.\\n\"But there must be other opportunities and given suitable encouragement I believe that can and should happen.\"\\nA Welsh Government spokesman said the national pathway for homeless services to children, young people and adults in the secure estate had prevented many people from losing their home whilst serving their prison sentence.\\nIt added there were already significant demands for one-bedroom flats across the public and private sector and it was providing 20,000 new affordable homes in the next five years.'\n",
        "# 1    'Officers searched properties in the Waterfront Park and Colonsay View areas of the city on Wednesday.\\nDetectives said three firearms, ammunition and a five-figure sum of money were recovered.\\nA 26-year-old man who was arrested and charged appeared at Edinburgh Sheriff Court on Thursday.'\n",
        "# 2    'Jordan Hill, Brittany Covington and Tesfaye Cooper, all 18, and Tanishia Covington, 24, appeared in a Chicago court on Friday.\\nThe four have been charged with hate crimes and aggravated kidnapping and battery, among other things.\\nAn online fundraiser for their victim has collected $51,000 (Â£42,500) so far.\\nDenying the four suspects bail, Judge Maria Kuriakos Ciesil asked: \"Where was your sense of decency?\"\\nProsecutors told the court the beating started in a van and continued at a house, where the suspects allegedly forced the 18-year-old white victim, who suffers from schizophrenia and attention deficit disorder, to drink toilet water and kiss the floor.\\nPolice allege the van was earlier stolen by Mr Hill, who is also accused of demanding $300 from the victim\\'s mother while they held him captive, according to the Chicago Tribune.\\nThe court was also told the suspects stuffed a sock into his mouth, taped his mouth shut and bound his hands with a belt.\\nIn a video made for Facebook Live which was watched millions of times, the assailants can be heard making derogatory statements against white people and Donald Trump.\\nThe victim had been dropped off at a McDonalds to meet Mr Hill - who was one of his friends - on 31 December.\\nHe was found by a police officer on Tuesday, 3 January, a day after he was reported missing by his parents.\\nProsecutors say the suspects each face two hate crimes counts, one because of the victim\\'s race and the other because of his disabilities.'\n",
        "# 3    'The 48-year-old former Arsenal goalkeeper played for the Royals for four years.\\nHe was appointed youth academy director in 2000 and has been director of football since 2003.\\nA West Brom statement said: \"He played a key role in the Championship club twice winning promotion to the Premier League in 2006 and 2012.\"'\n",
        "# 4    'Restoring the function of the organ - which helps control blood sugar levels - reversed symptoms of diabetes in animal experiments.\\nThe study, published in the journal Cell, says the diet reboots the body.\\nExperts said the findings were \"potentially very exciting\" as they could become a new treatment for the disease.\\nThe experiments were on mice put on a modified form of the \"fasting-mimicking diet\".\\nWhen people go on it they spend five days on a low calorie, low protein, low carbohydrate but high unsaturated-fat diet.\\nIt resembles a vegan diet with nuts and soups, but with around 800 to 1,100 calories a day.\\nThen they have 25 days eating what they want - so overall it mimics periods of feast and famine.\\nPrevious research has suggested it can slow the pace of ageing.\\nBut animal experiments showed the diet regenerated a special type of cell in the pancreas called a beta cell.\\nThese are the cells that detect sugar in the blood and release the hormone insulin if it gets too high.\\nDr Valter Longo, from the University of Southern California, said: \"Our conclusion is that by pushing the mice into an extreme state and then bringing them back - by starving them and then feeding them again - the cells in the pancreas are triggered to use some kind of developmental reprogramming that rebuilds the part of the organ that\\'s no longer functioning.\"\\nThere were benefits in both type 1 and type 2 diabetes in the mouse experiments.\\nType 1 is caused by the immune system destroying beta cells and type 2 is largely caused by lifestyle and the body no longer responding to insulin.\\nFurther tests on tissue samples from people with type 1 diabetes produced similar effects.\\nDr Longo said: \"Medically, these findings have the potential to be very important because we\\'ve shown - at least in mouse models - that you can use diet to reverse the symptoms of diabetes.\\n\"Scientifically, the findings are perhaps even more important because we\\'ve shown that you can use diet to reprogram cells without having to make any genetic alterations.\"\\nBBC reporter Peter Bowes took part in a separate trial with Dr Valter Longo.\\nHe said: \"During each five-day fasting cycle, when I ate about a quarter of the average person\\'s diet, I lost between 2kg and 4kg (4.4-8.8lbs).\\n\"But before the next cycle came round, 25 days of eating normally had returned me almost to my original weight.\\n\"But not all consequences of the diet faded so quickly.\"\\nHis blood pressure was lower as was a hormone called IGF-1, which is linked to some cancers.\\nHe said: \"The very small meals I was given during the five-day fast were far from gourmet cooking, but I was glad to have something to eat\"\\nPeter Bowes: Fasting for science\\nPeter Bowes: Intermittent fasting and the good things it did to my body\\nSeparate trials of the diet in people have been shown to improve blood sugar levels. The latest findings help to explain why.\\nHowever, Dr Longo said people should not rush off and crash diet.\\nHe told the BBC: \"It boils down to do not try this at home, this is so much more sophisticated than people realise.\"\\nHe said people could \"get into trouble\" with their health if it was done without medical guidance.\\nDr Emily Burns, research communications manager at Diabetes UK, said: \"This is potentially very exciting news, but we need to see if the results hold true in humans before we\\'ll know more about what it means for people with diabetes.\\n\"People with type-1 and type-2 diabetes would benefit immensely from treatments that can repair or regenerate insulin-producing cells in the pancreas.\"\\nFollow James on Twitter.'\n",
        "# 5    'But there certainly should be.\\nThese are two of the biggest firms in the lucrative international business of making spectacles. France\\'s Essilor is the world\\'s number one manufacturer of lenses and contact lenses, while Italy\\'s Luxottica is the leading frame manufacturer.\\nIt is not obvious that the merger is in the public interest, though the two firms certainly think it is.\\n\"The parties\\' activities are highly complementary and the deal would generate significant synergies and innovation and would be beneficial to customers,\" says Essilor.\\nBut there seems to be growing disquiet in the industry.\\nGordon Ilett, of the Association of Optometrists, says: \"This now allows the [enlarged] group to control all aspects of supply of product - from manufacture to the end user.\\n\"Those businesses who remain as their customers will be indirectly controlled by the terms and conditions imposed by them.\\n\"Whether their UK market share, following this merger, is sufficient for examination by the competition authorities is open to debate, but the effect of it will be reduced choice for the consumer, and will most likely result in reduced quality products longer term,\" Mr Ilett adds.\\nIf the deal goes through later this year the new company, to be called EssilorLuxottica, will become a behemoth of the industry.\\nIt will sell not only lenses and frames around the world but will also be stocking its own optician\\'s shops as well, such as Sunglass Hut, and LensCrafters in the US and Australia, both currently owned by Luxottica.\\nOne long-standing independent UK wholesaler, who asked to remain anonymous, says the merged firm would be so powerful it would probably squeeze out some competitors.\\n\"If those two companies merged there would be a branded frame supplier offering you high-end branded frames, and also offering UK opticians a lens and glazing deal, to suit, so they will control almost everything [they offer] to both independent retailers in the High Street and even the chains,\" he argues.\\nIn his view this would amount, almost, to a stranglehold on the supply of high-end glasses, with some rivals giving up.\\n\"I imagine it would knock out quite a few glazing houses in the UK, and it would probably knock out other fashion frame houses,\" he adds.\\nUnless you know about the eyewear business, or take an interest in investing in big European companies (they both have stock market listings) the names of the two big firms will probably have passed you by.\\nBut if you have been inside an optician\\'s shop you will certainly have heard of the brands they own and make. For instance, the leading varifocal lens brand, Varilux, is made by Essilor.\\nJust a year ago, in presenting its 2015 financial results to investors, Essilor boasted that it was \"an undisputed leader with only 25% market share\" of the combined world market for prescription lenses, sunglasses lenses and lenses for reading glasses.\\nWhen it comes to just the prescription lenses, it has a 41% share of the world market.\\nFor its part, Luxottica owns several of its own brand names such as Ray-Ban and Oakley, and it also makes, under licence, spectacle frames which carry high-fashion names such as Armani, Burberry, Bulgari, Chanel, Prada, Ralph Lauren and Versace.\\nIn 2015 the Italian firm made almost 10% of the 954 million frames that were sold worldwide that year, and claims that about half a billion of its frames are currently perched on people\\'s noses.\\nThe overall industry internationally is in fact quite fragmented with hundreds of other smaller manufacturers and related businesses such as glazing laboratories.\\nMarket research firm GFK describes the optical industry as \"a complex and extremely competitive market-space\".\\nEven so, with the two firms having a combined turnover of more than 15bn euros (Â£12.8bn), of which 3.5bn euros were in Europe, on the grounds of size alone the proposed merger easily meets the requirements of the European Commission for a formal review.\\nThese are:\\nAn inquiry would see if the merged firm threatened to be too dominant, thus reducing competition and leading to higher prices for the customers.\\nA Luxottica spokesman told the BBC that the firm was confident that any scrutiny would not hinder the deal.\\n\"The transaction is subject to mandatory submission to a number of anti-monopoly authorities including the European one, as is customary in transactions of this size and nature,\" he said.\\n\"We are confident that the transaction does not raise anti-monopoly issues and will fully co-operate with the anti-monopoly authorities to obtain the required clearance,\" he added.\\nThe EU itself says it currently has no comment to make and it has not yet been formally notified of the merger deal under the requirements of its own rules.\\nBut the leading chain of opticians, Specsavers, views the impending deal with caution.\\n\"Mergers are a continuing trend in optics, but this is a significant development which will result in huge supply chain and retail implications for the industry and consumers worldwide,\" the firm says.\\n\"It is unlikely that the impact of the merger will be felt by consumers straight away but we will watch with great interest how the new organisation will arrange itself.\"\\nIf you have ever bought a pair of spectacles with anything other than the most basic frame and lenses, you may have gulped at the price, possibly coming to several hundred pounds.\\nOf course, not all spectacles are expensive and not all of the sale price goes to the manufacturers.\\nOpticians and the wholesalers that supply them are businesses that seek to make a profit.\\nThey also need to cover the costs of staff, equipment, shop and office space, stock and all that advertising.\\nBut for the manufacturers such as Essilor and Luxottica, it is a stonkingly profitable business.\\nOn worldwide sales of 6.7bn euros in 2015, Essilor made operating profits of 1.2bn euros.\\nFor the same year, Luxottica sold goods worth 8.8bn euros and made operating profits of 1.4bn euros.\\nWith cost-cutting at a merged business projected to save between 400m and 600m euros per year, profits could be boosted even further.\\nWill customers benefit as well?'\n",
        "# 6    'Media playback is not supported on this device\\nThe Olympic silver medallist accused the organisation of \"ageism\" and having \"zero regard\" for her welfare.\\nShe is the latest high-profile cyclist to come forward after Jess Varnish, Nicole Cooke and Emma Pooley criticised the World Class programme.\\nHouvenaghel told the BBC she felt \"vindicated\" by a leaked draft report detailing British Cycling\\'s failures.\\nThe report said British Cycling \"sanitised\" its own investigation into claims former technical director Shane Sutton used sexist language towards Varnish, who went public last April about her treatment.\\nBritish Cycling subsequently admitted it did not pay \"sufficient care and attention\" to the wellbeing of staff and athletes at the expense of winning medals, an approach Houvenaghel attested to in her BBC interview.\\nBoth Sutton and predecessor Sir Dave Brailsford have now left British Cycling.\\nHouvenaghel, 42, spoke to BBC Sport during its State of Sport week, which on Thursday examines the issue of athlete welfare versus a win-at-all-costs culture.\\nA government-commissioned review, headed by 11-time Paralympic champion Baroness Grey-Thompson, into safety and wellbeing in British sport, is due to be published imminently.\\nIt is expected to recommend significant reforms designed to improve the way athletes are treated by governing bodies.\\nHouvenaghel claimed:\\nBritish Cycling said it \"has acknowledged and takes very seriously previous cultural and governance failings in the World Class Programme\".\\nIt said it has accepted the draft report\\'s findings and already put into a place a 39-point action plan to \"systematically address the cultural and behavioural shortcomings\".\\nThe statement added: \"Our new chair Jonathan Browning has apologised for instances where we have fallen short in our commitment to athlete welfare and has offered to meet with anyone who can help improve British Cycling.\"\\nWho else has spoken out?\\nHouvenaghel won silver in the individual pursuit at the Beijing Olympics in 2008, and gold in the World Championship team pursuit in 2008, 2009 and 2011.\\nShe retired in 2014, aged 39, after withdrawing from the Commonwealth Games in Glasgow with a back injury.\\nHouvenaghel was critical of both Sutton and her team-mates in the aftermath of the London 2012 Olympics, where she was left out of all three team pursuit races as Dani King, Laura Trott and Joanna Rowsell-Shand won gold in a world record time.\\nSpeaking to BBC Sport this week, the Northern Irish rider said that experience was \"very traumatic\" and she felt \"torment\" at having \"no explanation\" for her last-minute omission.\\nAt the time, Brailsford, then performance director, defended the selection saying they had to \"take the personal element out of it, and look at the data and be professional\".\\nHe added: \"I think when a team steps up and makes six world records on the trot and a gold medal, then I don\\'t think you can argue with that.\"\\nBritish Cycling reiterated that point on Thursday, adding it was \"proud to support Wendy in what was a wonderfully successful cycling career\" and she was \"part of a pioneering generation of riders who set new standards of excellence\", but was dropped in London 2012 \"based on her performance\".\\nOther elite cyclists, including King and Roswell-Shand have praised the leadership at British Cycling.\\nAsked whether she was simply not good enough for the 2012 team, Houvenaghel replied: \"It was definitely not about performance. I don\\'t think the fastest team on the day were permitted to race.\\n\"There are certain chosen riders on the team who will not have experienced the culture of fear and will not have been on the receiving end of that - the bullying, the harassment, being frozen out of opportunities.\\n\"It was horrid - it was not the training environment I expected. There was no choice. If you rocked the boat, you were out. There was no alternative.\\n\"Medals at any cost, that\\'s how it was whenever I was there, certainly in 2012.\"\\nHouvenaghel said she also witnessed the sexism that has been highlighted by other female riders, and also claims she was discriminated against because of her age.\\n\"I can certainly relate to the bullying,\" she said. \"For me personally, I felt it was more ageism - being a little bit older than my team-mates, it didn\\'t seem to be something that the staff necessarily wanted for our team in 2012.\\n\"They didn\\'t care about what happened to me afterwards. I never heard another thing from them.\\n\"After six years of constantly medalling at World Cups, World Championships, nationals, both on the track and on the road, they discarded me in a very undignified way from the team, which I don\\'t feel was right.\"\\nFourteen-time Paralympic gold medallist Dame Sarah Storey told BBC Sport that elite level sport in Britain is \"cut-throat\" but there are \"no excuses for crossing that line\" into bullying.\\nAsked about the balance between winning and athlete welfare, the 39-year-old replied: \"It\\'s a really difficult question because you have to be a human being, you have to allow for people to make mistakes. But the currency is race wins, the currency is gold medals.\\n\"It\\'s not an excuse but you have to have a thick skin in sport, you have to be able to take the rough with the smooth because of the racing that you go through.\\n\"But there are no excuses for crossing that line, and if those lines have been crossed they will be found out and they\\'ll be dealt with.\"'\n",
        "# 7    'It\\'s no joke. But Kareem Badr says people did laugh in 2009 when he and two friends paid $20,000 (Â£13,000) for the Hideout in Austin, when it wasn\\'t making money and the previous owner decided not to renew the lease.\\n\"We took over a sinking ship and each brought a bucket to bail it out,\" says Mr Badr.\\n\"None of us had any experience of running a business. But we loved what we were doing enough that it carried us through.\"\\nThree years ago he was able to quit his day job and draw a salary from the club.\\nMr Badr says it\\'s still not as much as he used to make as a programmer (about $80,000 a year), but he now employs around 25 part time and contract workers.\\nAnd he recently expanded the premises, taking over the adjoining coffee house which sells alcohol, and leasing more theatre space.\\nMr Badr says: \"I think my background in computer science helped because I can take a big problem, break it up into small chunks, and figure out how to make it better and more efficient.\\n\"That\\'s basically what we did for every aspect of the business. And by doing that it naturally started to improve.\"\\nMr Badr may have been helped by national trends, which imply a growing enthusiasm for comedy clubs in the US.\\nAn industry report from data firm Ibis World expects total US annual comedy club revenue to grow by 1.8% over the next five years to $344.6m in 2020.\\n\"When the Hideout first opened it was the only improv theatre in Austin,\" says Mr Badr.\\n\"But now there are five [comedy] schools and four theatres. We were at the right place at the right time.\"\\nWhile the Ibis World report showed that dozens of US comedy clubs were forced to close in the wake of the 2008 recession, when fewer people had disposable income to spend on live entertainment, Stephen Rosenfield, director of the American Comedy Institute in New York, says stand-up comedy is now entering a new golden age.\\n\"The US has comedy clubs all over the country, not just in big cities, and they require talent,\" he says.\\n\"In any field there are those at the top who make dynastic fortunes. But because of the significance of the local comedy club, there is a career and a living to be made by good comedians who are not superstars.\"\\nMr Rosenfield says the growing popularity of stand-up comedy is fuelled in part by younger audiences, who view humorous TV hosts such as Jon Stewart, Jay Leno and Steve Colbert as their primary source for news.\\n\"It\\'s not just entertaining them, it\\'s also informing them,\" he says. \"There\\'s a new immediacy to stand-up that makes it much more appealing to a generation that\\'s on social media, tweeting, face booking and blogging.\"\\nBut clubs don\\'t only make money from entertainers. Alcohol alone can bring in as much as 40% of the night\\'s takings, and many clubs demand that audiences buy a minimum number of drinks per person.\\n\"A club really has three businesses going on,\" says Mr Rosenfield.\\n\"It\\'s an entertainment entity, a restaurant and a bar. They make money from selling drinks and dinners, and they make money from the cover charge.\\n\"There are usually three people on the bill. The opening act is the new comedian. They do about 20 minutes and introduce the other comics.\\nThe middle act does about half an hour, and then there\\'s the headliner. They almost always have TV credits, and are the ones people are coming to see. That headliner could be making six figures a year.\"\\nTop-tier performers make much more. According to Forbes, Canadian comedian Russell Peters grossed $19m with 64 shows in 2013, while industry veteran Jerry Seinfeld is the highest paid comedian in the US, set to earn $36m this year.\\nSteve Byrne, 41, is a veteran stand-up comedian based in LA, and star of his own television show Sullivan and Son, which ran for three seasons.\\nHe describes himself as a successful mid-level comedian who makes an annual six figure salary mainly from touring.\\nAnd although he was close to hitting a million dollars a year before his show was cancelled in 2014, he says most comedians make money at clubs and do television to boost their brand rather than their income.\\nMr Bryne says: \"Gigs vary because it depends what you\\'re contracted at.\\n\"If it\\'s somebody starting off in the business it could be $1,500 a show. For somebody who\\'s had some TV credits you could go from $4,500 to $7,500.\\n\"And if you\\'re just a knock out comic, then you\\'re coming in and getting a door deal. You\\'re taking all the tickets, and the club gets the concessions.\"\\nMr Byrne says hard work is the key to success. There is no magic short cut, and few lucky breaks.\\n\"The one single thing that an aspiring comedian should do is write, write, write. What is it that makes you laugh?\\n\"Your voice should resonate with your audience. So find your voice and you will find your audience.\"\\nWhile the music and film industries have been impacted by the internet, such as illegal downloads and reduced album sales, Mr Rosenfield says the online world has actually given live comedy a boost.\\n\"The format of comedy, particularly stand-up, lends itself to digital media like nothing else. One terrific joke can get a million hits,\" he says.\\n\"It\\'s become a new metric for a club manager. If a booker sees that a comic has 500,000 online followers - they\\'ll book him almost sight unseen. That\\'s it.\\n\"Digital is gigantically important and has been for a while.\"\\nBut in the end, the success of comedy comes down to a very simple fact - people need to laugh.\\nBack in 2001 Steve Byrne was a comedian in New York when terrorists flew two planes into the World Trade Centre on 11 September.\\nHe says: \"We all thought \\'who\\'s going to come to a comedy club? The dream\\'s over, I\\'ve got to get a real job now\\'.\\n\"But after a week, I forget which club was the first one to open its doors, but it was packed. People needed an outlet.\\n\"And I remember for months on end those clubs in New York City were just jam packed. That was the thing that told me that this was a profession that is foolproof.\"'\n",
        "# 8    'Relieved that the giant telecoms company would not be broken up, they piled into the shares, sending them up 3% in early trading.\\nBT dodged a bullet - and, as the chief executive of Ofcom, Sharon White, admitted, it was for prosaic reasons.\\nShe said complications with land deals and BT\\'s giant pension scheme meant there were \"practical obstacles\" to a break-up that would delay the process several years.\\nIt\\'s the pension scheme that probably most influenced Ofcom\\'s thinking. BT\\'s retirement scheme, inherited from its time as a state-owned utility, has assets of about Â£40bn and a deficit, on some measures, of about Â£10bn, even though BT has poured in billions of pounds in recent years to redress the gap.\\nSenior sources at the company say that about 80% of the scheme relates to Openreach, the internet infrastructure provider that BT\\'s rivals would like to see spun off.\\nSeparating the pension as part of a break-up would be a costly headache - and there is the small matter of a government guarantee on part of the scheme, something that BT fought in the courts to preserve and won.\\nCreating two new pension schemes, with the risk of weakening the financial resources of one or the other, might be too hot a political potato, even in the pursuit of faster broadband.\\nBT\\'s share price reaction might turn out to be overdone. Ms White plans to enforce the separation by introducing not only a new board to run Openreach, but also new articles of association that will give directors a duty to serve customers of the network as much as the company\\'s owners.\\nThis holds out an obvious prospect of conflicts to come, and runs counter to the normal assumption that in private companies, the shareholder is king.\\nIt also carries an echo of the \"golden shares\" held by the government in Rolls-Royce and BAE Systems, two companies judged important for the defence of the realm. In each case, the golden share is actually enshrined by specific articles of association that give directors and the government powers beyond those normally enjoyed by company boards.\\nBT\\'s chief executive, Gavin Patterson, said he thought he could reach a compromise with Ofcom, but admitted they would need to see the detail of the new articles.\\nIf they prove too much at odds with BT\\'s own desire to control Openreach - which it will still own - get ready for a court battle and perhaps, eventually, a full break-up.'\n",
        "# 9    '\"I\\'m really looking forward to it - the home of Scottish football,\" said Rodgers ahead of his maiden visit.\\n\"I hear the pitch is good, a nice big pitch suits the speed in our team and our intensity.\\n\"The technical area goes right out to the end of the pitch, but you might need a taxi to get back to your staff.\"\\nThis will be Rodgers\\' second taste of the Old Firm derby and his experience of the fixture got off to a great start with a 5-1 league victory at Celtic Park last month.\\n\"It was a brilliant performance by the players in every aspect,\" he recalled. \"Obviously this one is on a neutral ground, but we\\'ll be looking to have a similar performance.\\n\"We\\'ll be prepared and focused. We know it\\'s going to be a tough game. We anticipated that the last time.\"\\nRodgers is also aware Celtic\\'s visit to Hampden last season in the Scottish Cup semi-final against Rangers ended in defeat.\\n\"The last experience there wasn\\'t so good for Celtic,\" he said. \"But it\\'s a different team with a different mentality and we\\'ll look to take that mentality into the game.\"\\nRodgers lost two semi-finals in his time at Liverpool and is aiming to make it third time lucky at the club he joined in the summer.\\n\"You have to perform - that\\'s what\\'s important and if you get little bit of luck along the way then hopefully you\\'ll get the result that you want.\" said the Northern Irishman.\\n\"So, for us, it\\'s really looking at our performance level, which in the main has been at a really high level.\\n\"My focus is always on my own team and, if we impose our style of play, it can give a lot of problems to opponents.\"\\nUnlike predecessor Ronny Deila, Rodgers would not be drawn on this semi-final being a step on the way to a potential domestic treble.\\n\"It\\'s very, very difficult to achieve,\" he said. \"There\\'s been great managers here in the past that haven\\'t achieved that.\\n\"But it\\'s the first competition where we\\'ve a chance to win a trophy and I\\'ve always said that it\\'s a priority for us because it\\'s the first one.\\n\"Our idea was to qualify for the Champions League, which we did, to make a good start in the league, which we\\'ve done, and then look to get to the League Cup final.\\n\"Unless you can do that then you don\\'t have the chance to win the trophies.\"'\n",
        "# , please just return the answer as the following: results={\"generated_summary\":[\"\",\"\",\"\",\"\",\"\"]}\n"
      ]
    },
    {
      "cell_type": "code",
      "execution_count": 47,
      "metadata": {
        "id": "2Abr-GW3GFWg"
      },
      "outputs": [],
      "source": [
        "# This is the output from CHATGPT (as example, but we need to do it for all the generative models we are testing)\n",
        "results={\"generated_summary\":[\"Prison Link Cymru handled 1,099 referrals in 2015-16, highlighting a critical need for housing ex-offenders to prevent homelessness and reduce incarceration costs.\",\"Edinburgh police recovered firearms, ammunition, and money from two properties, arresting a 26-year-old man who appeared in court.\",\"Four individuals charged with hate crimes in Chicago tortured a disabled victim, prompting significant public and legal reaction.\",\"The former Arsenal goalkeeper and director of football helped West Brom achieve Premier League promotion in 2006 and 2012.\",\"A study shows that a fasting-mimicking diet can regenerate pancreatic cells and potentially reverse diabetes symptoms in mice.\"]}"
      ]
    },
    {
      "cell_type": "markdown",
      "metadata": {
        "id": "-eIS6_JKtejy"
      },
      "source": [
        "### **Step 3:** Adding the summary to the pandas df to execute results & download\n"
      ]
    },
    {
      "cell_type": "code",
      "execution_count": 48,
      "metadata": {
        "colab": {
          "base_uri": "https://localhost:8080/",
          "height": 206
        },
        "id": "z3Oq4-R8DJ5S",
        "outputId": "47a2ad00-6dbf-42b5-9461-8302df7024c7"
      },
      "outputs": [
        {
          "data": {
            "text/html": [
              "<div>\n",
              "<style scoped>\n",
              "    .dataframe tbody tr th:only-of-type {\n",
              "        vertical-align: middle;\n",
              "    }\n",
              "\n",
              "    .dataframe tbody tr th {\n",
              "        vertical-align: top;\n",
              "    }\n",
              "\n",
              "    .dataframe thead th {\n",
              "        text-align: right;\n",
              "    }\n",
              "</style>\n",
              "<table border=\"1\" class=\"dataframe\">\n",
              "  <thead>\n",
              "    <tr style=\"text-align: right;\">\n",
              "      <th></th>\n",
              "      <th>generated_summary</th>\n",
              "      <th>summary</th>\n",
              "      <th>document</th>\n",
              "    </tr>\n",
              "  </thead>\n",
              "  <tbody>\n",
              "    <tr>\n",
              "      <th>0</th>\n",
              "      <td>Prison Link Cymru handled 1,099 referrals in 2...</td>\n",
              "      <td>There is a \"chronic\" need for more housing for...</td>\n",
              "      <td>Prison Link Cymru had 1,099 referrals in 2015-...</td>\n",
              "    </tr>\n",
              "    <tr>\n",
              "      <th>1</th>\n",
              "      <td>Edinburgh police recovered firearms, ammunitio...</td>\n",
              "      <td>A man has appeared in court after firearms, am...</td>\n",
              "      <td>Officers searched properties in the Waterfront...</td>\n",
              "    </tr>\n",
              "    <tr>\n",
              "      <th>2</th>\n",
              "      <td>Four individuals charged with hate crimes in C...</td>\n",
              "      <td>Four people accused of kidnapping and torturin...</td>\n",
              "      <td>Jordan Hill, Brittany Covington and Tesfaye Co...</td>\n",
              "    </tr>\n",
              "    <tr>\n",
              "      <th>3</th>\n",
              "      <td>The former Arsenal goalkeeper and director of ...</td>\n",
              "      <td>West Brom have appointed Nicky Hammond as tech...</td>\n",
              "      <td>The 48-year-old former Arsenal goalkeeper play...</td>\n",
              "    </tr>\n",
              "    <tr>\n",
              "      <th>4</th>\n",
              "      <td>A study shows that a fasting-mimicking diet ca...</td>\n",
              "      <td>The pancreas can be triggered to regenerate it...</td>\n",
              "      <td>Restoring the function of the organ - which he...</td>\n",
              "    </tr>\n",
              "  </tbody>\n",
              "</table>\n",
              "</div>"
            ],
            "text/plain": [
              "                                   generated_summary  \\\n",
              "0  Prison Link Cymru handled 1,099 referrals in 2...   \n",
              "1  Edinburgh police recovered firearms, ammunitio...   \n",
              "2  Four individuals charged with hate crimes in C...   \n",
              "3  The former Arsenal goalkeeper and director of ...   \n",
              "4  A study shows that a fasting-mimicking diet ca...   \n",
              "\n",
              "                                             summary  \\\n",
              "0  There is a \"chronic\" need for more housing for...   \n",
              "1  A man has appeared in court after firearms, am...   \n",
              "2  Four people accused of kidnapping and torturin...   \n",
              "3  West Brom have appointed Nicky Hammond as tech...   \n",
              "4  The pancreas can be triggered to regenerate it...   \n",
              "\n",
              "                                            document  \n",
              "0  Prison Link Cymru had 1,099 referrals in 2015-...  \n",
              "1  Officers searched properties in the Waterfront...  \n",
              "2  Jordan Hill, Brittany Covington and Tesfaye Co...  \n",
              "3  The 48-year-old former Arsenal goalkeeper play...  \n",
              "4  Restoring the function of the organ - which he...  "
            ]
          },
          "metadata": {},
          "output_type": "display_data"
        }
      ],
      "source": [
        "opt_result = pd.DataFrame.from_dict(results).rename({\"summary_text\": \"generated_summary\"}, axis=1).join(pd.DataFrame.from_dict(xsum_sample))[[\"generated_summary\", \"summary\", \"document\"]]\n",
        "display(opt_result.head())"
      ]
    },
    {
      "cell_type": "code",
      "execution_count": 51,
      "metadata": {
        "colab": {
          "base_uri": "https://localhost:8080/"
        },
        "id": "vCW8Y6ZeEM4y",
        "outputId": "bb757fd6-247d-4ce3-bed2-f301fd447665"
      },
      "outputs": [
        {
          "name": "stdout",
          "output_type": "stream",
          "text": [
            "Generated Summary :  Four individuals charged with hate crimes in Chicago tortured a disabled victim, prompting significant public and legal reaction.\n",
            "------------------------------\n",
            "Summary :  Four people accused of kidnapping and torturing a mentally disabled man in a \"racially motivated\" attack streamed on Facebook have been denied bail.\n"
          ]
        }
      ],
      "source": [
        "print(\"Generated Summary : \",opt_result.iloc[2][\"generated_summary\"])\n",
        "print(30*\"-\")\n",
        "print(\"Summary : \",opt_result.iloc[2][\"summary\"])"
      ]
    },
    {
      "cell_type": "markdown",
      "metadata": {
        "id": "A1jxv2YWu0ba"
      },
      "source": [
        "#### **Calculating the ROUGE score:**"
      ]
    },
    {
      "cell_type": "code",
      "execution_count": 52,
      "metadata": {
        "id": "A5CK8jDMEphi"
      },
      "outputs": [],
      "source": [
        "def calculate_rouge(data):\n",
        "    scorer = rouge_scorer.RougeScorer(['rouge1', 'rouge2', 'rougeL'], use_stemmer=True)\n",
        "    data[\"r1_fscore\"] = data.apply(lambda row : scorer.score(row[\"summary\"],row[\"generated_summary\"])['rouge1'][2], axis=1)\n",
        "    #data[\"r2_fscore\"] = data.apply(lambda row : scorer.score(row[\"summary\"],row[\"generated_summary\"])['rouge2'][2], axis=1)\n",
        "    data[\"rl_fscore\"] = data.apply(lambda row : scorer.score(row[\"summary\"],row[\"generated_summary\"])['rougeL'][2], axis=1)\n",
        "    return data"
      ]
    },
    {
      "cell_type": "code",
      "execution_count": 53,
      "metadata": {
        "id": "UJq7u05VFRSA"
      },
      "outputs": [],
      "source": [
        "score_ret=calculate_rouge(opt_result)"
      ]
    },
    {
      "cell_type": "code",
      "execution_count": 54,
      "metadata": {
        "colab": {
          "base_uri": "https://localhost:8080/"
        },
        "id": "r6lSWj9zFTuk",
        "outputId": "044a9697-c278-41b6-f02d-d385aa99dc8b"
      },
      "outputs": [
        {
          "name": "stdout",
          "output_type": "stream",
          "text": [
            "ROUGE - 1 :  0.32315262998189825\n",
            "ROUGE - L :  0.1968879681074803\n"
          ]
        }
      ],
      "source": [
        "print(\"ROUGE - 1 : \",score_ret[\"r1_fscore\"].mean())\n",
        "# print(\"ROUGE - 2 : \",score_ret[\"r2_fscore\"].mean())\n",
        "print(\"ROUGE - L : \",score_ret[\"rl_fscore\"].mean()) # longest common subsequence between the model-generated summary and the reference summary"
      ]
    },
    {
      "cell_type": "code",
      "execution_count": 59,
      "metadata": {
        "colab": {
          "base_uri": "https://localhost:8080/",
          "height": 206
        },
        "id": "Aa1I64_NwIQ_",
        "outputId": "3f578e16-1a7d-4619-a7f7-88b1768d249a"
      },
      "outputs": [
        {
          "data": {
            "text/html": [
              "<div>\n",
              "<style scoped>\n",
              "    .dataframe tbody tr th:only-of-type {\n",
              "        vertical-align: middle;\n",
              "    }\n",
              "\n",
              "    .dataframe tbody tr th {\n",
              "        vertical-align: top;\n",
              "    }\n",
              "\n",
              "    .dataframe thead th {\n",
              "        text-align: right;\n",
              "    }\n",
              "</style>\n",
              "<table border=\"1\" class=\"dataframe\">\n",
              "  <thead>\n",
              "    <tr style=\"text-align: right;\">\n",
              "      <th></th>\n",
              "      <th>generated_summary</th>\n",
              "      <th>summary</th>\n",
              "      <th>document</th>\n",
              "      <th>r1_fscore</th>\n",
              "      <th>rl_fscore</th>\n",
              "    </tr>\n",
              "  </thead>\n",
              "  <tbody>\n",
              "    <tr>\n",
              "      <th>0</th>\n",
              "      <td>Prison Link Cymru handled 1,099 referrals in 2...</td>\n",
              "      <td>There is a \"chronic\" need for more housing for...</td>\n",
              "      <td>Prison Link Cymru had 1,099 referrals in 2015-...</td>\n",
              "      <td>0.333333</td>\n",
              "      <td>0.238095</td>\n",
              "    </tr>\n",
              "    <tr>\n",
              "      <th>1</th>\n",
              "      <td>Edinburgh police recovered firearms, ammunitio...</td>\n",
              "      <td>A man has appeared in court after firearms, am...</td>\n",
              "      <td>Officers searched properties in the Waterfront...</td>\n",
              "      <td>0.540541</td>\n",
              "      <td>0.270270</td>\n",
              "    </tr>\n",
              "    <tr>\n",
              "      <th>2</th>\n",
              "      <td>Four individuals charged with hate crimes in C...</td>\n",
              "      <td>Four people accused of kidnapping and torturin...</td>\n",
              "      <td>Jordan Hill, Brittany Covington and Tesfaye Co...</td>\n",
              "      <td>0.292683</td>\n",
              "      <td>0.195122</td>\n",
              "    </tr>\n",
              "    <tr>\n",
              "      <th>3</th>\n",
              "      <td>The former Arsenal goalkeeper and director of ...</td>\n",
              "      <td>West Brom have appointed Nicky Hammond as tech...</td>\n",
              "      <td>The 48-year-old former Arsenal goalkeeper play...</td>\n",
              "      <td>0.171429</td>\n",
              "      <td>0.114286</td>\n",
              "    </tr>\n",
              "    <tr>\n",
              "      <th>4</th>\n",
              "      <td>A study shows that a fasting-mimicking diet ca...</td>\n",
              "      <td>The pancreas can be triggered to regenerate it...</td>\n",
              "      <td>Restoring the function of the organ - which he...</td>\n",
              "      <td>0.277778</td>\n",
              "      <td>0.166667</td>\n",
              "    </tr>\n",
              "  </tbody>\n",
              "</table>\n",
              "</div>"
            ],
            "text/plain": [
              "                                   generated_summary  \\\n",
              "0  Prison Link Cymru handled 1,099 referrals in 2...   \n",
              "1  Edinburgh police recovered firearms, ammunitio...   \n",
              "2  Four individuals charged with hate crimes in C...   \n",
              "3  The former Arsenal goalkeeper and director of ...   \n",
              "4  A study shows that a fasting-mimicking diet ca...   \n",
              "\n",
              "                                             summary  \\\n",
              "0  There is a \"chronic\" need for more housing for...   \n",
              "1  A man has appeared in court after firearms, am...   \n",
              "2  Four people accused of kidnapping and torturin...   \n",
              "3  West Brom have appointed Nicky Hammond as tech...   \n",
              "4  The pancreas can be triggered to regenerate it...   \n",
              "\n",
              "                                            document  r1_fscore  rl_fscore  \n",
              "0  Prison Link Cymru had 1,099 referrals in 2015-...   0.333333   0.238095  \n",
              "1  Officers searched properties in the Waterfront...   0.540541   0.270270  \n",
              "2  Jordan Hill, Brittany Covington and Tesfaye Co...   0.292683   0.195122  \n",
              "3  The 48-year-old former Arsenal goalkeeper play...   0.171429   0.114286  \n",
              "4  Restoring the function of the organ - which he...   0.277778   0.166667  "
            ]
          },
          "execution_count": 59,
          "metadata": {},
          "output_type": "execute_result"
        }
      ],
      "source": [
        "score_ret"
      ]
    },
    {
      "cell_type": "code",
      "execution_count": 56,
      "metadata": {
        "id": "t5KrR6ugu_NL"
      },
      "outputs": [],
      "source": [
        "model_name = \"chat_gpt\""
      ]
    },
    {
      "cell_type": "code",
      "execution_count": 60,
      "metadata": {
        "id": "t71O3hYPuXmH"
      },
      "outputs": [],
      "source": [
        "df = pd.DataFrame(score_ret)\n",
        "df = df[['r1_fscore','rl_fscore']]\n",
        "df.insert(0, \"model_name\", model_name)\n",
        "df.rename(columns={\"r1_fscore\": \"rouge_1\"}, inplace=True)\n",
        "df.rename(columns={\"rl_fscore\": \"rouge_LSC\"}, inplace=True)\n",
        "\n",
        "# Calculate mean and round\n",
        "mean_metric_1_unigram = round(df[\"rouge_1\"].mean(), 2)\n",
        "mean_metric_2_longest = round(df[\"rouge_LSC\"].mean(), 2)\n",
        "# Replace values with mean\n",
        "df[\"rouge_1\"] = mean_metric_1_unigram\n",
        "df[\"rouge_LSC\"] = mean_metric_2_longest\n",
        "df = df.head(1)"
      ]
    },
    {
      "cell_type": "code",
      "execution_count": 63,
      "metadata": {},
      "outputs": [
        {
          "data": {
            "text/html": [
              "<div>\n",
              "<style scoped>\n",
              "    .dataframe tbody tr th:only-of-type {\n",
              "        vertical-align: middle;\n",
              "    }\n",
              "\n",
              "    .dataframe tbody tr th {\n",
              "        vertical-align: top;\n",
              "    }\n",
              "\n",
              "    .dataframe thead th {\n",
              "        text-align: right;\n",
              "    }\n",
              "</style>\n",
              "<table border=\"1\" class=\"dataframe\">\n",
              "  <thead>\n",
              "    <tr style=\"text-align: right;\">\n",
              "      <th></th>\n",
              "      <th>model_name</th>\n",
              "      <th>rouge_1</th>\n",
              "      <th>rouge_LSC</th>\n",
              "    </tr>\n",
              "  </thead>\n",
              "  <tbody>\n",
              "    <tr>\n",
              "      <th>0</th>\n",
              "      <td>chat_gpt</td>\n",
              "      <td>0.32</td>\n",
              "      <td>0.2</td>\n",
              "    </tr>\n",
              "  </tbody>\n",
              "</table>\n",
              "</div>"
            ],
            "text/plain": [
              "  model_name  rouge_1  rouge_LSC\n",
              "0   chat_gpt     0.32        0.2"
            ]
          },
          "execution_count": 63,
          "metadata": {},
          "output_type": "execute_result"
        }
      ],
      "source": [
        "df"
      ]
    },
    {
      "cell_type": "code",
      "execution_count": 61,
      "metadata": {
        "id": "o8vLCMWvvdMf"
      },
      "outputs": [],
      "source": [
        "df.to_csv(f\"{model_name}.csv\", index=False)"
      ]
    },
    {
      "cell_type": "code",
      "execution_count": 64,
      "metadata": {
        "colab": {
          "base_uri": "https://localhost:8080/"
        },
        "id": "sMzVjPsowxOm",
        "outputId": "fc38d4c7-c7d6-4b22-c507-b81470017cd9"
      },
      "outputs": [
        {
          "name": "stdout",
          "output_type": "stream",
          "text": [
            "  model_name  rouge_1  rouge_LSC\n",
            "0   chat_gpt     0.32        0.2\n"
          ]
        }
      ],
      "source": [
        "df = pd.read_csv(f\"./results/{model_name}.csv\")\n",
        "print(df)\n"
      ]
    },
    {
      "cell_type": "markdown",
      "metadata": {
        "id": "GuEuNrO2ApGD"
      },
      "source": [
        "### **Step 4:** Compress all in 1 function"
      ]
    },
    {
      "cell_type": "code",
      "execution_count": 65,
      "metadata": {
        "id": "9W_I75HZAYSx"
      },
      "outputs": [],
      "source": [
        "def calculate_and_export_rouge(model_name, results):\n",
        "    scorer = rouge_scorer.RougeScorer(['rouge1', 'rougeL'], use_stemmer=True)\n",
        "    \n",
        "    # Create DataFrame from results dictionary\n",
        "    data = pd.DataFrame(results)\n",
        "    \n",
        "    # Calculate ROUGE-1 and ROUGE-L scores\n",
        "    data[\"r1_fscore\"] = data.apply(lambda row: scorer.score(row[\"summary\"], row[\"generated_summary\"])['rouge1'][2], axis=1)\n",
        "    data[\"rl_fscore\"] = data.apply(lambda row: scorer.score(row[\"summary\"], row[\"generated_summary\"])['rougeL'][2], axis=1)\n",
        "    \n",
        "    # Calculate mean scores\n",
        "    mean_rouge_1 = round(data[\"r1_fscore\"].mean(), 2)\n",
        "    mean_rouge_LSC = round(data[\"rl_fscore\"].mean(), 2)\n",
        "    \n",
        "    # Create DataFrame with mean scores and model name\n",
        "    df = pd.DataFrame({\n",
        "        \"model_name\": [model_name],\n",
        "        \"rouge_1\": [mean_rouge_1],\n",
        "        \"rouge_LSC\": [mean_rouge_LSC]\n",
        "    })\n",
        "    \n",
        "    # Export to CSV\n",
        "    df.to_csv(f\"./results/{model_name}.csv\", index=False)  # delete . if on colab"
      ]
    },
    {
      "cell_type": "code",
      "execution_count": 67,
      "metadata": {
        "colab": {
          "base_uri": "https://localhost:8080/",
          "height": 363
        },
        "id": "HyYPjHqYJd5m",
        "outputId": "a7739db7-b94c-4337-d92f-4cc67ba1ad0d"
      },
      "outputs": [
        {
          "data": {
            "text/html": [
              "<div>\n",
              "<style scoped>\n",
              "    .dataframe tbody tr th:only-of-type {\n",
              "        vertical-align: middle;\n",
              "    }\n",
              "\n",
              "    .dataframe tbody tr th {\n",
              "        vertical-align: top;\n",
              "    }\n",
              "\n",
              "    .dataframe thead th {\n",
              "        text-align: right;\n",
              "    }\n",
              "</style>\n",
              "<table border=\"1\" class=\"dataframe\">\n",
              "  <thead>\n",
              "    <tr style=\"text-align: right;\">\n",
              "      <th></th>\n",
              "      <th>document</th>\n",
              "    </tr>\n",
              "  </thead>\n",
              "  <tbody>\n",
              "    <tr>\n",
              "      <th>0</th>\n",
              "      <td>Prison Link Cymru had 1,099 referrals in 2015-...</td>\n",
              "    </tr>\n",
              "    <tr>\n",
              "      <th>1</th>\n",
              "      <td>Officers searched properties in the Waterfront...</td>\n",
              "    </tr>\n",
              "    <tr>\n",
              "      <th>2</th>\n",
              "      <td>Jordan Hill, Brittany Covington and Tesfaye Co...</td>\n",
              "    </tr>\n",
              "    <tr>\n",
              "      <th>3</th>\n",
              "      <td>The 48-year-old former Arsenal goalkeeper play...</td>\n",
              "    </tr>\n",
              "    <tr>\n",
              "      <th>4</th>\n",
              "      <td>Restoring the function of the organ - which he...</td>\n",
              "    </tr>\n",
              "    <tr>\n",
              "      <th>5</th>\n",
              "      <td>But there certainly should be.\\nThese are two ...</td>\n",
              "    </tr>\n",
              "    <tr>\n",
              "      <th>6</th>\n",
              "      <td>Media playback is not supported on this device...</td>\n",
              "    </tr>\n",
              "    <tr>\n",
              "      <th>7</th>\n",
              "      <td>It's no joke. But Kareem Badr says people did ...</td>\n",
              "    </tr>\n",
              "    <tr>\n",
              "      <th>8</th>\n",
              "      <td>Relieved that the giant telecoms company would...</td>\n",
              "    </tr>\n",
              "    <tr>\n",
              "      <th>9</th>\n",
              "      <td>\"I'm really looking forward to it - the home o...</td>\n",
              "    </tr>\n",
              "  </tbody>\n",
              "</table>\n",
              "</div>"
            ],
            "text/plain": [
              "                                            document\n",
              "0  Prison Link Cymru had 1,099 referrals in 2015-...\n",
              "1  Officers searched properties in the Waterfront...\n",
              "2  Jordan Hill, Brittany Covington and Tesfaye Co...\n",
              "3  The 48-year-old former Arsenal goalkeeper play...\n",
              "4  Restoring the function of the organ - which he...\n",
              "5  But there certainly should be.\\nThese are two ...\n",
              "6  Media playback is not supported on this device...\n",
              "7  It's no joke. But Kareem Badr says people did ...\n",
              "8  Relieved that the giant telecoms company would...\n",
              "9  \"I'm really looking forward to it - the home o..."
            ]
          },
          "execution_count": 67,
          "metadata": {},
          "output_type": "execute_result"
        }
      ],
      "source": [
        "xsum_sample = pd.read_csv(\"./content/dataset_sample_summaries_v2.csv\") # delete . if on colab\n",
        "model_name = \"chat_gpt\"\n",
        "# Generate the results by copy pasting the following prompt:\n",
        "xsum_sample[['document']]\n",
        "# Click on the icon next to *document* (convert this dataframe to an interactive table) - then select (right) copy table and select JSON and copy - paste the result in the cell below  replacing **PASTE_DOCUMENTS_HERE**\n",
        "# Then copy the entire cell and prompt the LLM"
      ]
    },
    {
      "cell_type": "code",
      "execution_count": 10,
      "metadata": {
        "id": "gh12oV1CKhvv"
      },
      "outputs": [],
      "source": [
        "# Please generate a summary in one line (max 25 words) for each of the following documents: PASTE_DOCUMENTS_HERE, please just return the answer as the following: results={\"generated_summary\":[\"\",\"\",\"\",\"\",\"\"]}"
      ]
    },
    {
      "cell_type": "code",
      "execution_count": 68,
      "metadata": {
        "id": "gj5grFJKIxNl"
      },
      "outputs": [],
      "source": [
        "# Example usage:\n",
        "results={\"generated_summary\":[\n",
        "    \"Prison Link Cymru handled 1,099 referrals in 2015-16, highlighting a critical need for housing ex-offenders to prevent homelessness and reduce incarceration costs.\",\"Edinburgh police recovered firearms, ammunition, and money from two properties, arresting a 26-year-old man who appeared in court.\",\"Four individuals charged with hate crimes in Chicago tortured a disabled victim, prompting significant public and legal reaction.\",\"The former Arsenal goalkeeper and director of football helped West Brom achieve Premier League promotion in 2006 and 2012.\",\"A study shows that a fasting-mimicking diet can regenerate pancreatic cells and potentially reverse diabetes symptoms in mice.\"\n",
        "    ]}"
      ]
    },
    {
      "cell_type": "code",
      "execution_count": 72,
      "metadata": {
        "id": "Osv4KD8mKv96"
      },
      "outputs": [],
      "source": [
        "opt_result = pd.DataFrame.from_dict(results).rename({\"summary_text\": \"generated_summary\"}, axis=1).join(pd.DataFrame.from_dict(xsum_sample))[[\"generated_summary\", \"summary\", \"document\"]]\n",
        "calculate_and_export_rouge(model_name, opt_result)"
      ]
    },
    {
      "cell_type": "code",
      "execution_count": 73,
      "metadata": {
        "colab": {
          "base_uri": "https://localhost:8080/",
          "height": 80
        },
        "id": "l6i30tqNAdpS",
        "outputId": "5c1b453a-fba8-4e67-e28d-ee4f21135b2d"
      },
      "outputs": [
        {
          "data": {
            "text/html": [
              "<div>\n",
              "<style scoped>\n",
              "    .dataframe tbody tr th:only-of-type {\n",
              "        vertical-align: middle;\n",
              "    }\n",
              "\n",
              "    .dataframe tbody tr th {\n",
              "        vertical-align: top;\n",
              "    }\n",
              "\n",
              "    .dataframe thead th {\n",
              "        text-align: right;\n",
              "    }\n",
              "</style>\n",
              "<table border=\"1\" class=\"dataframe\">\n",
              "  <thead>\n",
              "    <tr style=\"text-align: right;\">\n",
              "      <th></th>\n",
              "      <th>model_name</th>\n",
              "      <th>rouge_1</th>\n",
              "      <th>rouge_LSC</th>\n",
              "    </tr>\n",
              "  </thead>\n",
              "  <tbody>\n",
              "    <tr>\n",
              "      <th>0</th>\n",
              "      <td>chat_gpt</td>\n",
              "      <td>0.32</td>\n",
              "      <td>0.2</td>\n",
              "    </tr>\n",
              "  </tbody>\n",
              "</table>\n",
              "</div>"
            ],
            "text/plain": [
              "  model_name  rouge_1  rouge_LSC\n",
              "0   chat_gpt     0.32        0.2"
            ]
          },
          "execution_count": 73,
          "metadata": {},
          "output_type": "execute_result"
        }
      ],
      "source": [
        "df = pd.read_csv(f\"./results/{model_name}.csv\")  # delete . if on colab\n",
        "df"
      ]
    }
  ],
  "metadata": {
    "colab": {
      "collapsed_sections": [
        "1qRubwEUMVvk",
        "ZxQIEidYupbm",
        "D3BgT9XwubbD",
        "-eIS6_JKtejy",
        "GuEuNrO2ApGD"
      ],
      "provenance": []
    },
    "kernelspec": {
      "display_name": "Python 3",
      "name": "python3"
    },
    "language_info": {
      "codemirror_mode": {
        "name": "ipython",
        "version": 3
      },
      "file_extension": ".py",
      "mimetype": "text/x-python",
      "name": "python",
      "nbconvert_exporter": "python",
      "pygments_lexer": "ipython3",
      "version": "3.12.0"
    }
  },
  "nbformat": 4,
  "nbformat_minor": 0
}
