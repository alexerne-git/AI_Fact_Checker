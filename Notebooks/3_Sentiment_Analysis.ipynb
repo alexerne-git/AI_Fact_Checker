{
  "cells": [
    {
      "cell_type": "markdown",
      "metadata": {
        "id": "o0K7C5LK9By3"
      },
      "source": [
        "## **Sentiment Analysis**\n",
        "\n",
        "In this notebook, we essentially focus on the Sentiment Analysis performance metric (more about this on the readme.md file)."
      ]
    },
    {
      "cell_type": "markdown",
      "metadata": {
        "id": "NSvuyW77AZ5_"
      },
      "source": [
        "### **Steps to run this Notebook:**\n",
        "\n",
        "- **Step 1:** Download the libraries & Load the data\n",
        "- **Step 2:** Prompt the text generative LLM - using the prompt given below\n",
        "- **Step 3:** Computing and calculating the scores & download results\n",
        "- **Step 4:** Compress all in 1 function"
      ]
    },
    {
      "cell_type": "markdown",
      "metadata": {
        "id": "giRw_CTWAhhM"
      },
      "source": [
        "### **Step 1:** Download the libraries & Load the data"
      ]
    },
    {
      "cell_type": "code",
      "execution_count": 12,
      "metadata": {
        "id": "134oa12s934-"
      },
      "outputs": [],
      "source": [
        "# Keep to generate other reviews/labels in the future\n",
        "# !pip install datasets"
      ]
    },
    {
      "cell_type": "code",
      "execution_count": 13,
      "metadata": {
        "id": "08TJN7Vu-Sav"
      },
      "outputs": [],
      "source": [
        "# Import Libraries\n",
        "import pandas as pd\n",
        "from datasets import load_dataset\n",
        "import random"
      ]
    },
    {
      "cell_type": "code",
      "execution_count": 14,
      "metadata": {
        "id": "wQdy5bDR-WFq"
      },
      "outputs": [],
      "source": [
        "# Load the IMDb dataset from Hugging Face datasets\n",
        "# dataset = load_dataset(\"imdb\")"
      ]
    },
    {
      "cell_type": "code",
      "execution_count": 18,
      "metadata": {
        "id": "kvOUYnK389LC"
      },
      "outputs": [],
      "source": [
        "# Select a subset of reviews and their labels\n",
        "# random_indices = random.sample(range(len(dataset['train'])), 10)\n",
        "# random_reviews = [dataset['train'][i]['text'] for i in random_indices]\n",
        "# random_labels = [dataset['train'][i]['label'] for i in random_indices]\n",
        "\n",
        "# Convert label indices to actual labels\n",
        "# label_mapping = {\n",
        "#     0: 'Negative',\n",
        "#     1: 'Positive',\n",
        "#    2: 'Neutral'\n",
        "# }\n",
        "# random_labels = [label_mapping[label] for label in random_labels]"
      ]
    },
    {
      "cell_type": "code",
      "execution_count": 19,
      "metadata": {
        "id": "-pUCcYFh-YZ_"
      },
      "outputs": [],
      "source": [
        "# df = pd.DataFrame({'Review': random_reviews, 'Ground_Truth_Label': random_labels})\n",
        "# df.to_csv(\"dataset_sample_movie_reviews.csv\")"
      ]
    },
    {
      "cell_type": "code",
      "execution_count": 24,
      "metadata": {
        "id": "7uEtOyygscxy"
      },
      "outputs": [],
      "source": [
        "df = pd.read_csv(\"/content/dataset_sample_movie_reviews.csv\") # delete . if on colab"
      ]
    },
    {
      "cell_type": "code",
      "execution_count": 25,
      "metadata": {
        "colab": {
          "base_uri": "https://localhost:8080/"
        },
        "id": "ChcVaYLg-hZ1",
        "outputId": "991c6100-bc04-44ce-a8ac-ab12964cd972"
      },
      "outputs": [
        {
          "name": "stdout",
          "output_type": "stream",
          "text": [
            "[\"I wanted to like this movie. But it falls apart in the middle. the whole premise is a good one and ties up nicely, but the middle runs off tangent. The people I watched with were getting annoyed while it ran off course, and hoping it would end sooner than it did. Another person actually fell asleep during the middle segment! I found myself day dreaming elsewhere during the Schtick parts that had nothing to do with the plot. I bought it for the eye candy and it delivered that well, but it lacks Pixar's writing and soul. I think kids 8 and under will enjoy the ride at face vaule, while missing the plot. People old enough to follow a plot will find it wonders too far to return quickly and easily. Edit out most of the middle section, make it 50 minutes and it would be a solid flick. I wish I had better things to say. But I don't\"\n",
            " \"Even if it were remotely funny, this mouldy waxwork of a film would still be soberingly disrespectful. Stopping just short of digging up the boys' corpses and re-enacting 'Weekend At Bernie's' \\x96 but only just \\x96 producer Larry Harmon and the director of the frickin' 'Ernest' films use holding the copyright as an excuse to crap all over Stan and Ollie's legacy. Gailard Sartain does a fair Ollie impersonation but Bronson Pinchot wouldn't reach tenth place in a Stan lookalike contest; even if they were both spot on the film would be no less detestable. The less said about the surrounding catastrophe the better. Makes 'Utopia' look like a dignified swan song.\"\n",
            " \"This is an excellent film and one should not be put off by its strangeness. There is genuine skill in manufacture of this work. It manages to be intrigiung, funny and frightening at various times. Work with it for the first few minutes and you won't be disappointed\"\n",
            " \"Despite having known people who are either great fans of Noam Chomsky, or think he's a tired relic from the 1960s, I really had no opinion of the man, save that I knew he gained fame as a linguist, although I could not elucidate any of his theories, and that he was a liberal socialist with Marxist leanings. So, stumbling across the DVD of the 2003 documentary Noam Chomsky: Rebel Without A Pause, in a used video store, a film which followed him on a 2002 book tour for his book 9-11, I decided to get it, just so I could have a little bit of knowledge about the man the next time a person, pro or con, spoke of him. While glad I got the film, my initial reaction to this dull and ill edited hagiography was, so what's all the fuss about?<br /><br />For a man with so many degrees, lauded as 'the most important intellectual alive', by the New York Times, according to the DVD's case, there sure was not a lot there, intellectually speaking. I know I would chew him up and spit him out in a debate, and I wouldn't even want to watch what a William F. Buckley could do to him. Granted, the whole film was seemingly about Chomsky seeing conspiracies everywhere, and having glazed eyed coeds nod in bewildering approval of the most inane and outrageous things he'd say, rather than being on linguistics, so maybe that's the reason he came off so badly. But, again, if he is a linguist, and tops in his field, why in the world would anyone care what he has to say on anything outside his field of expertise?\\x85. Even worse are his acolytes, who seem to further insulate the man from reality, by fostering delusions that Chomsky is a target for Zionist assassins. What little I knew of Chomsky before watching this film, this much I knew: he was generally considered a has been, and pretty much irrelevant intellectually, since the fall of the Soviet Empire. The film is so poorly structured, and without a narrative thread, that it's difficult to separate all of the jumble. His wife, Carol, as example, apparently gave one interview, which was chopped up and dropped wherever in the film. She seems a nice enough woman, but wholly out of her element answering anything but the most basic questions about their life. The lone interesting thing she says is that 9/11 was a great thing for the Chomskys, for he has reaped a great deal of money in speaking fees since then.<br /><br />Not surprisingly, this sort of film gives almost no biographical background. It's assumed that all viewers must know all the plaudits this 'great man' bears. Chomsky is rarely interviewed one on one. Stylistically, there are no camera movements, no interesting edits, nor any signature touches, and most of the film is disjunct rambles by Chomsky, videotaped huzzahs of Chomsky declaiming on this or that, and slack-jawed and awed students looking at him as if he were immaterial, that is when dimwitted coeds are not asking barely audible and ridiculously simplistic questions to him. This is really poor film-making by director and editor Will Pascoe, who in the DVD's Filmmaker Statement, shows he's yet another uncritical acolyte of Chomsky's. Other than that, one of the surest signs that this is not an objective documentary, but mere agitprop, and a vanity piece of agitprop, at that, is that not a single time is Chomsky shown struggling with an answer. He seems to be a font of knowledge that has no bounds.<br /><br />Given that much of this dreck was filmed during Chomsky's lectures at McMaster University, in Ontario, Canada, prior to the American invasion of Iraq in 2003, much of what Chomsky says seems as remote as things from the Vietnam War era. Yes, he makes some good points, here and there, on American media complicity before the war, but he follows them up with sheer lunacy, for he seems to not realize that most conspiracies are ad hoc, and not fully plotted out cabals. As example, he claims that the advertising industry is a cabal that mercilessly controls the populace, but says not a word about the zombied populace that lets itself be so controlled. Similarly, he claims Trilateralists run the world and that people's fear of crime is yet another cabal's result. Of course, that claim so fully explains away rape crisis centers, and all that wasted time and money district attorneys' offices consume. He also makes the absurd claim that Cuba has been the victim of terrorism for decades, when Castro and company were great sponsors of it, in Latin America, Asia, and Africa, until the Soviet Union fell. I can only guess that the UFO conspiracists are just waiting for Chomsky to proclaim that gray aliens have set up species-mixing impregnation centers up in Idaho.<br /><br />In his simpleminded world without grays, Chomsky is frighteningly as dense as the members of Bushco, whom he reviles, are; even more so since they lay no claim to being intellectuals. In short, Chomsky is a man living in the past, in over his head on most issues, and out of his depth intellectually. Near this film's end he warns, 'Be cautious when you hear about intellectuals being fighters for justice,' yet one can only laugh, as the man seemingly has never met a revolutionary person nor idea that he didn't like, no matter how barbarous their crimes, and anti-intellectual their posit. Please, pause before you waste your time and money on this silly, and already irrelevant, DVD.\"\n",
            " 'One word: suPURRRRb! I don\\'t think I have see anything like this in a long time on network or cable television. Watching this show was like taking a breath of fresh air amid TV schedule filled with reality shows and boring re-runs. <br /><br />I have to say I had my reservations. After all, critics were almost unanimous in crying foul and downgrading the show. But when half an hour was over (by the way, thank you, NBC, for running a commercial-free show), I was left with the feeling of instant love, love at first glance, the true love that one feels in his guts. Everything about this show screamed EXCELLENCE.<br /><br />Graphics in this show were at least as good as Finding Nemo and Shrek. No small feat considering those movies took years to be developed.<br /><br />Cast was marvelous. I am partial to John Goodman\\'s voice, but the rest of the team certainly were on par with John. Special mention: Lisa Kudrow\\'s guest appearance. She was on top of the game creating neurotic, pudgy, and lovable panda with a Jewish streak in her. (Panda from Brooklyn? Only in this show.) <br /><br />Script was funny, with a lot of inside and adult jokes which were sharp, yet not tacky. A note for all parents: this is NOT for children. This show was never advertised as such, and there\\'s a reason why it\\'s set for 9PM, not 8PM. So if you\\'d like to complain about \"objectionable context\", save your breath. Adults deserve a comedy made just for them, and Father of the Pride is it. <br /><br />Not everything was perfect. I was a bit puzzled by Siegfried and Roy\\'s characters. Do I sense \"stereotype\" when it comes to them? Yes, they are gay. Yes, they are flamboyant. Yes, they speak with German accents. But that\\'s yesterday\\'s news. Give us something new, something fresh, something funny. Putting the old jokes in a new show is definitely the wrong approach. I understand that the creators of this show wanted to use the \"star power\" that these guys have. That\\'s fine by me. But please don\\'t dwell on something everybody already knows by heart. Hopefully, the rest of the show is not going to play the same old record over and over. <br /><br />In general, the show is definitely a Must-See-TV. Funny, witty, with a few unexpected twists here and there -- there haven\\'t been a comedy this good since Seinfeld. I am certainly looking forward to the next episode.'\n",
            " \"The early career of Abe Lincoln is beautifully presented by Ford. Not that anyone alive has seen footage of the real Lincoln, but Fonda, wearing a fake nose, is uncanny as Lincoln, with the voice, delivery, walk, and other mannerisms - exactly as one would imagine Lincoln to have been. Ford, in the first of three consecutive films he made with Fonda, is at the top of his form, perfectly evoking early 19th century America. The story focuses on a pair accused of murder that Lincoln defends and the courtroom scenes are quite well done. The supporting cast includes many of Ford's regulars. This was Alice Brady's last film, as she died months after its release.\"\n",
            " \"I bought this at tower records after seeing the info-mercial about fifteen hundred times on comedy central. I was actually really looking forward to watching this. My god where did i go wrong? Now before i give my review let me just say that i am a person who can pretty much find the good in all movies, hell i own over 1,500 dvd's! With that said, the underground comedy movie ranks up there with the worst film i have EVER seen. I tried to give it a chance, but not only was it not funny. It had no point, did not offend what-so-ever and was all around stupid. God who in their right mind thought these pieces of crap were funny? this is going right to the bottom of the bin...\"\n",
            " 'Steven Spielberg produced, wrote, came up with ideas for and even directed episodes of Amazing Stories, so naturally this would have to be the greatest anthology ever right? Unfortunately wrong. Some episodes are just fantastic, but all too often it was a mixed bag. In fact, that might have been it\\'s downfall is it was way too mixed. Some episodes were light comedies, some were dramas, some were horror, and one was even animated, which made this a similar, but not as good 80s version of the Twilight Zone (which also was around).<br /><br />Normally I\\'d like having a mixture of stories in an anthology show, but they just didn\\'t fully work here. Some of the more fantastical dramatic episodes felt like they would be better being shown late on night on the Lifetime network, like the episode \"Ghost Train\", which was directed by Spielberg himself. In that episode, it gave the message of hope, and gave us a fantasy story, but overall it was just a build up to the ending which didn\\'t blow me away anyways. The horror episodes tended to work better than the drama, but there were far more dramatic ones, and they grow tiring to watch. Acting wise, this anthology got some big stars, similar to the original Twilight Zone. Kevin Costner, Kiefer Sutherland, Milton Berle, Dom Deluise, Harvey Keitel, Beau Bridges, Charlie Sheen, Forrest Whitaker, Tim Robbins, John Lithgow, Rhea Perlman, Danny Devito, Patrick Swayze, Christopher Lloyd, June Lockhart, Kathy Baker, Weird Al Yankovich and many other well knowns have been in episodes of the show. It\\'s fun to see well known actors in almost every episode of the series. Great directors have also had part in episodes including Spielberg himself, Clint Eastwood, Burt Reynolds, Bob Clark, Joe Dante, Mick Garris, Paul Bartel, Joe Dante, Robert Zemeckis, Danny Devito and even Martin Scorsese. I\\'d actually recommend this more to fans of the directors and/or the 80s than anyone else.<br /><br />Amazing Stories was sometimes amazing, usually good, occasionally mediocre, and every once in a while a real stinker came out. But, this show has nostalgic value to me, and it\\'s sort of fun to sit on boring afternoons and watch some episodes. John Williams\\' theme music for the show is sure to be caught in anyone\\'s head who watches this, too.<br /><br />My rating: Good show. 30 mins. per episode. TVPG'\n",
            " 'When I took my seat in the cinema I was in a cool mood and didn\\'t plan on changing it. But this movie is a dramatic powerhouse. I was all in sweat and needed a shower afterward. So what have we? Theoretically a coming of age story of a teenage Turkish girl living in Copenhagen, Denmark. It came to my mind soon that the plot seemed pretty much completely borrowed from \"Bend it like Beckham\", where we had an Indian girl playing football and spoiling the wedding of her sister. Here we have it transferred to a Turkish girl spoiling her brother\\'s wedding by doing Kung Fu. And we have a love story and a competition of course, too. After I accepted this, this really turned out to be a gripping, emotional drama and it shows off some beautiful Kung Fu (I\\'m not an expert, though). The lead actress Semra Turan is not only Denmark\\'s female champion but she also delivers an excellent performance, so that it appears to be safe to assume that we have quite some autobiographic impressions here taking into account that this is her first movie and that she has no education as an actress. Rest of the supporting cast is okay, camera good, Kung Fu intense. Sidenotes: - The male Turkish audience showed respect so that they must have done something right. - The audience burst into cheers when our heroine finally fought back and attacked the boys who were gravely beating up her brother in revenge. - Xian Gao, a Chinese cinematic Kung Fu instructor/actor (Hidden Tiger, Crouching Dragon) played the lead role\\'s master<br /><br />If you get the chance to see this in cinema do it, you\\'ll probably have a good and intense experience and I don\\'t know if this works on small screen as well'\n",
            " \"I wonder how the actors acted in this movie. Annette Bening was really herself, half in and half out, was she faking or being natural? It didn't make any difference considering that even if she had been walking on the ceiling it would not have changed the pattern of the film. Brian Cox acted really well. I almost thought that he had always acted this way, tricky, dishonest, in a dirty surrounding where nobody really cared about hygiene. As for Gwyneth Paltrow, the question is what she was doing in this film.<br /><br />This film is quite sickening and disgusting. Who would pay to see such a crap?\"]\n",
            "10\n"
          ]
        }
      ],
      "source": [
        "testing_array = df['Review'].values\n",
        "print(testing_array)\n",
        "print(len(testing_array))"
      ]
    },
    {
      "cell_type": "markdown",
      "metadata": {
        "id": "-MuV0KVdAnnQ"
      },
      "source": [
        "###  **Step 2:** Prompt the text generative LLM - using the prompt given below\n"
      ]
    },
    {
      "cell_type": "markdown",
      "metadata": {
        "id": "g4kZ3EFI-CbW"
      },
      "source": [
        "**Query the text generating llm with the following prompt:** (copy the document as mentionned: PASTE_DOCUMENTS_HERE)\n",
        "\n",
        "```\n",
        "Please classify the following 10 sentences: positive, negative or neutral. Here are the sentences:\n",
        "```\n",
        "```\n",
        "PASTE_SENTENCES_HERE. please return the answers as an array\n",
        "```"
      ]
    },
    {
      "cell_type": "markdown",
      "metadata": {
        "id": "xG5uVf6IAyIb"
      },
      "source": [
        "###**Step 3:** Computing and calculating the scores & download results\n"
      ]
    },
    {
      "cell_type": "code",
      "execution_count": 32,
      "metadata": {
        "id": "Q2vDiwrN9_L1"
      },
      "outputs": [],
      "source": [
        "# Add the result\n",
        "predicted_labels = ['Positive', 'Negative', 'Neutral', 'Negative', 'Negative', 'Negative', 'Positive', 'Neutral', 'Negative', 'Positive']"
      ]
    },
    {
      "cell_type": "code",
      "execution_count": 27,
      "metadata": {
        "colab": {
          "base_uri": "https://localhost:8080/"
        },
        "id": "AhYWAJzU90y4",
        "outputId": "73df8113-519b-46dd-8360-6d05e19e75d6"
      },
      "outputs": [
        {
          "name": "stdout",
          "output_type": "stream",
          "text": [
            "Total Score: 0.2\n",
            "\n",
            "DataFrame with 10 random reviews:\n"
          ]
        }
      ],
      "source": [
        "df['Predicted_Labels'] = predicted_labels\n",
        "correct_predictions = sum(df['Ground_Truth_Label'] == df['Predicted_Labels'])\n",
        "total_reviews = len(df)\n",
        "accuracy = correct_predictions / total_reviews\n",
        "print(\"Total Score:\", accuracy)\n",
        "print(\"\\nDataFrame with 10 random reviews:\")"
      ]
    },
    {
      "cell_type": "code",
      "execution_count": 28,
      "metadata": {
        "colab": {
          "base_uri": "https://localhost:8080/",
          "height": 363
        },
        "id": "rGsZMiiV--oZ",
        "outputId": "4bdba829-9726-4904-c886-2a02dff80b4b"
      },
      "outputs": [
        {
          "data": {
            "application/vnd.google.colaboratory.intrinsic+json": {
              "summary": "{\n  \"name\": \"df\",\n  \"rows\": 10,\n  \"fields\": [\n    {\n      \"column\": \"Unnamed: 0\",\n      \"properties\": {\n        \"dtype\": \"number\",\n        \"std\": 3,\n        \"min\": 0,\n        \"max\": 9,\n        \"num_unique_values\": 10,\n        \"samples\": [\n          8,\n          1,\n          5\n        ],\n        \"semantic_type\": \"\",\n        \"description\": \"\"\n      }\n    },\n    {\n      \"column\": \"Review\",\n      \"properties\": {\n        \"dtype\": \"string\",\n        \"num_unique_values\": 10,\n        \"samples\": [\n          \"When I took my seat in the cinema I was in a cool mood and didn't plan on changing it. But this movie is a dramatic powerhouse. I was all in sweat and needed a shower afterward. So what have we? Theoretically a coming of age story of a teenage Turkish girl living in Copenhagen, Denmark. It came to my mind soon that the plot seemed pretty much completely borrowed from \\\"Bend it like Beckham\\\", where we had an Indian girl playing football and spoiling the wedding of her sister. Here we have it transferred to a Turkish girl spoiling her brother's wedding by doing Kung Fu. And we have a love story and a competition of course, too. After I accepted this, this really turned out to be a gripping, emotional drama and it shows off some beautiful Kung Fu (I'm not an expert, though). The lead actress Semra Turan is not only Denmark's female champion but she also delivers an excellent performance, so that it appears to be safe to assume that we have quite some autobiographic impressions here taking into account that this is her first movie and that she has no education as an actress. Rest of the supporting cast is okay, camera good, Kung Fu intense. Sidenotes: - The male Turkish audience showed respect so that they must have done something right. - The audience burst into cheers when our heroine finally fought back and attacked the boys who were gravely beating up her brother in revenge. - Xian Gao, a Chinese cinematic Kung Fu instructor/actor (Hidden Tiger, Crouching Dragon) played the lead role's master<br /><br />If you get the chance to see this in cinema do it, you'll probably have a good and intense experience and I don't know if this works on small screen as well\",\n          \"Even if it were remotely funny, this mouldy waxwork of a film would still be soberingly disrespectful. Stopping just short of digging up the boys' corpses and re-enacting 'Weekend At Bernie's' \\u0096 but only just \\u0096 producer Larry Harmon and the director of the frickin' 'Ernest' films use holding the copyright as an excuse to crap all over Stan and Ollie's legacy. Gailard Sartain does a fair Ollie impersonation but Bronson Pinchot wouldn't reach tenth place in a Stan lookalike contest; even if they were both spot on the film would be no less detestable. The less said about the surrounding catastrophe the better. Makes 'Utopia' look like a dignified swan song.\",\n          \"The early career of Abe Lincoln is beautifully presented by Ford. Not that anyone alive has seen footage of the real Lincoln, but Fonda, wearing a fake nose, is uncanny as Lincoln, with the voice, delivery, walk, and other mannerisms - exactly as one would imagine Lincoln to have been. Ford, in the first of three consecutive films he made with Fonda, is at the top of his form, perfectly evoking early 19th century America. The story focuses on a pair accused of murder that Lincoln defends and the courtroom scenes are quite well done. The supporting cast includes many of Ford's regulars. This was Alice Brady's last film, as she died months after its release.\"\n        ],\n        \"semantic_type\": \"\",\n        \"description\": \"\"\n      }\n    },\n    {\n      \"column\": \"Ground_Truth_Label\",\n      \"properties\": {\n        \"dtype\": \"category\",\n        \"num_unique_values\": 2,\n        \"samples\": [\n          \"Positive\",\n          \"Negative\"\n        ],\n        \"semantic_type\": \"\",\n        \"description\": \"\"\n      }\n    },\n    {\n      \"column\": \"Predicted_Labels\",\n      \"properties\": {\n        \"dtype\": \"category\",\n        \"num_unique_values\": 3,\n        \"samples\": [\n          \"Positive\",\n          \"Negative\"\n        ],\n        \"semantic_type\": \"\",\n        \"description\": \"\"\n      }\n    }\n  ]\n}",
              "type": "dataframe",
              "variable_name": "df"
            },
            "text/html": [
              "\n",
              "  <div id=\"df-58496966-785a-4f55-b041-25cb28c6fd72\" class=\"colab-df-container\">\n",
              "    <div>\n",
              "<style scoped>\n",
              "    .dataframe tbody tr th:only-of-type {\n",
              "        vertical-align: middle;\n",
              "    }\n",
              "\n",
              "    .dataframe tbody tr th {\n",
              "        vertical-align: top;\n",
              "    }\n",
              "\n",
              "    .dataframe thead th {\n",
              "        text-align: right;\n",
              "    }\n",
              "</style>\n",
              "<table border=\"1\" class=\"dataframe\">\n",
              "  <thead>\n",
              "    <tr style=\"text-align: right;\">\n",
              "      <th></th>\n",
              "      <th>Unnamed: 0</th>\n",
              "      <th>Review</th>\n",
              "      <th>Ground_Truth_Label</th>\n",
              "      <th>Predicted_Labels</th>\n",
              "    </tr>\n",
              "  </thead>\n",
              "  <tbody>\n",
              "    <tr>\n",
              "      <th>0</th>\n",
              "      <td>0</td>\n",
              "      <td>I wanted to like this movie. But it falls apar...</td>\n",
              "      <td>Negative</td>\n",
              "      <td>Positive</td>\n",
              "    </tr>\n",
              "    <tr>\n",
              "      <th>1</th>\n",
              "      <td>1</td>\n",
              "      <td>Even if it were remotely funny, this mouldy wa...</td>\n",
              "      <td>Negative</td>\n",
              "      <td>Negative</td>\n",
              "    </tr>\n",
              "    <tr>\n",
              "      <th>2</th>\n",
              "      <td>2</td>\n",
              "      <td>This is an excellent film and one should not b...</td>\n",
              "      <td>Positive</td>\n",
              "      <td>Neutral</td>\n",
              "    </tr>\n",
              "    <tr>\n",
              "      <th>3</th>\n",
              "      <td>3</td>\n",
              "      <td>Despite having known people who are either gre...</td>\n",
              "      <td>Negative</td>\n",
              "      <td>Negative</td>\n",
              "    </tr>\n",
              "    <tr>\n",
              "      <th>4</th>\n",
              "      <td>4</td>\n",
              "      <td>One word: suPURRRRb! I don't think I have see ...</td>\n",
              "      <td>Positive</td>\n",
              "      <td>Negative</td>\n",
              "    </tr>\n",
              "    <tr>\n",
              "      <th>5</th>\n",
              "      <td>5</td>\n",
              "      <td>The early career of Abe Lincoln is beautifully...</td>\n",
              "      <td>Positive</td>\n",
              "      <td>Negative</td>\n",
              "    </tr>\n",
              "    <tr>\n",
              "      <th>6</th>\n",
              "      <td>6</td>\n",
              "      <td>I bought this at tower records after seeing th...</td>\n",
              "      <td>Negative</td>\n",
              "      <td>Positive</td>\n",
              "    </tr>\n",
              "    <tr>\n",
              "      <th>7</th>\n",
              "      <td>7</td>\n",
              "      <td>Steven Spielberg produced, wrote, came up with...</td>\n",
              "      <td>Positive</td>\n",
              "      <td>Neutral</td>\n",
              "    </tr>\n",
              "    <tr>\n",
              "      <th>8</th>\n",
              "      <td>8</td>\n",
              "      <td>When I took my seat in the cinema I was in a c...</td>\n",
              "      <td>Positive</td>\n",
              "      <td>Negative</td>\n",
              "    </tr>\n",
              "    <tr>\n",
              "      <th>9</th>\n",
              "      <td>9</td>\n",
              "      <td>I wonder how the actors acted in this movie. A...</td>\n",
              "      <td>Negative</td>\n",
              "      <td>Positive</td>\n",
              "    </tr>\n",
              "  </tbody>\n",
              "</table>\n",
              "</div>\n",
              "    <div class=\"colab-df-buttons\">\n",
              "\n",
              "  <div class=\"colab-df-container\">\n",
              "    <button class=\"colab-df-convert\" onclick=\"convertToInteractive('df-58496966-785a-4f55-b041-25cb28c6fd72')\"\n",
              "            title=\"Convert this dataframe to an interactive table.\"\n",
              "            style=\"display:none;\">\n",
              "\n",
              "  <svg xmlns=\"http://www.w3.org/2000/svg\" height=\"24px\" viewBox=\"0 -960 960 960\">\n",
              "    <path d=\"M120-120v-720h720v720H120Zm60-500h600v-160H180v160Zm220 220h160v-160H400v160Zm0 220h160v-160H400v160ZM180-400h160v-160H180v160Zm440 0h160v-160H620v160ZM180-180h160v-160H180v160Zm440 0h160v-160H620v160Z\"/>\n",
              "  </svg>\n",
              "    </button>\n",
              "\n",
              "  <style>\n",
              "    .colab-df-container {\n",
              "      display:flex;\n",
              "      gap: 12px;\n",
              "    }\n",
              "\n",
              "    .colab-df-convert {\n",
              "      background-color: #E8F0FE;\n",
              "      border: none;\n",
              "      border-radius: 50%;\n",
              "      cursor: pointer;\n",
              "      display: none;\n",
              "      fill: #1967D2;\n",
              "      height: 32px;\n",
              "      padding: 0 0 0 0;\n",
              "      width: 32px;\n",
              "    }\n",
              "\n",
              "    .colab-df-convert:hover {\n",
              "      background-color: #E2EBFA;\n",
              "      box-shadow: 0px 1px 2px rgba(60, 64, 67, 0.3), 0px 1px 3px 1px rgba(60, 64, 67, 0.15);\n",
              "      fill: #174EA6;\n",
              "    }\n",
              "\n",
              "    .colab-df-buttons div {\n",
              "      margin-bottom: 4px;\n",
              "    }\n",
              "\n",
              "    [theme=dark] .colab-df-convert {\n",
              "      background-color: #3B4455;\n",
              "      fill: #D2E3FC;\n",
              "    }\n",
              "\n",
              "    [theme=dark] .colab-df-convert:hover {\n",
              "      background-color: #434B5C;\n",
              "      box-shadow: 0px 1px 3px 1px rgba(0, 0, 0, 0.15);\n",
              "      filter: drop-shadow(0px 1px 2px rgba(0, 0, 0, 0.3));\n",
              "      fill: #FFFFFF;\n",
              "    }\n",
              "  </style>\n",
              "\n",
              "    <script>\n",
              "      const buttonEl =\n",
              "        document.querySelector('#df-58496966-785a-4f55-b041-25cb28c6fd72 button.colab-df-convert');\n",
              "      buttonEl.style.display =\n",
              "        google.colab.kernel.accessAllowed ? 'block' : 'none';\n",
              "\n",
              "      async function convertToInteractive(key) {\n",
              "        const element = document.querySelector('#df-58496966-785a-4f55-b041-25cb28c6fd72');\n",
              "        const dataTable =\n",
              "          await google.colab.kernel.invokeFunction('convertToInteractive',\n",
              "                                                    [key], {});\n",
              "        if (!dataTable) return;\n",
              "\n",
              "        const docLinkHtml = 'Like what you see? Visit the ' +\n",
              "          '<a target=\"_blank\" href=https://colab.research.google.com/notebooks/data_table.ipynb>data table notebook</a>'\n",
              "          + ' to learn more about interactive tables.';\n",
              "        element.innerHTML = '';\n",
              "        dataTable['output_type'] = 'display_data';\n",
              "        await google.colab.output.renderOutput(dataTable, element);\n",
              "        const docLink = document.createElement('div');\n",
              "        docLink.innerHTML = docLinkHtml;\n",
              "        element.appendChild(docLink);\n",
              "      }\n",
              "    </script>\n",
              "  </div>\n",
              "\n",
              "\n",
              "<div id=\"df-1797831a-b095-4b42-a73c-efb5df0d9507\">\n",
              "  <button class=\"colab-df-quickchart\" onclick=\"quickchart('df-1797831a-b095-4b42-a73c-efb5df0d9507')\"\n",
              "            title=\"Suggest charts\"\n",
              "            style=\"display:none;\">\n",
              "\n",
              "<svg xmlns=\"http://www.w3.org/2000/svg\" height=\"24px\"viewBox=\"0 0 24 24\"\n",
              "     width=\"24px\">\n",
              "    <g>\n",
              "        <path d=\"M19 3H5c-1.1 0-2 .9-2 2v14c0 1.1.9 2 2 2h14c1.1 0 2-.9 2-2V5c0-1.1-.9-2-2-2zM9 17H7v-7h2v7zm4 0h-2V7h2v10zm4 0h-2v-4h2v4z\"/>\n",
              "    </g>\n",
              "</svg>\n",
              "  </button>\n",
              "\n",
              "<style>\n",
              "  .colab-df-quickchart {\n",
              "      --bg-color: #E8F0FE;\n",
              "      --fill-color: #1967D2;\n",
              "      --hover-bg-color: #E2EBFA;\n",
              "      --hover-fill-color: #174EA6;\n",
              "      --disabled-fill-color: #AAA;\n",
              "      --disabled-bg-color: #DDD;\n",
              "  }\n",
              "\n",
              "  [theme=dark] .colab-df-quickchart {\n",
              "      --bg-color: #3B4455;\n",
              "      --fill-color: #D2E3FC;\n",
              "      --hover-bg-color: #434B5C;\n",
              "      --hover-fill-color: #FFFFFF;\n",
              "      --disabled-bg-color: #3B4455;\n",
              "      --disabled-fill-color: #666;\n",
              "  }\n",
              "\n",
              "  .colab-df-quickchart {\n",
              "    background-color: var(--bg-color);\n",
              "    border: none;\n",
              "    border-radius: 50%;\n",
              "    cursor: pointer;\n",
              "    display: none;\n",
              "    fill: var(--fill-color);\n",
              "    height: 32px;\n",
              "    padding: 0;\n",
              "    width: 32px;\n",
              "  }\n",
              "\n",
              "  .colab-df-quickchart:hover {\n",
              "    background-color: var(--hover-bg-color);\n",
              "    box-shadow: 0 1px 2px rgba(60, 64, 67, 0.3), 0 1px 3px 1px rgba(60, 64, 67, 0.15);\n",
              "    fill: var(--button-hover-fill-color);\n",
              "  }\n",
              "\n",
              "  .colab-df-quickchart-complete:disabled,\n",
              "  .colab-df-quickchart-complete:disabled:hover {\n",
              "    background-color: var(--disabled-bg-color);\n",
              "    fill: var(--disabled-fill-color);\n",
              "    box-shadow: none;\n",
              "  }\n",
              "\n",
              "  .colab-df-spinner {\n",
              "    border: 2px solid var(--fill-color);\n",
              "    border-color: transparent;\n",
              "    border-bottom-color: var(--fill-color);\n",
              "    animation:\n",
              "      spin 1s steps(1) infinite;\n",
              "  }\n",
              "\n",
              "  @keyframes spin {\n",
              "    0% {\n",
              "      border-color: transparent;\n",
              "      border-bottom-color: var(--fill-color);\n",
              "      border-left-color: var(--fill-color);\n",
              "    }\n",
              "    20% {\n",
              "      border-color: transparent;\n",
              "      border-left-color: var(--fill-color);\n",
              "      border-top-color: var(--fill-color);\n",
              "    }\n",
              "    30% {\n",
              "      border-color: transparent;\n",
              "      border-left-color: var(--fill-color);\n",
              "      border-top-color: var(--fill-color);\n",
              "      border-right-color: var(--fill-color);\n",
              "    }\n",
              "    40% {\n",
              "      border-color: transparent;\n",
              "      border-right-color: var(--fill-color);\n",
              "      border-top-color: var(--fill-color);\n",
              "    }\n",
              "    60% {\n",
              "      border-color: transparent;\n",
              "      border-right-color: var(--fill-color);\n",
              "    }\n",
              "    80% {\n",
              "      border-color: transparent;\n",
              "      border-right-color: var(--fill-color);\n",
              "      border-bottom-color: var(--fill-color);\n",
              "    }\n",
              "    90% {\n",
              "      border-color: transparent;\n",
              "      border-bottom-color: var(--fill-color);\n",
              "    }\n",
              "  }\n",
              "</style>\n",
              "\n",
              "  <script>\n",
              "    async function quickchart(key) {\n",
              "      const quickchartButtonEl =\n",
              "        document.querySelector('#' + key + ' button');\n",
              "      quickchartButtonEl.disabled = true;  // To prevent multiple clicks.\n",
              "      quickchartButtonEl.classList.add('colab-df-spinner');\n",
              "      try {\n",
              "        const charts = await google.colab.kernel.invokeFunction(\n",
              "            'suggestCharts', [key], {});\n",
              "      } catch (error) {\n",
              "        console.error('Error during call to suggestCharts:', error);\n",
              "      }\n",
              "      quickchartButtonEl.classList.remove('colab-df-spinner');\n",
              "      quickchartButtonEl.classList.add('colab-df-quickchart-complete');\n",
              "    }\n",
              "    (() => {\n",
              "      let quickchartButtonEl =\n",
              "        document.querySelector('#df-1797831a-b095-4b42-a73c-efb5df0d9507 button');\n",
              "      quickchartButtonEl.style.display =\n",
              "        google.colab.kernel.accessAllowed ? 'block' : 'none';\n",
              "    })();\n",
              "  </script>\n",
              "</div>\n",
              "    </div>\n",
              "  </div>\n"
            ],
            "text/plain": [
              "   Unnamed: 0                                             Review  \\\n",
              "0           0  I wanted to like this movie. But it falls apar...   \n",
              "1           1  Even if it were remotely funny, this mouldy wa...   \n",
              "2           2  This is an excellent film and one should not b...   \n",
              "3           3  Despite having known people who are either gre...   \n",
              "4           4  One word: suPURRRRb! I don't think I have see ...   \n",
              "5           5  The early career of Abe Lincoln is beautifully...   \n",
              "6           6  I bought this at tower records after seeing th...   \n",
              "7           7  Steven Spielberg produced, wrote, came up with...   \n",
              "8           8  When I took my seat in the cinema I was in a c...   \n",
              "9           9  I wonder how the actors acted in this movie. A...   \n",
              "\n",
              "  Ground_Truth_Label Predicted_Labels  \n",
              "0           Negative         Positive  \n",
              "1           Negative         Negative  \n",
              "2           Positive          Neutral  \n",
              "3           Negative         Negative  \n",
              "4           Positive         Negative  \n",
              "5           Positive         Negative  \n",
              "6           Negative         Positive  \n",
              "7           Positive          Neutral  \n",
              "8           Positive         Negative  \n",
              "9           Negative         Positive  "
            ]
          },
          "execution_count": 28,
          "metadata": {},
          "output_type": "execute_result"
        }
      ],
      "source": [
        "df"
      ]
    },
    {
      "cell_type": "code",
      "execution_count": 29,
      "metadata": {
        "id": "CBypDP6z_dqU"
      },
      "outputs": [],
      "source": [
        "model_name = \"Chat GPT\"\n",
        "output_filename = \"chat_gpt_sentiment.csv\""
      ]
    },
    {
      "cell_type": "code",
      "execution_count": 31,
      "metadata": {
        "colab": {
          "base_uri": "https://localhost:8080/"
        },
        "id": "vlyYgymT_CDg",
        "outputId": "8e82887e-501f-4b03-ea43-95c9a405d08a"
      },
      "outputs": [
        {
          "name": "stdout",
          "output_type": "stream",
          "text": [
            "  model_name  accuracy\n",
            "0   Chat GPT       0.2\n"
          ]
        }
      ],
      "source": [
        "new_data = {\n",
        "    'model_name': model_name,\n",
        "    'accuracy': [accuracy]\n",
        "}\n",
        "new_df = pd.DataFrame(new_data)\n",
        "new_df.to_csv(output_filename, index=False)\n",
        "print(new_df)"
      ]
    },
    {
      "cell_type": "markdown",
      "metadata": {
        "id": "1Pxg7y-usD-b"
      },
      "source": [
        "### **Step 4:** Compress all in 1 function"
      ]
    },
    {
      "cell_type": "code",
      "execution_count": 25,
      "metadata": {
        "id": "_imQdyYCsEpx"
      },
      "outputs": [],
      "source": [
        "import pandas as pd\n",
        "\n",
        "def calculate_and_export_sent_analysis(model_name, opt_result):\n",
        "    df = pd.read_csv(\"./content/dataset_sample_movie_reviews.csv\") # Adjust path if necessary\n",
        "    # Convert both predicted and ground truth labels to lowercase\n",
        "    predicted_labels = [label.lower() for label in opt_result]\n",
        "    df['Predicted_Labels'] = predicted_labels\n",
        "    df['Ground_Truth_Label'] = df['Ground_Truth_Label'].str.lower()\n",
        "    # Count correct predictions\n",
        "    correct_predictions = sum(df['Ground_Truth_Label'] == df['Predicted_Labels'])\n",
        "    total_reviews = len(df)\n",
        "    accuracy = correct_predictions / total_reviews\n",
        "    # Create DataFrame with accuracy and model name\n",
        "    new_data = {\n",
        "        'model_name': model_name,\n",
        "        'accuracy': [accuracy]\n",
        "    }\n",
        "    new_df = pd.DataFrame(new_data)\n",
        "    # Export to CSV\n",
        "    output_filename = f\"./results/{model_name}.csv\"\n",
        "    new_df.to_csv(output_filename, index=False)\n",
        "\n",
        "    return new_df"
      ]
    },
    {
      "cell_type": "code",
      "execution_count": 26,
      "metadata": {
        "colab": {
          "base_uri": "https://localhost:8080/",
          "height": 363
        },
        "id": "mAhXJ5AWtOVY",
        "outputId": "764833ed-d492-474b-f850-2898ba1ee33f"
      },
      "outputs": [
        {
          "data": {
            "text/html": [
              "<div>\n",
              "<style scoped>\n",
              "    .dataframe tbody tr th:only-of-type {\n",
              "        vertical-align: middle;\n",
              "    }\n",
              "\n",
              "    .dataframe tbody tr th {\n",
              "        vertical-align: top;\n",
              "    }\n",
              "\n",
              "    .dataframe thead th {\n",
              "        text-align: right;\n",
              "    }\n",
              "</style>\n",
              "<table border=\"1\" class=\"dataframe\">\n",
              "  <thead>\n",
              "    <tr style=\"text-align: right;\">\n",
              "      <th></th>\n",
              "      <th>Review</th>\n",
              "    </tr>\n",
              "  </thead>\n",
              "  <tbody>\n",
              "    <tr>\n",
              "      <th>0</th>\n",
              "      <td>I wanted to like this movie. But it falls apar...</td>\n",
              "    </tr>\n",
              "    <tr>\n",
              "      <th>1</th>\n",
              "      <td>Even if it were remotely funny, this mouldy wa...</td>\n",
              "    </tr>\n",
              "    <tr>\n",
              "      <th>2</th>\n",
              "      <td>This is an excellent film and one should not b...</td>\n",
              "    </tr>\n",
              "    <tr>\n",
              "      <th>3</th>\n",
              "      <td>Despite having known people who are either gre...</td>\n",
              "    </tr>\n",
              "    <tr>\n",
              "      <th>4</th>\n",
              "      <td>One word: suPURRRRb! I don't think I have see ...</td>\n",
              "    </tr>\n",
              "    <tr>\n",
              "      <th>5</th>\n",
              "      <td>The early career of Abe Lincoln is beautifully...</td>\n",
              "    </tr>\n",
              "    <tr>\n",
              "      <th>6</th>\n",
              "      <td>I bought this at tower records after seeing th...</td>\n",
              "    </tr>\n",
              "    <tr>\n",
              "      <th>7</th>\n",
              "      <td>Steven Spielberg produced, wrote, came up with...</td>\n",
              "    </tr>\n",
              "    <tr>\n",
              "      <th>8</th>\n",
              "      <td>When I took my seat in the cinema I was in a c...</td>\n",
              "    </tr>\n",
              "    <tr>\n",
              "      <th>9</th>\n",
              "      <td>I wonder how the actors acted in this movie. A...</td>\n",
              "    </tr>\n",
              "  </tbody>\n",
              "</table>\n",
              "</div>"
            ],
            "text/plain": [
              "                                              Review\n",
              "0  I wanted to like this movie. But it falls apar...\n",
              "1  Even if it were remotely funny, this mouldy wa...\n",
              "2  This is an excellent film and one should not b...\n",
              "3  Despite having known people who are either gre...\n",
              "4  One word: suPURRRRb! I don't think I have see ...\n",
              "5  The early career of Abe Lincoln is beautifully...\n",
              "6  I bought this at tower records after seeing th...\n",
              "7  Steven Spielberg produced, wrote, came up with...\n",
              "8  When I took my seat in the cinema I was in a c...\n",
              "9  I wonder how the actors acted in this movie. A..."
            ]
          },
          "execution_count": 26,
          "metadata": {},
          "output_type": "execute_result"
        }
      ],
      "source": [
        "model_name = \"chat_gpt\"\n",
        "# Generate the results by copy pasting the following prompt:\n",
        "df = pd.read_csv(\"./content/dataset_sample_movie_reviews.csv\") # Adjust path if necessary\n",
        "df[[\"Review\"]]\n",
        "# Click on the icon next to *Review* (convert this dataframe to an interactive table) - then select (right) copy table and select JSON and copy - paste the result in the cell below  replacing **PASTE_DOCUMENTS_HERE**\n",
        "# Then copy the entire cell and prompt the LLM"
      ]
    },
    {
      "cell_type": "code",
      "execution_count": 27,
      "metadata": {
        "id": "sVTc_glatd_q"
      },
      "outputs": [],
      "source": [
        "#Please classify the following 10 sentences: positive, negative or neutral. Here are the sentences please provide an array for answer i.e: predicted_labels = ['positive','negative',...]:: PASTE_SENTENCES_HERE. please return the answers as an array"
      ]
    },
    {
      "cell_type": "code",
      "execution_count": 28,
      "metadata": {
        "id": "Ck-_3n1RuODO"
      },
      "outputs": [],
      "source": [
        "# Example usage:\n",
        "predicted_labels = ['negative', 'negative', 'positive', 'negative', 'positive', 'positive', 'negative', 'neutral', 'positive', 'negative']"
      ]
    },
    {
      "cell_type": "code",
      "execution_count": 29,
      "metadata": {
        "colab": {
          "base_uri": "https://localhost:8080/",
          "height": 80
        },
        "id": "6GVUU6fuuXWV",
        "outputId": "ed0ab2e8-0851-486c-ee31-34c108e3296f"
      },
      "outputs": [
        {
          "data": {
            "text/html": [
              "<div>\n",
              "<style scoped>\n",
              "    .dataframe tbody tr th:only-of-type {\n",
              "        vertical-align: middle;\n",
              "    }\n",
              "\n",
              "    .dataframe tbody tr th {\n",
              "        vertical-align: top;\n",
              "    }\n",
              "\n",
              "    .dataframe thead th {\n",
              "        text-align: right;\n",
              "    }\n",
              "</style>\n",
              "<table border=\"1\" class=\"dataframe\">\n",
              "  <thead>\n",
              "    <tr style=\"text-align: right;\">\n",
              "      <th></th>\n",
              "      <th>model_name</th>\n",
              "      <th>accuracy</th>\n",
              "    </tr>\n",
              "  </thead>\n",
              "  <tbody>\n",
              "    <tr>\n",
              "      <th>0</th>\n",
              "      <td>chat_gpt</td>\n",
              "      <td>0.9</td>\n",
              "    </tr>\n",
              "  </tbody>\n",
              "</table>\n",
              "</div>"
            ],
            "text/plain": [
              "  model_name  accuracy\n",
              "0   chat_gpt       0.9"
            ]
          },
          "execution_count": 29,
          "metadata": {},
          "output_type": "execute_result"
        }
      ],
      "source": [
        "# Example usage:\n",
        "calculate_and_export_sent_analysis(model_name, predicted_labels)"
      ]
    },
    {
      "cell_type": "code",
      "execution_count": 30,
      "metadata": {
        "colab": {
          "base_uri": "https://localhost:8080/",
          "height": 80
        },
        "id": "L1ukiN3nuco2",
        "outputId": "e068aeb1-fc7a-4792-9779-86678bfd00c4"
      },
      "outputs": [
        {
          "data": {
            "text/html": [
              "<div>\n",
              "<style scoped>\n",
              "    .dataframe tbody tr th:only-of-type {\n",
              "        vertical-align: middle;\n",
              "    }\n",
              "\n",
              "    .dataframe tbody tr th {\n",
              "        vertical-align: top;\n",
              "    }\n",
              "\n",
              "    .dataframe thead th {\n",
              "        text-align: right;\n",
              "    }\n",
              "</style>\n",
              "<table border=\"1\" class=\"dataframe\">\n",
              "  <thead>\n",
              "    <tr style=\"text-align: right;\">\n",
              "      <th></th>\n",
              "      <th>model_name</th>\n",
              "      <th>accuracy</th>\n",
              "    </tr>\n",
              "  </thead>\n",
              "  <tbody>\n",
              "    <tr>\n",
              "      <th>0</th>\n",
              "      <td>chat_gpt</td>\n",
              "      <td>0.9</td>\n",
              "    </tr>\n",
              "  </tbody>\n",
              "</table>\n",
              "</div>"
            ],
            "text/plain": [
              "  model_name  accuracy\n",
              "0   chat_gpt       0.9"
            ]
          },
          "execution_count": 30,
          "metadata": {},
          "output_type": "execute_result"
        }
      ],
      "source": [
        "df = pd.read_csv(f\"./results/{model_name}.csv\")  # delete . if on colab\n",
        "df"
      ]
    }
  ],
  "metadata": {
    "colab": {
      "provenance": []
    },
    "kernelspec": {
      "display_name": "Python 3",
      "name": "python3"
    },
    "language_info": {
      "codemirror_mode": {
        "name": "ipython",
        "version": 3
      },
      "file_extension": ".py",
      "mimetype": "text/x-python",
      "name": "python",
      "nbconvert_exporter": "python",
      "pygments_lexer": "ipython3",
      "version": "3.12.0"
    }
  },
  "nbformat": 4,
  "nbformat_minor": 0
}
