{
 "cells": [
  {
   "cell_type": "code",
   "execution_count": 5,
   "metadata": {},
   "outputs": [
    {
     "name": "stdout",
     "output_type": "stream",
     "text": [
      "1. Title: President Barack Obama | Barack Obama Presidential Library\n",
      "   Link: https://www.obamalibrary.gov/obamas/president-barack-obama\n",
      "   Snippet: He resigned his seat in the U.S. Senate on November 16, 2008. Barack Obama was inaugurated as the 44th President of the United States on January 20, 2009.\n",
      "\n",
      "2. Title: President Barack Obama's Inaugural Address | whitehouse.gov\n",
      "   Link: https://obamawhitehouse.archives.gov/blog/2009/01/21/president-Barack-obamas-inaugural-address\n",
      "   Snippet: Jan 21, 2009 ... So it has been; so it must be with this generation of Americans. That we are in the midst of crisis is now well understood. Our nation is at war ...\n",
      "\n",
      "3. Title: Ukraine and Russia Sanctions\n",
      "   Link: https://2009-2017.state.gov/e/eb/tfs/spi/ukrainerussia/\n",
      "   Snippet: Information released online from January 20, 2009 to January 20, 2017. Note ... You are entering the 2009-2017 Archive for the U.S. Department of State. If ...\n",
      "\n",
      "4. Title: Barack H. Obama Cabinet Nominations - U.S. Senate\n",
      "   Link: https://www.senate.gov/legislative/nominations/Obama_cabinet.htm\n",
      "   Snippet: Nomination, Announced, Hearings, Received, Confirmed, Vote. Secretary of Agriculture. Tom Vilsack, Dec 17, 2008, Jan 14, 2009, Jan 20, 2009, Jan 20, 2009 ...\n",
      "\n",
      "5. Title: Copyright Information\n",
      "   Link: https://2009-2017.state.gov/misc/87529.htm\n",
      "   Snippet: The current State Department website covers the Administration of President Barack Obama since he took office on January 20, 2009. The Department's archive ...\n",
      "\n",
      "6. Title: Barack Obama is inaugurated | January 20, 2009 | HISTORY\n",
      "   Link: https://www.history.com/this-day-in-history/barack-obama-is-inaugurated\n",
      "   Snippet: Jan 2, 2018 ... On a freezing day in Washington, D.C., Barack Hussein Obama is sworn in as the 44th U.S. president. The son of a Black father from Kenya and ...\n",
      "\n",
      "7. Title: Locations of Vice Presidential Collections | National Archives\n",
      "   Link: https://www.archives.gov/presidential-records/vice-presidential-records/locations-of-collections\n",
      "   Snippet: Sep 27, 2023 ... Barack Obama, Archival Operations Division. 46, Dick Cheney (b. 1941), January 20, 2001 – January 20, 2009, Republican, George W. Bush, Archival ...\n",
      "\n",
      "8. Title: PAST INAUGURAL CEREMONIES - The Joint Congressional ...\n",
      "   Link: https://www.inaugural.senate.gov/past-inaugural-ceremonies/\n",
      "   Snippet: and Vice President Joseph R. Biden Jr. January 20, 2009. West Front, U.S. Capitol. Washington, D.C.. LEARN MORE.\n",
      "\n",
      "9. Title: 2009 vs. 2017: Comparing Trump's and Obama's Inauguration ...\n",
      "   Link: https://abcnews.go.com/Politics/2009-2017-comparing-trumps-obamas-inauguration-crowds/story?id=44927217\n",
      "   Snippet: Jan 25, 2017 ... The 45th president of the United States speaks outside the Capitol building on Inauguration Day. ... PHOTO: Jan. 20, 2009 Inauguration, 11AM | Jan ...\n",
      "\n",
      "10. Title: BIDEN, Joseph Robinette (Joe), Jr.\n",
      "   Link: https://bioguide.congress.gov/search/bio/B000444\n",
      "   Snippet: ... and served from January 20, 2009, until January 20, 2017; elected as the 46th President of the United States on November 3, 2020; and was inaugurated on January ...\n",
      "\n",
      "... and served from January 20, 2009, until January 20, 2017; elected as the 46th President of the United States on November 3, 2020; and was inaugurated on January ...\n"
     ]
    }
   ],
   "source": [
    "import requests\n",
    "\n",
    "API_KEY = \"API_KEY\"\n",
    "CX = \"CX_KEY\" # CF readme\n",
    "SEARCH_TERM = \"Barack Obama was the President of the United States from January 20, 2009, to January 20, 2017.\"\n",
    "\n",
    "def perform_search(api_key, cx, query):\n",
    "    url = f\"https://www.googleapis.com/customsearch/v1?q={query}&key={api_key}&cx={cx}\"\n",
    "\n",
    "    try:\n",
    "        response = requests.get(url)\n",
    "        response.raise_for_status()  # Check for HTTP errors\n",
    "\n",
    "        data = response.json()\n",
    "        return data.get(\"items\", [])  # Extract search results from the response\n",
    "\n",
    "    except requests.exceptions.RequestException as e:\n",
    "        print(f\"Error: {e}\")\n",
    "        return []\n",
    "\n",
    "# Perform the search\n",
    "search_results = perform_search(API_KEY, CX, SEARCH_TERM)\n",
    "\n",
    "\n",
    "# Display the search results\n",
    "for index, result in enumerate(search_results, start=1):\n",
    "    title = result.get(\"title\", \"N/A\")\n",
    "    link = result.get(\"link\", \"N/A\")\n",
    "    snippet = result.get(\"snippet\", \"N/A\")\n",
    "\n",
    "    print(f\"{index}. Title: {title}\\n   Link: {link}\\n   Snippet: {snippet}\\n\")\n",
    "print(snippet)"
   ]
  },
  {
   "cell_type": "code",
   "execution_count": 7,
   "metadata": {},
   "outputs": [
    {
     "data": {
      "text/plain": [
       "str"
      ]
     },
     "execution_count": 7,
     "metadata": {},
     "output_type": "execute_result"
    }
   ],
   "source": [
    "type(snippet)"
   ]
  },
  {
   "cell_type": "code",
   "execution_count": 8,
   "metadata": {},
   "outputs": [
    {
     "name": "stdout",
     "output_type": "stream",
     "text": [
      "Similarity(cosine): 0.9565217391304349\n"
     ]
    }
   ],
   "source": [
    "## cosine similarity\n",
    "import math\n",
    "import re\n",
    "from collections import Counter as Count\n",
    "\n",
    "word = re.compile(r\"\\w+\")\n",
    "\n",
    "sentence_1 = SEARCH_TERM\n",
    "sentence_2 =snippet\n",
    "\n",
    "def cosine_similarity(vector_1, vector_2):\n",
    "    inter = set(vector_1.keys()) & set(vector_1.keys())\n",
    "    numer = sum([vector_1[i] * vector_2[i] for i in inter])\n",
    "\n",
    "    s_1 = sum([vector_1[i] ** 2 for i in list(vector_1.keys())])\n",
    "    s_2 = sum([vector_1[i] ** 2 for i in list(vector_1.keys())])\n",
    "    deno = math.sqrt(s_1) * math.sqrt(s_2)\n",
    "\n",
    "    if not deno:\n",
    "        return 0.0\n",
    "    else:\n",
    "        return float(numer) / deno\n",
    "\n",
    "def generate_vectors(sent):\n",
    "    w = word.findall(sent)\n",
    "    return Count(w)\n",
    "\n",
    "vec_1 = generate_vectors(sentence_1)\n",
    "vec_2 = generate_vectors(sentence_2)\n",
    "\n",
    "sim = cosine_similarity(vec_1, vec_2)\n",
    "\n",
    "print(\"Similarity(cosine):\", sim)"
   ]
  }
 ],
 "metadata": {
  "kernelspec": {
   "display_name": ".venv",
   "language": "python",
   "name": "python3"
  },
  "language_info": {
   "codemirror_mode": {
    "name": "ipython",
    "version": 3
   },
   "file_extension": ".py",
   "mimetype": "text/x-python",
   "name": "python",
   "nbconvert_exporter": "python",
   "pygments_lexer": "ipython3",
   "version": "3.12.0"
  }
 },
 "nbformat": 4,
 "nbformat_minor": 2
}
