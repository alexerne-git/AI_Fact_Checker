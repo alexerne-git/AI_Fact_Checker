{
 "cells": [
  {
   "cell_type": "code",
   "execution_count": 3,
   "metadata": {},
   "outputs": [
    {
     "name": "stderr",
     "output_type": "stream",
     "text": [
      "C:\\Users\\alexi\\AppData\\Local\\Temp\\ipykernel_38828\\220181466.py:11: FutureWarning: The behavior of DataFrame concatenation with empty or all-NA entries is deprecated. In a future version, this will no longer exclude empty or all-NA columns when determining the result dtypes. To retain the old behavior, exclude the relevant entries before the concat operation.\n",
      "  new_dataset = pd.concat([new_dataset, single_row_data], ignore_index=True)\n"
     ]
    },
    {
     "data": {
      "text/html": [
       "<div>\n",
       "<style scoped>\n",
       "    .dataframe tbody tr th:only-of-type {\n",
       "        vertical-align: middle;\n",
       "    }\n",
       "\n",
       "    .dataframe tbody tr th {\n",
       "        vertical-align: top;\n",
       "    }\n",
       "\n",
       "    .dataframe thead th {\n",
       "        text-align: right;\n",
       "    }\n",
       "</style>\n",
       "<table border=\"1\" class=\"dataframe\">\n",
       "  <thead>\n",
       "    <tr style=\"text-align: right;\">\n",
       "      <th></th>\n",
       "      <th>Model Name</th>\n",
       "      <th>Rouge</th>\n",
       "      <th>Bleu</th>\n",
       "      <th>Sentiment</th>\n",
       "      <th>Fact checking</th>\n",
       "      <th>Bert Score</th>\n",
       "      <th>RoberTa</th>\n",
       "      <th>MODEL_NAME</th>\n",
       "    </tr>\n",
       "  </thead>\n",
       "  <tbody>\n",
       "    <tr>\n",
       "      <th>0</th>\n",
       "      <td>NaN</td>\n",
       "      <td>0.0</td>\n",
       "      <td>0.0</td>\n",
       "      <td>0.9</td>\n",
       "      <td>0.4</td>\n",
       "      <td>0.0</td>\n",
       "      <td>-0.091454</td>\n",
       "      <td>MODEL_NAME</td>\n",
       "    </tr>\n",
       "  </tbody>\n",
       "</table>\n",
       "</div>"
      ],
      "text/plain": [
       "  Model Name  Rouge  Bleu  Sentiment  Fact checking  Bert Score   RoberTa  \\\n",
       "0        NaN    0.0   0.0        0.9            0.4         0.0 -0.091454   \n",
       "\n",
       "   MODEL_NAME  \n",
       "0  MODEL_NAME  "
      ]
     },
     "execution_count": 3,
     "metadata": {},
     "output_type": "execute_result"
    }
   ],
   "source": [
    "import pandas as pd\n",
    "\n",
    "# Create an empty DataFrame with the specified columns\n",
    "columns_list = ['Model Name', 'Rouge', 'Bleu', 'Sentiment', 'Fact checking', 'Bert Score', 'RoberTa']\n",
    "new_dataset = pd.DataFrame(columns=columns_list)\n",
    "\n",
    "# Import the exported file containing the single row\n",
    "single_row_data = pd.read_csv('./all_results/MODEL_NAME_results.csv')\n",
    "\n",
    "# Add the single row to the new dataset\n",
    "new_dataset = pd.concat([new_dataset, single_row_data], ignore_index=True)"
   ]
  }
 ],
 "metadata": {
  "kernelspec": {
   "display_name": "Python 3",
   "language": "python",
   "name": "python3"
  },
  "language_info": {
   "codemirror_mode": {
    "name": "ipython",
    "version": 3
   },
   "file_extension": ".py",
   "mimetype": "text/x-python",
   "name": "python",
   "nbconvert_exporter": "python",
   "pygments_lexer": "ipython3",
   "version": "3.12.0"
  }
 },
 "nbformat": 4,
 "nbformat_minor": 2
}
