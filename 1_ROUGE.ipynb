{
  "cells": [
    {
      "cell_type": "markdown",
      "metadata": {
        "id": "1qRubwEUMVvk"
      },
      "source": [
        "## **ROUGE:** Compares quality / similarity between reference and generated summary\n",
        "\n",
        "In this notebook, we essentially focus on the ROUGE performance metric (more about this on the readme.md file)."
      ]
    },
    {
      "cell_type": "markdown",
      "metadata": {
        "id": "S-_7jxWgqwUq"
      },
      "source": [
        "### **Steps to run this Notebook:**\n",
        "\n",
        "- **Step 1:** Download the libraries & Load the data\n",
        "- **Step 2:** Prompt the text generative LLM - using the prompt given below\n",
        "- **Step 3:** Adding the summary to the pandas df to execute results & download\n",
        "- **Step 4:** Compress all in 1 function"
      ]
    },
    {
      "cell_type": "markdown",
      "metadata": {
        "id": "ZxQIEidYupbm"
      },
      "source": [
        "### **Step 1:** Download the libraries & Load the data"
      ]
    },
    {
      "cell_type": "code",
      "execution_count": 1,
      "metadata": {
        "id": "xrH5DZqrDJIO"
      },
      "outputs": [
        {
          "name": "stdout",
          "output_type": "stream",
          "text": [
            "Requirement already satisfied: rouge-score in c:\\users\\alexi\\appdata\\local\\programs\\python\\python312\\lib\\site-packages (0.1.2)\n",
            "Requirement already satisfied: absl-py in c:\\users\\alexi\\appdata\\local\\programs\\python\\python312\\lib\\site-packages (from rouge-score) (2.1.0)\n",
            "Requirement already satisfied: nltk in c:\\users\\alexi\\appdata\\local\\programs\\python\\python312\\lib\\site-packages (from rouge-score) (3.8.1)\n",
            "Requirement already satisfied: numpy in c:\\users\\alexi\\appdata\\local\\programs\\python\\python312\\lib\\site-packages (from rouge-score) (1.26.1)\n",
            "Requirement already satisfied: six>=1.14.0 in c:\\users\\alexi\\appdata\\local\\programs\\python\\python312\\lib\\site-packages (from rouge-score) (1.16.0)\n",
            "Requirement already satisfied: click in c:\\users\\alexi\\appdata\\local\\programs\\python\\python312\\lib\\site-packages (from nltk->rouge-score) (8.1.7)\n",
            "Requirement already satisfied: joblib in c:\\users\\alexi\\appdata\\local\\programs\\python\\python312\\lib\\site-packages (from nltk->rouge-score) (1.3.2)\n",
            "Requirement already satisfied: regex>=2021.8.3 in c:\\users\\alexi\\appdata\\local\\programs\\python\\python312\\lib\\site-packages (from nltk->rouge-score) (2024.4.28)\n",
            "Requirement already satisfied: tqdm in c:\\users\\alexi\\appdata\\local\\programs\\python\\python312\\lib\\site-packages (from nltk->rouge-score) (4.66.1)\n",
            "Requirement already satisfied: colorama in c:\\users\\alexi\\appdata\\local\\programs\\python\\python312\\lib\\site-packages (from click->nltk->rouge-score) (0.4.6)\n"
          ]
        },
        {
          "name": "stderr",
          "output_type": "stream",
          "text": [
            "\n",
            "[notice] A new release of pip is available: 23.3.1 -> 24.0\n",
            "[notice] To update, run: python.exe -m pip install --upgrade pip\n"
          ]
        }
      ],
      "source": [
        "# Install datasets and rouge-score\n",
        "# !pip install datasets - don't need unless we want to gen. new summaries\n",
        "!pip install rouge-score"
      ]
    },
    {
      "cell_type": "code",
      "execution_count": 3,
      "metadata": {
        "id": "fHaO_GAhDEG_"
      },
      "outputs": [],
      "source": [
        "# Importing Libraries\n",
        "# from datasets import load_dataset\n",
        "# from transformers import pipeline\n",
        "from rouge_score import rouge_scorer\n",
        "import pandas as pd"
      ]
    },
    {
      "cell_type": "code",
      "execution_count": 4,
      "metadata": {
        "id": "tkD5V5uRDFag"
      },
      "outputs": [],
      "source": [
        "# Keep below to generate other samples\n",
        "# xsum_dataset = load_dataset(\"xsum\", version=\"1.2.0\")\n",
        "#xsum_sample = xsum_dataset[\"train\"].select(range(10))\n",
        "# xsum_sample = xsum_sample.to_csv(\"dataset_sample_summaries.csv\")"
      ]
    },
    {
      "cell_type": "code",
      "execution_count": 6,
      "metadata": {
        "id": "VlZpkGEL8yFx"
      },
      "outputs": [],
      "source": [
        "# Load the dataset\n",
        "xsum_sample = pd.read_csv(\"./content/dataset_sample_summaries.csv\") # delete . if on colab"
      ]
    },
    {
      "cell_type": "code",
      "execution_count": 7,
      "metadata": {
        "colab": {
          "base_uri": "https://localhost:8080/",
          "height": 363
        },
        "id": "bNPWzftb8quk",
        "outputId": "43e894a5-834d-47aa-e65b-d9c5d93a25da"
      },
      "outputs": [
        {
          "data": {
            "text/html": [
              "<div>\n",
              "<style scoped>\n",
              "    .dataframe tbody tr th:only-of-type {\n",
              "        vertical-align: middle;\n",
              "    }\n",
              "\n",
              "    .dataframe tbody tr th {\n",
              "        vertical-align: top;\n",
              "    }\n",
              "\n",
              "    .dataframe thead th {\n",
              "        text-align: right;\n",
              "    }\n",
              "</style>\n",
              "<table border=\"1\" class=\"dataframe\">\n",
              "  <thead>\n",
              "    <tr style=\"text-align: right;\">\n",
              "      <th></th>\n",
              "      <th>document</th>\n",
              "      <th>summary</th>\n",
              "      <th>id</th>\n",
              "    </tr>\n",
              "  </thead>\n",
              "  <tbody>\n",
              "    <tr>\n",
              "      <th>0</th>\n",
              "      <td>The full cost of damage in Newton Stewart, one...</td>\n",
              "      <td>Clean-up operations are continuing across the ...</td>\n",
              "      <td>35232142</td>\n",
              "    </tr>\n",
              "    <tr>\n",
              "      <th>1</th>\n",
              "      <td>A fire alarm went off at the Holiday Inn in Ho...</td>\n",
              "      <td>Two tourist buses have been destroyed by fire ...</td>\n",
              "      <td>40143035</td>\n",
              "    </tr>\n",
              "    <tr>\n",
              "      <th>2</th>\n",
              "      <td>Ferrari appeared in a position to challenge un...</td>\n",
              "      <td>Lewis Hamilton stormed to pole position at the...</td>\n",
              "      <td>35951548</td>\n",
              "    </tr>\n",
              "    <tr>\n",
              "      <th>3</th>\n",
              "      <td>John Edward Bates, formerly of Spalding, Linco...</td>\n",
              "      <td>A former Lincolnshire Police officer carried o...</td>\n",
              "      <td>36266422</td>\n",
              "    </tr>\n",
              "    <tr>\n",
              "      <th>4</th>\n",
              "      <td>Patients and staff were evacuated from Cerahpa...</td>\n",
              "      <td>An armed man who locked himself into a room at...</td>\n",
              "      <td>38826984</td>\n",
              "    </tr>\n",
              "    <tr>\n",
              "      <th>5</th>\n",
              "      <td>Simone Favaro got the crucial try with the las...</td>\n",
              "      <td>Defending Pro12 champions Glasgow Warriors bag...</td>\n",
              "      <td>34540833</td>\n",
              "    </tr>\n",
              "    <tr>\n",
              "      <th>6</th>\n",
              "      <td>Veronica Vanessa Chango-Alverez, 31, was kille...</td>\n",
              "      <td>A man with links to a car that was involved in...</td>\n",
              "      <td>20836172</td>\n",
              "    </tr>\n",
              "    <tr>\n",
              "      <th>7</th>\n",
              "      <td>Belgian cyclist Demoitie died after a collisio...</td>\n",
              "      <td>Welsh cyclist Luke Rowe says changes to the sp...</td>\n",
              "      <td>35932467</td>\n",
              "    </tr>\n",
              "    <tr>\n",
              "      <th>8</th>\n",
              "      <td>Gundogan, 26, told BBC Sport he \"can see the f...</td>\n",
              "      <td>Manchester City midfielder Ilkay Gundogan says...</td>\n",
              "      <td>40758845</td>\n",
              "    </tr>\n",
              "    <tr>\n",
              "      <th>9</th>\n",
              "      <td>The crash happened about 07:20 GMT at the junc...</td>\n",
              "      <td>A jogger has been hit by an unmarked police ca...</td>\n",
              "      <td>30358490</td>\n",
              "    </tr>\n",
              "  </tbody>\n",
              "</table>\n",
              "</div>"
            ],
            "text/plain": [
              "                                            document  \\\n",
              "0  The full cost of damage in Newton Stewart, one...   \n",
              "1  A fire alarm went off at the Holiday Inn in Ho...   \n",
              "2  Ferrari appeared in a position to challenge un...   \n",
              "3  John Edward Bates, formerly of Spalding, Linco...   \n",
              "4  Patients and staff were evacuated from Cerahpa...   \n",
              "5  Simone Favaro got the crucial try with the las...   \n",
              "6  Veronica Vanessa Chango-Alverez, 31, was kille...   \n",
              "7  Belgian cyclist Demoitie died after a collisio...   \n",
              "8  Gundogan, 26, told BBC Sport he \"can see the f...   \n",
              "9  The crash happened about 07:20 GMT at the junc...   \n",
              "\n",
              "                                             summary        id  \n",
              "0  Clean-up operations are continuing across the ...  35232142  \n",
              "1  Two tourist buses have been destroyed by fire ...  40143035  \n",
              "2  Lewis Hamilton stormed to pole position at the...  35951548  \n",
              "3  A former Lincolnshire Police officer carried o...  36266422  \n",
              "4  An armed man who locked himself into a room at...  38826984  \n",
              "5  Defending Pro12 champions Glasgow Warriors bag...  34540833  \n",
              "6  A man with links to a car that was involved in...  20836172  \n",
              "7  Welsh cyclist Luke Rowe says changes to the sp...  35932467  \n",
              "8  Manchester City midfielder Ilkay Gundogan says...  40758845  \n",
              "9  A jogger has been hit by an unmarked police ca...  30358490  "
            ]
          },
          "execution_count": 7,
          "metadata": {},
          "output_type": "execute_result"
        }
      ],
      "source": [
        "xsum_sample"
      ]
    },
    {
      "cell_type": "code",
      "execution_count": 8,
      "metadata": {
        "colab": {
          "base_uri": "https://localhost:8080/",
          "height": 380
        },
        "id": "qi3q_SpiDGt3",
        "outputId": "3189a444-633f-4361-db63-20ed22240bf5"
      },
      "outputs": [
        {
          "name": "stdout",
          "output_type": "stream",
          "text": [
            "(10, 3)\n"
          ]
        }
      ],
      "source": [
        "print(xsum_sample.shape)"
      ]
    },
    {
      "cell_type": "code",
      "execution_count": 9,
      "metadata": {
        "colab": {
          "base_uri": "https://localhost:8080/"
        },
        "id": "jdalf54Pumjv",
        "outputId": "d842a328-66c7-4521-9400-670d60e35c1e"
      },
      "outputs": [
        {
          "name": "stdout",
          "output_type": "stream",
          "text": [
            "0    The full cost of damage in Newton Stewart, one...\n",
            "1    A fire alarm went off at the Holiday Inn in Ho...\n",
            "2    Ferrari appeared in a position to challenge un...\n",
            "3    John Edward Bates, formerly of Spalding, Linco...\n",
            "4    Patients and staff were evacuated from Cerahpa...\n",
            "5    Simone Favaro got the crucial try with the las...\n",
            "6    Veronica Vanessa Chango-Alverez, 31, was kille...\n",
            "7    Belgian cyclist Demoitie died after a collisio...\n",
            "8    Gundogan, 26, told BBC Sport he \"can see the f...\n",
            "9    The crash happened about 07:20 GMT at the junc...\n",
            "Name: document, dtype: object\n"
          ]
        }
      ],
      "source": [
        "document_array = xsum_sample['document']\n",
        "print(document_array)"
      ]
    },
    {
      "cell_type": "markdown",
      "metadata": {
        "id": "D3BgT9XwubbD"
      },
      "source": [
        "### **Step 2:** Prompt the text generative LLM - using the prompt given below\n"
      ]
    },
    {
      "cell_type": "markdown",
      "metadata": {
        "id": "lX8KvhqLrdio"
      },
      "source": [
        "**Query the text generating llm with the following prompt:** (copy the document as mentionned: PASTE_DOCUMENTS_HERE)\n",
        "\n",
        "```\n",
        "Please generate a summary in one line (max 25 words) for each of the following documents: PASTE_DOCUMENTS_HERE\n",
        "```\n",
        "```\n",
        ", please just return the answer as the following: results={\"generated_summary\":[\"\",\"\",\"\",\"\",\"\"]}\n",
        "```"
      ]
    },
    {
      "cell_type": "code",
      "execution_count": 10,
      "metadata": {
        "id": "2Abr-GW3GFWg"
      },
      "outputs": [],
      "source": [
        "# This is the output from CHATGPT (as example, but we need to do it for all the generative models we are testing)\n",
        "results={\"generated_summary\":[\"Newton Stewart and Hawick face flood aftermath, Lamington Viaduct disrupts trains, First Minister inspects, and more preventative measures needed.\",\"Fire alarm at Holiday Inn prompts evacuation; two tour buses, belonging to German and Chinese/Taiwanese groups, were deliberately set ablaze in Northern Ireland.\",\"Mercedes dominates Bahrain GP qualifying with Hamilton securing pole, Vandoorne impresses on debut, controversial qualifying system retained.\",\"John Edward Bates faces sexual abuse charges dating back to 1970s, denies allegations, trial ongoing.\",\"Cerahpasa hospital evacuated after patient threatens violence, no hostages, Istanbul tensions rise amid recent attacks.\"]}"
      ]
    },
    {
      "cell_type": "markdown",
      "metadata": {
        "id": "-eIS6_JKtejy"
      },
      "source": [
        "### **Step 3:** Adding the summary to the pandas df to execute results & download\n"
      ]
    },
    {
      "cell_type": "code",
      "execution_count": 11,
      "metadata": {
        "colab": {
          "base_uri": "https://localhost:8080/",
          "height": 206
        },
        "id": "z3Oq4-R8DJ5S",
        "outputId": "47a2ad00-6dbf-42b5-9461-8302df7024c7"
      },
      "outputs": [
        {
          "data": {
            "text/html": [
              "<div>\n",
              "<style scoped>\n",
              "    .dataframe tbody tr th:only-of-type {\n",
              "        vertical-align: middle;\n",
              "    }\n",
              "\n",
              "    .dataframe tbody tr th {\n",
              "        vertical-align: top;\n",
              "    }\n",
              "\n",
              "    .dataframe thead th {\n",
              "        text-align: right;\n",
              "    }\n",
              "</style>\n",
              "<table border=\"1\" class=\"dataframe\">\n",
              "  <thead>\n",
              "    <tr style=\"text-align: right;\">\n",
              "      <th></th>\n",
              "      <th>generated_summary</th>\n",
              "      <th>summary</th>\n",
              "      <th>document</th>\n",
              "    </tr>\n",
              "  </thead>\n",
              "  <tbody>\n",
              "    <tr>\n",
              "      <th>0</th>\n",
              "      <td>Newton Stewart and Hawick face flood aftermath...</td>\n",
              "      <td>Clean-up operations are continuing across the ...</td>\n",
              "      <td>The full cost of damage in Newton Stewart, one...</td>\n",
              "    </tr>\n",
              "    <tr>\n",
              "      <th>1</th>\n",
              "      <td>Fire alarm at Holiday Inn prompts evacuation; ...</td>\n",
              "      <td>Two tourist buses have been destroyed by fire ...</td>\n",
              "      <td>A fire alarm went off at the Holiday Inn in Ho...</td>\n",
              "    </tr>\n",
              "    <tr>\n",
              "      <th>2</th>\n",
              "      <td>Mercedes dominates Bahrain GP qualifying with ...</td>\n",
              "      <td>Lewis Hamilton stormed to pole position at the...</td>\n",
              "      <td>Ferrari appeared in a position to challenge un...</td>\n",
              "    </tr>\n",
              "    <tr>\n",
              "      <th>3</th>\n",
              "      <td>John Edward Bates faces sexual abuse charges d...</td>\n",
              "      <td>A former Lincolnshire Police officer carried o...</td>\n",
              "      <td>John Edward Bates, formerly of Spalding, Linco...</td>\n",
              "    </tr>\n",
              "    <tr>\n",
              "      <th>4</th>\n",
              "      <td>Cerahpasa hospital evacuated after patient thr...</td>\n",
              "      <td>An armed man who locked himself into a room at...</td>\n",
              "      <td>Patients and staff were evacuated from Cerahpa...</td>\n",
              "    </tr>\n",
              "  </tbody>\n",
              "</table>\n",
              "</div>"
            ],
            "text/plain": [
              "                                   generated_summary  \\\n",
              "0  Newton Stewart and Hawick face flood aftermath...   \n",
              "1  Fire alarm at Holiday Inn prompts evacuation; ...   \n",
              "2  Mercedes dominates Bahrain GP qualifying with ...   \n",
              "3  John Edward Bates faces sexual abuse charges d...   \n",
              "4  Cerahpasa hospital evacuated after patient thr...   \n",
              "\n",
              "                                             summary  \\\n",
              "0  Clean-up operations are continuing across the ...   \n",
              "1  Two tourist buses have been destroyed by fire ...   \n",
              "2  Lewis Hamilton stormed to pole position at the...   \n",
              "3  A former Lincolnshire Police officer carried o...   \n",
              "4  An armed man who locked himself into a room at...   \n",
              "\n",
              "                                            document  \n",
              "0  The full cost of damage in Newton Stewart, one...  \n",
              "1  A fire alarm went off at the Holiday Inn in Ho...  \n",
              "2  Ferrari appeared in a position to challenge un...  \n",
              "3  John Edward Bates, formerly of Spalding, Linco...  \n",
              "4  Patients and staff were evacuated from Cerahpa...  "
            ]
          },
          "metadata": {},
          "output_type": "display_data"
        }
      ],
      "source": [
        "opt_result = pd.DataFrame.from_dict(results).rename({\"summary_text\": \"generated_summary\"}, axis=1).join(pd.DataFrame.from_dict(xsum_sample))[[\"generated_summary\", \"summary\", \"document\"]]\n",
        "display(opt_result.head())"
      ]
    },
    {
      "cell_type": "code",
      "execution_count": 12,
      "metadata": {
        "colab": {
          "base_uri": "https://localhost:8080/"
        },
        "id": "vCW8Y6ZeEM4y",
        "outputId": "bb757fd6-247d-4ce3-bed2-f301fd447665"
      },
      "outputs": [
        {
          "name": "stdout",
          "output_type": "stream",
          "text": [
            "Generated Summary :  Newton Stewart and Hawick face flood aftermath, Lamington Viaduct disrupts trains, First Minister inspects, and more preventative measures needed.\n",
            "------------------------------\n",
            "Summary :  Clean-up operations are continuing across the Scottish Borders and Dumfries and Galloway after flooding caused by Storm Frank.\n"
          ]
        }
      ],
      "source": [
        "print(\"Generated Summary : \",opt_result.iloc[0][\"generated_summary\"])\n",
        "print(30*\"-\")\n",
        "print(\"Summary : \",opt_result.iloc[0][\"summary\"])"
      ]
    },
    {
      "cell_type": "markdown",
      "metadata": {
        "id": "A1jxv2YWu0ba"
      },
      "source": [
        "#### **Calculating the ROUGE score:**"
      ]
    },
    {
      "cell_type": "code",
      "execution_count": 13,
      "metadata": {
        "id": "A5CK8jDMEphi"
      },
      "outputs": [],
      "source": [
        "def calculate_rouge(data):\n",
        "    scorer = rouge_scorer.RougeScorer(['rouge1', 'rouge2', 'rougeL'], use_stemmer=True)\n",
        "    data[\"r1_fscore\"] = data.apply(lambda row : scorer.score(row[\"summary\"],row[\"generated_summary\"])['rouge1'][2], axis=1)\n",
        "    #data[\"r2_fscore\"] = data.apply(lambda row : scorer.score(row[\"summary\"],row[\"generated_summary\"])['rouge2'][2], axis=1)\n",
        "    #data[\"rl_fscore\"] = data.apply(lambda row : scorer.score(row[\"summary\"],row[\"generated_summary\"])['rougeL'][2], axis=1)\n",
        "    return data"
      ]
    },
    {
      "cell_type": "code",
      "execution_count": 14,
      "metadata": {
        "id": "UJq7u05VFRSA"
      },
      "outputs": [],
      "source": [
        "score_ret=calculate_rouge(opt_result)"
      ]
    },
    {
      "cell_type": "code",
      "execution_count": 15,
      "metadata": {
        "colab": {
          "base_uri": "https://localhost:8080/"
        },
        "id": "r6lSWj9zFTuk",
        "outputId": "044a9697-c278-41b6-f02d-d385aa99dc8b"
      },
      "outputs": [
        {
          "name": "stdout",
          "output_type": "stream",
          "text": [
            "ROUGE - 1 :  0.13631762332660918\n"
          ]
        }
      ],
      "source": [
        "print(\"ROUGE - 1 : \",score_ret[\"r1_fscore\"].mean())\n",
        "# print(\"ROUGE - 2 : \",score_ret[\"r2_fscore\"].mean())\n",
        "# print(\"ROUGE - L : \",score_ret[\"rl_fscore\"].mean()) # longest common subsequence between the model-generated summary and the reference summary"
      ]
    },
    {
      "cell_type": "code",
      "execution_count": 16,
      "metadata": {
        "colab": {
          "base_uri": "https://localhost:8080/",
          "height": 206
        },
        "id": "Aa1I64_NwIQ_",
        "outputId": "3f578e16-1a7d-4619-a7f7-88b1768d249a"
      },
      "outputs": [
        {
          "data": {
            "text/html": [
              "<div>\n",
              "<style scoped>\n",
              "    .dataframe tbody tr th:only-of-type {\n",
              "        vertical-align: middle;\n",
              "    }\n",
              "\n",
              "    .dataframe tbody tr th {\n",
              "        vertical-align: top;\n",
              "    }\n",
              "\n",
              "    .dataframe thead th {\n",
              "        text-align: right;\n",
              "    }\n",
              "</style>\n",
              "<table border=\"1\" class=\"dataframe\">\n",
              "  <thead>\n",
              "    <tr style=\"text-align: right;\">\n",
              "      <th></th>\n",
              "      <th>generated_summary</th>\n",
              "      <th>summary</th>\n",
              "      <th>document</th>\n",
              "      <th>r1_fscore</th>\n",
              "    </tr>\n",
              "  </thead>\n",
              "  <tbody>\n",
              "    <tr>\n",
              "      <th>0</th>\n",
              "      <td>Newton Stewart and Hawick face flood aftermath...</td>\n",
              "      <td>Clean-up operations are continuing across the ...</td>\n",
              "      <td>The full cost of damage in Newton Stewart, one...</td>\n",
              "      <td>0.157895</td>\n",
              "    </tr>\n",
              "    <tr>\n",
              "      <th>1</th>\n",
              "      <td>Fire alarm at Holiday Inn prompts evacuation; ...</td>\n",
              "      <td>Two tourist buses have been destroyed by fire ...</td>\n",
              "      <td>A fire alarm went off at the Holiday Inn in Ho...</td>\n",
              "      <td>0.195122</td>\n",
              "    </tr>\n",
              "    <tr>\n",
              "      <th>2</th>\n",
              "      <td>Mercedes dominates Bahrain GP qualifying with ...</td>\n",
              "      <td>Lewis Hamilton stormed to pole position at the...</td>\n",
              "      <td>Ferrari appeared in a position to challenge un...</td>\n",
              "      <td>0.228571</td>\n",
              "    </tr>\n",
              "    <tr>\n",
              "      <th>3</th>\n",
              "      <td>John Edward Bates faces sexual abuse charges d...</td>\n",
              "      <td>A former Lincolnshire Police officer carried o...</td>\n",
              "      <td>John Edward Bates, formerly of Spalding, Linco...</td>\n",
              "      <td>0.000000</td>\n",
              "    </tr>\n",
              "    <tr>\n",
              "      <th>4</th>\n",
              "      <td>Cerahpasa hospital evacuated after patient thr...</td>\n",
              "      <td>An armed man who locked himself into a room at...</td>\n",
              "      <td>Patients and staff were evacuated from Cerahpa...</td>\n",
              "      <td>0.100000</td>\n",
              "    </tr>\n",
              "  </tbody>\n",
              "</table>\n",
              "</div>"
            ],
            "text/plain": [
              "                                   generated_summary  \\\n",
              "0  Newton Stewart and Hawick face flood aftermath...   \n",
              "1  Fire alarm at Holiday Inn prompts evacuation; ...   \n",
              "2  Mercedes dominates Bahrain GP qualifying with ...   \n",
              "3  John Edward Bates faces sexual abuse charges d...   \n",
              "4  Cerahpasa hospital evacuated after patient thr...   \n",
              "\n",
              "                                             summary  \\\n",
              "0  Clean-up operations are continuing across the ...   \n",
              "1  Two tourist buses have been destroyed by fire ...   \n",
              "2  Lewis Hamilton stormed to pole position at the...   \n",
              "3  A former Lincolnshire Police officer carried o...   \n",
              "4  An armed man who locked himself into a room at...   \n",
              "\n",
              "                                            document  r1_fscore  \n",
              "0  The full cost of damage in Newton Stewart, one...   0.157895  \n",
              "1  A fire alarm went off at the Holiday Inn in Ho...   0.195122  \n",
              "2  Ferrari appeared in a position to challenge un...   0.228571  \n",
              "3  John Edward Bates, formerly of Spalding, Linco...   0.000000  \n",
              "4  Patients and staff were evacuated from Cerahpa...   0.100000  "
            ]
          },
          "execution_count": 16,
          "metadata": {},
          "output_type": "execute_result"
        }
      ],
      "source": [
        "score_ret"
      ]
    },
    {
      "cell_type": "code",
      "execution_count": 17,
      "metadata": {
        "id": "t5KrR6ugu_NL"
      },
      "outputs": [],
      "source": [
        "model_name = \"chat_gpt\""
      ]
    },
    {
      "cell_type": "code",
      "execution_count": 18,
      "metadata": {
        "id": "t71O3hYPuXmH"
      },
      "outputs": [],
      "source": [
        "df = pd.DataFrame(score_ret)\n",
        "df = df[['r1_fscore']]\n",
        "df.insert(0, \"model_name\", model_name)\n",
        "df.rename(columns={\"r1_fscore\": \"rouge_1\"}, inplace=True)\n",
        "# Calculate mean and round\n",
        "mean_metric_1_unigram = round(df[\"rouge_1\"].mean(), 2)\n",
        "# mean_metric_2_longest = round(df[\"metric_2_longest\"].mean(), 2)\n",
        "# Replace values with mean\n",
        "df[\"rouge_1\"] = mean_metric_1_unigram\n",
        "# df[\"metric_2_longest\"] = mean_metric_2_longest\n",
        "df = df.head(1)"
      ]
    },
    {
      "cell_type": "code",
      "execution_count": 19,
      "metadata": {
        "id": "o8vLCMWvvdMf"
      },
      "outputs": [],
      "source": [
        "df.to_csv(f\"{model_name}.csv\", index=False)"
      ]
    },
    {
      "cell_type": "code",
      "execution_count": 21,
      "metadata": {
        "colab": {
          "base_uri": "https://localhost:8080/"
        },
        "id": "sMzVjPsowxOm",
        "outputId": "fc38d4c7-c7d6-4b22-c507-b81470017cd9"
      },
      "outputs": [
        {
          "name": "stdout",
          "output_type": "stream",
          "text": [
            "  model_name  rouge_1\n",
            "0   chat_gpt     0.15\n"
          ]
        }
      ],
      "source": [
        "df = pd.read_csv(f\"./results/{model_name}.csv\")\n",
        "print(df)\n"
      ]
    },
    {
      "cell_type": "markdown",
      "metadata": {
        "id": "GuEuNrO2ApGD"
      },
      "source": [
        "### **Step 4:** Compress all in 1 function"
      ]
    },
    {
      "cell_type": "code",
      "execution_count": 23,
      "metadata": {
        "id": "9W_I75HZAYSx"
      },
      "outputs": [],
      "source": [
        "import pandas as pd\n",
        "from rouge_score import rouge_scorer\n",
        "\n",
        "def calculate_and_export_rouge(model_name, results):\n",
        "\n",
        "    scorer = rouge_scorer.RougeScorer(['rouge1'], use_stemmer=True)\n",
        "    # Create DataFrame from results dictionary\n",
        "    data = pd.DataFrame(results)\n",
        "    # Calculate ROUGE scores\n",
        "    data[\"r1_fscore\"] = data.apply(lambda row: scorer.score(row[\"summary\"], row[\"generated_summary\"])['rouge1'][2], axis=1)\n",
        "    # Calculate mean ROUGE-1 score\n",
        "    mean_rouge_1 = round(data[\"r1_fscore\"].mean(), 2)\n",
        "    # Create DataFrame with mean ROUGE-1 score and model name\n",
        "    df = pd.DataFrame({\n",
        "        \"model_name\": [model_name],\n",
        "        \"rouge_1\": [mean_rouge_1]\n",
        "    })\n",
        "    # Export to CSV\n",
        "    df.to_csv(f\"./results/{model_name}.csv\", index=False)  # delete . if on colab"
      ]
    },
    {
      "cell_type": "code",
      "execution_count": 24,
      "metadata": {
        "colab": {
          "base_uri": "https://localhost:8080/",
          "height": 363
        },
        "id": "HyYPjHqYJd5m",
        "outputId": "a7739db7-b94c-4337-d92f-4cc67ba1ad0d"
      },
      "outputs": [
        {
          "data": {
            "text/html": [
              "<div>\n",
              "<style scoped>\n",
              "    .dataframe tbody tr th:only-of-type {\n",
              "        vertical-align: middle;\n",
              "    }\n",
              "\n",
              "    .dataframe tbody tr th {\n",
              "        vertical-align: top;\n",
              "    }\n",
              "\n",
              "    .dataframe thead th {\n",
              "        text-align: right;\n",
              "    }\n",
              "</style>\n",
              "<table border=\"1\" class=\"dataframe\">\n",
              "  <thead>\n",
              "    <tr style=\"text-align: right;\">\n",
              "      <th></th>\n",
              "      <th>document</th>\n",
              "    </tr>\n",
              "  </thead>\n",
              "  <tbody>\n",
              "    <tr>\n",
              "      <th>0</th>\n",
              "      <td>The full cost of damage in Newton Stewart, one...</td>\n",
              "    </tr>\n",
              "    <tr>\n",
              "      <th>1</th>\n",
              "      <td>A fire alarm went off at the Holiday Inn in Ho...</td>\n",
              "    </tr>\n",
              "    <tr>\n",
              "      <th>2</th>\n",
              "      <td>Ferrari appeared in a position to challenge un...</td>\n",
              "    </tr>\n",
              "    <tr>\n",
              "      <th>3</th>\n",
              "      <td>John Edward Bates, formerly of Spalding, Linco...</td>\n",
              "    </tr>\n",
              "    <tr>\n",
              "      <th>4</th>\n",
              "      <td>Patients and staff were evacuated from Cerahpa...</td>\n",
              "    </tr>\n",
              "    <tr>\n",
              "      <th>5</th>\n",
              "      <td>Simone Favaro got the crucial try with the las...</td>\n",
              "    </tr>\n",
              "    <tr>\n",
              "      <th>6</th>\n",
              "      <td>Veronica Vanessa Chango-Alverez, 31, was kille...</td>\n",
              "    </tr>\n",
              "    <tr>\n",
              "      <th>7</th>\n",
              "      <td>Belgian cyclist Demoitie died after a collisio...</td>\n",
              "    </tr>\n",
              "    <tr>\n",
              "      <th>8</th>\n",
              "      <td>Gundogan, 26, told BBC Sport he \"can see the f...</td>\n",
              "    </tr>\n",
              "    <tr>\n",
              "      <th>9</th>\n",
              "      <td>The crash happened about 07:20 GMT at the junc...</td>\n",
              "    </tr>\n",
              "  </tbody>\n",
              "</table>\n",
              "</div>"
            ],
            "text/plain": [
              "                                            document\n",
              "0  The full cost of damage in Newton Stewart, one...\n",
              "1  A fire alarm went off at the Holiday Inn in Ho...\n",
              "2  Ferrari appeared in a position to challenge un...\n",
              "3  John Edward Bates, formerly of Spalding, Linco...\n",
              "4  Patients and staff were evacuated from Cerahpa...\n",
              "5  Simone Favaro got the crucial try with the las...\n",
              "6  Veronica Vanessa Chango-Alverez, 31, was kille...\n",
              "7  Belgian cyclist Demoitie died after a collisio...\n",
              "8  Gundogan, 26, told BBC Sport he \"can see the f...\n",
              "9  The crash happened about 07:20 GMT at the junc..."
            ]
          },
          "execution_count": 24,
          "metadata": {},
          "output_type": "execute_result"
        }
      ],
      "source": [
        "xsum_sample = pd.read_csv(\"./content/dataset_sample_summaries.csv\") # delete . if on colab\n",
        "model_name = \"chat_gpt\"\n",
        "# Generate the results by copy pasting the following prompt:\n",
        "xsum_sample[['document']]\n",
        "# Click on the icon next to *document* (convert this dataframe to an interactive table) - then select (right) copy table and select JSON and copy - paste the result in the cell below  replacing **PASTE_DOCUMENTS_HERE**\n",
        "# Then copy the entire cell and prompt the LLM"
      ]
    },
    {
      "cell_type": "code",
      "execution_count": 25,
      "metadata": {
        "id": "gh12oV1CKhvv"
      },
      "outputs": [],
      "source": [
        "# Please generate a summary in one line (max 25 words) for each of the following documents: PASTE_DOCUMENTS_HERE, please just return the answer as the following: results={\"generated_summary\":[\"\",\"\",\"\",\"\",\"\"]}"
      ]
    },
    {
      "cell_type": "code",
      "execution_count": 26,
      "metadata": {
        "id": "gj5grFJKIxNl"
      },
      "outputs": [],
      "source": [
        "# Example usage:\n",
        "results={\"generated_summary\":[\n",
        "\"The cost of flood damage in Newton Stewart is being assessed; repair work is ongoing in Hawick and Peeblesshire. Disruption on the west coast mainline due to damage at Lamington Viaduct. Businesses and householders affected by flooding in Newton Stewart. Nicola Sturgeon inspected the damage. A retaining wall breached, flooding commercial properties on Victoria Street. More preventative work is suggested. Flood alert remains in Borders; Peebles badly hit. Scottish Borders Council lists worst affected roads.\",\n",
        "\"A fire alarm at the Holiday Inn in Hope Street caused guests to evacuate. Two buses parked in the car park were engulfed by flames. Tour groups from Germany, China, and Taiwan were affected. Police appeal for information; fire believed to be deliberate.\",\n",
        "\"Mercedes secured pole position in Bahrain Grand Prix. Sebastian Vettel starts third ahead of Kimi Raikkonen. Stoffel Vandoorne out-qualified Jenson Button in his F1 debut. Hamilton escaped punishment for reversing in pit lane. Controversial elimination qualifying system retained. Mercedes favorites despite Ferrari's pace.\",\n",
        "\"John Edward Bates faces 22 charges including indecency with a child. Allegations made by four male complainants relate to his time as a scout leader. Bates denies all charges. Prosecutor claims sexual abuse incidents involving minors occurred in Lincolnshire and Cambridgeshire.\",\n",
        "\"Cerahpasa hospital evacuated after man threatens to shoot himself and others. Officers negotiate with the man, a young police officer. No hostages taken. Gunman receiving psychiatric treatment; previously deemed unfit to carry a firearm. Incident adds to tension in Istanbul following recent attacks.\",\n",
        "\"Belgian cyclist Demoitie dies after collision with motorbike during Gent-Wevelgem race. UCI to co-operate in investigation. Incident raises questions about race safety. Separate incident sees Belgian cyclist Daan Myngheer die after heart attack during Criterium International.\",\n",
        "\"Ilkay Gundogan discusses recovery from knee injury. Faces mental challenge after missing World Cup and Euros due to injury. Recovery now measured in weeks. City optimistic for upcoming season. Tottenham seen as a major title contender.\",\n",
        "\"Man airlifted to hospital after crash in Leigh-on-Sea, Essex. Occurred at junction of A127 and Progress Road. Man in his 20s treated for head injury and suspected fractures. A127 Southend-bound carriageway closed for six hours for police investigation. IPCC conducting further investigation.\"\n",
        "]}"
      ]
    },
    {
      "cell_type": "code",
      "execution_count": 27,
      "metadata": {
        "id": "Osv4KD8mKv96"
      },
      "outputs": [],
      "source": [
        "opt_result = pd.DataFrame.from_dict(results).rename({\"summary_text\": \"generated_summary\"}, axis=1).join(pd.DataFrame.from_dict(xsum_sample))[[\"generated_summary\", \"summary\", \"document\"]]\n",
        "calculate_and_export_rouge(model_name, opt_result)"
      ]
    },
    {
      "cell_type": "code",
      "execution_count": 30,
      "metadata": {
        "colab": {
          "base_uri": "https://localhost:8080/",
          "height": 80
        },
        "id": "l6i30tqNAdpS",
        "outputId": "5c1b453a-fba8-4e67-e28d-ee4f21135b2d"
      },
      "outputs": [
        {
          "data": {
            "text/html": [
              "<div>\n",
              "<style scoped>\n",
              "    .dataframe tbody tr th:only-of-type {\n",
              "        vertical-align: middle;\n",
              "    }\n",
              "\n",
              "    .dataframe tbody tr th {\n",
              "        vertical-align: top;\n",
              "    }\n",
              "\n",
              "    .dataframe thead th {\n",
              "        text-align: right;\n",
              "    }\n",
              "</style>\n",
              "<table border=\"1\" class=\"dataframe\">\n",
              "  <thead>\n",
              "    <tr style=\"text-align: right;\">\n",
              "      <th></th>\n",
              "      <th>model_name</th>\n",
              "      <th>rouge_1</th>\n",
              "    </tr>\n",
              "  </thead>\n",
              "  <tbody>\n",
              "    <tr>\n",
              "      <th>0</th>\n",
              "      <td>chat_gpt</td>\n",
              "      <td>0.15</td>\n",
              "    </tr>\n",
              "  </tbody>\n",
              "</table>\n",
              "</div>"
            ],
            "text/plain": [
              "  model_name  rouge_1\n",
              "0   chat_gpt     0.15"
            ]
          },
          "execution_count": 30,
          "metadata": {},
          "output_type": "execute_result"
        }
      ],
      "source": [
        "df = pd.read_csv(f\"./results/{model_name}.csv\")  # delete . if on colab\n",
        "df"
      ]
    }
  ],
  "metadata": {
    "colab": {
      "collapsed_sections": [
        "1qRubwEUMVvk",
        "ZxQIEidYupbm",
        "D3BgT9XwubbD",
        "-eIS6_JKtejy",
        "GuEuNrO2ApGD"
      ],
      "provenance": []
    },
    "kernelspec": {
      "display_name": "Python 3",
      "name": "python3"
    },
    "language_info": {
      "codemirror_mode": {
        "name": "ipython",
        "version": 3
      },
      "file_extension": ".py",
      "mimetype": "text/x-python",
      "name": "python",
      "nbconvert_exporter": "python",
      "pygments_lexer": "ipython3",
      "version": "3.12.0"
    }
  },
  "nbformat": 4,
  "nbformat_minor": 0
}
