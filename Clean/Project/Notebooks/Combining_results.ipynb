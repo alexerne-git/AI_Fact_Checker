{
 "cells": [
  {
   "cell_type": "markdown",
   "metadata": {},
   "source": [
    "## **LLM final evaluation:**\n",
    "\n",
    "- Combining all the results"
   ]
  },
  {
   "cell_type": "code",
   "execution_count": 6,
   "metadata": {},
   "outputs": [
    {
     "name": "stderr",
     "output_type": "stream",
     "text": [
      "<>:2: SyntaxWarning: invalid escape sequence '\\o'\n",
      "<>:3: SyntaxWarning: invalid escape sequence '\\o'\n",
      "<>:4: SyntaxWarning: invalid escape sequence '\\o'\n",
      "<>:2: SyntaxWarning: invalid escape sequence '\\o'\n",
      "<>:3: SyntaxWarning: invalid escape sequence '\\o'\n",
      "<>:4: SyntaxWarning: invalid escape sequence '\\o'\n",
      "C:\\Users\\alexi\\AppData\\Local\\Temp\\ipykernel_15620\\1619418046.py:2: SyntaxWarning: invalid escape sequence '\\o'\n",
      "  metric_1 = pd.read_csv('..\\output_results\\LLM_1_ChatGPT\\chat_gpt_rouge.csv')\n",
      "C:\\Users\\alexi\\AppData\\Local\\Temp\\ipykernel_15620\\1619418046.py:3: SyntaxWarning: invalid escape sequence '\\o'\n",
      "  metric_2 = pd.read_csv('..\\output_results\\LLM_1_ChatGPT\\chat_gpt_sentiment.csv')\n",
      "C:\\Users\\alexi\\AppData\\Local\\Temp\\ipykernel_15620\\1619418046.py:4: SyntaxWarning: invalid escape sequence '\\o'\n",
      "  metric_3 = pd.read_csv('..\\output_results\\LLM_1_ChatGPT\\chat_gpt_fact_checking.csv')\n"
     ]
    }
   ],
   "source": [
    "import pandas as pd\n",
    "metric_1 = pd.read_csv('..\\output_results\\LLM_1_ChatGPT\\chat_gpt_rouge.csv')\n",
    "metric_2 = pd.read_csv('..\\output_results\\LLM_1_ChatGPT\\chat_gpt_sentiment.csv')\n",
    "metric_3 = pd.read_csv('..\\output_results\\LLM_1_ChatGPT\\chat_gpt_fact_checking.csv')\n",
    "# Merge the dataframes on 'model_name'\n",
    "merged_df = pd.merge(metric_1, metric_2, on='model_name')\n",
    "merged_df = pd.merge(merged_df, metric_3, on='model_name')"
   ]
  },
  {
   "cell_type": "code",
   "execution_count": 7,
   "metadata": {},
   "outputs": [
    {
     "data": {
      "text/html": [
       "<div>\n",
       "<style scoped>\n",
       "    .dataframe tbody tr th:only-of-type {\n",
       "        vertical-align: middle;\n",
       "    }\n",
       "\n",
       "    .dataframe tbody tr th {\n",
       "        vertical-align: top;\n",
       "    }\n",
       "\n",
       "    .dataframe thead th {\n",
       "        text-align: right;\n",
       "    }\n",
       "</style>\n",
       "<table border=\"1\" class=\"dataframe\">\n",
       "  <thead>\n",
       "    <tr style=\"text-align: right;\">\n",
       "      <th></th>\n",
       "      <th>model_name</th>\n",
       "      <th>metric_1_unigram</th>\n",
       "      <th>metric_2_longest</th>\n",
       "      <th>sent_acc</th>\n",
       "      <th>fact_check_acc</th>\n",
       "    </tr>\n",
       "  </thead>\n",
       "  <tbody>\n",
       "    <tr>\n",
       "      <th>0</th>\n",
       "      <td>Chat GPT</td>\n",
       "      <td>0.14</td>\n",
       "      <td>0.09</td>\n",
       "      <td>0.4</td>\n",
       "      <td>1.0</td>\n",
       "    </tr>\n",
       "  </tbody>\n",
       "</table>\n",
       "</div>"
      ],
      "text/plain": [
       "  model_name  metric_1_unigram  metric_2_longest  sent_acc  fact_check_acc\n",
       "0   Chat GPT              0.14              0.09       0.4             1.0"
      ]
     },
     "execution_count": 7,
     "metadata": {},
     "output_type": "execute_result"
    }
   ],
   "source": [
    "merged_df\n",
    "# Append the other results..."
   ]
  }
 ],
 "metadata": {
  "kernelspec": {
   "display_name": "Python 3",
   "language": "python",
   "name": "python3"
  },
  "language_info": {
   "codemirror_mode": {
    "name": "ipython",
    "version": 3
   },
   "file_extension": ".py",
   "mimetype": "text/x-python",
   "name": "python",
   "nbconvert_exporter": "python",
   "pygments_lexer": "ipython3",
   "version": "3.12.0"
  }
 },
 "nbformat": 4,
 "nbformat_minor": 2
}
