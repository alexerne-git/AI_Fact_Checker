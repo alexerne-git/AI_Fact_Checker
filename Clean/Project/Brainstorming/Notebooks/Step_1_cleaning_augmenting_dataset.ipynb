{
 "cells": [
  {
   "cell_type": "markdown",
   "metadata": {},
   "source": [
    "### **Exercise 1: Cleaning the Database (CSV) and Augmenting** "
   ]
  },
  {
   "cell_type": "markdown",
   "metadata": {},
   "source": [
    "-------------------"
   ]
  },
  {
   "cell_type": "code",
   "execution_count": 19,
   "metadata": {},
   "outputs": [],
   "source": [
    "# Import Libraries\n",
    "import pandas as pd\n",
    "import numpy as np"
   ]
  },
  {
   "cell_type": "markdown",
   "metadata": {},
   "source": [
    "#### **Initialization:**\n",
    "\n",
    "- Importing the original database (CF readme)\n",
    "- Getting column names and number of rows"
   ]
  },
  {
   "cell_type": "code",
   "execution_count": 44,
   "metadata": {},
   "outputs": [
    {
     "name": "stdout",
     "output_type": "stream",
     "text": [
      "      President Name Years In Office Number                  Party\n",
      "0  George Washington       1789-1797    1st             Federalist\n",
      "1         John Adams       1797-1801    2nd             Federalist\n",
      "2   Thomas Jefferson       1801-1809    3rd  Democratic Republican\n",
      "3      James Madison       1809-1817    4th  Democratic Republican\n",
      "4       James Monroe       1817-1825    5th  Democratic Republican\n"
     ]
    }
   ],
   "source": [
    "df = pd.read_csv('./data/presidents_original.csv')\n",
    "print(df.head())"
   ]
  },
  {
   "cell_type": "code",
   "execution_count": 45,
   "metadata": {},
   "outputs": [
    {
     "name": "stdout",
     "output_type": "stream",
     "text": [
      "Number of rows: 46\n",
      "Number of columns: 4 ['President Name' 'Years In Office' 'Number' 'Party']\n"
     ]
    }
   ],
   "source": [
    "num_rows = df.shape[0]\n",
    "print('Number of rows:', num_rows)\n",
    "num_cols = df.shape[1]\n",
    "column_names = df.columns\n",
    "print('Number of columns:', num_cols, np.array(column_names))"
   ]
  },
  {
   "cell_type": "markdown",
   "metadata": {},
   "source": [
    "----------------------"
   ]
  },
  {
   "cell_type": "markdown",
   "metadata": {},
   "source": [
    "#### **Step 1: Simplifying / Renaming the dataset:**\n",
    "\n",
    "- 1. Separating years in Office to two columns for processing (of the ChatGPT answer)\n",
    "- 2. Renaming columns for clarity\n",
    "- 3. Handling suffixes (rd,th...) for better processing\n",
    "- 4. cleaning rows without complete rows \n",
    "- 5. Save the dataset - president_dataset.csv"
   ]
  },
  {
   "cell_type": "code",
   "execution_count": 46,
   "metadata": {},
   "outputs": [
    {
     "name": "stdout",
     "output_type": "stream",
     "text": [
      "Number of rows dropped: 2\n"
     ]
    }
   ],
   "source": [
    "# 1. \n",
    "df[['begin_office', 'end_office']] = df['Years In Office'].str.split('-', expand=True)\n",
    "df.drop('Years In Office', axis=1, inplace=True)\n",
    "# 2. \n",
    "df.rename(columns={'President Name': 'president_name', 'Number': 'pres_num', 'Party': 'associated_party'}, inplace=True)\n",
    "# 3. \n",
    "df['pres_num'] = df['pres_num'].str.replace(r'\\D', '', regex=True)\n",
    "# 4.\n",
    "before = len(df)\n",
    "df.dropna(inplace=True)\n",
    "after = len(df)\n",
    "print('Number of rows dropped:', before - after)"
   ]
  },
  {
   "cell_type": "code",
   "execution_count": 50,
   "metadata": {},
   "outputs": [
    {
     "data": {
      "text/html": [
       "<div>\n",
       "<style scoped>\n",
       "    .dataframe tbody tr th:only-of-type {\n",
       "        vertical-align: middle;\n",
       "    }\n",
       "\n",
       "    .dataframe tbody tr th {\n",
       "        vertical-align: top;\n",
       "    }\n",
       "\n",
       "    .dataframe thead th {\n",
       "        text-align: right;\n",
       "    }\n",
       "</style>\n",
       "<table border=\"1\" class=\"dataframe\">\n",
       "  <thead>\n",
       "    <tr style=\"text-align: right;\">\n",
       "      <th></th>\n",
       "      <th>president_name</th>\n",
       "      <th>pres_num</th>\n",
       "      <th>associated_party</th>\n",
       "      <th>begin_office</th>\n",
       "      <th>end_office</th>\n",
       "    </tr>\n",
       "  </thead>\n",
       "  <tbody>\n",
       "    <tr>\n",
       "      <th>0</th>\n",
       "      <td>George Washington</td>\n",
       "      <td>1</td>\n",
       "      <td>Federalist</td>\n",
       "      <td>1789</td>\n",
       "      <td>1797</td>\n",
       "    </tr>\n",
       "    <tr>\n",
       "      <th>1</th>\n",
       "      <td>John Adams</td>\n",
       "      <td>2</td>\n",
       "      <td>Federalist</td>\n",
       "      <td>1797</td>\n",
       "      <td>1801</td>\n",
       "    </tr>\n",
       "    <tr>\n",
       "      <th>2</th>\n",
       "      <td>Thomas Jefferson</td>\n",
       "      <td>3</td>\n",
       "      <td>Democratic Republican</td>\n",
       "      <td>1801</td>\n",
       "      <td>1809</td>\n",
       "    </tr>\n",
       "    <tr>\n",
       "      <th>3</th>\n",
       "      <td>James Madison</td>\n",
       "      <td>4</td>\n",
       "      <td>Democratic Republican</td>\n",
       "      <td>1809</td>\n",
       "      <td>1817</td>\n",
       "    </tr>\n",
       "    <tr>\n",
       "      <th>4</th>\n",
       "      <td>James Monroe</td>\n",
       "      <td>5</td>\n",
       "      <td>Democratic Republican</td>\n",
       "      <td>1817</td>\n",
       "      <td>1825</td>\n",
       "    </tr>\n",
       "  </tbody>\n",
       "</table>\n",
       "</div>"
      ],
      "text/plain": [
       "      president_name pres_num       associated_party begin_office end_office\n",
       "0  George Washington        1             Federalist         1789       1797\n",
       "1         John Adams        2             Federalist         1797       1801\n",
       "2   Thomas Jefferson        3  Democratic Republican         1801       1809\n",
       "3      James Madison        4  Democratic Republican         1809       1817\n",
       "4       James Monroe        5  Democratic Republican         1817       1825"
      ]
     },
     "execution_count": 50,
     "metadata": {},
     "output_type": "execute_result"
    }
   ],
   "source": [
    "# View changes\n",
    "df.head(5)"
   ]
  },
  {
   "cell_type": "markdown",
   "metadata": {},
   "source": [
    "----------------------"
   ]
  },
  {
   "cell_type": "markdown",
   "metadata": {},
   "source": [
    "#### **Step 2: Augmenting the database:**\n",
    "\n",
    "- 1. Adding URL links to a actual source of information: we will check the last presidents"
   ]
  },
  {
   "cell_type": "code",
   "execution_count": 54,
   "metadata": {},
   "outputs": [
    {
     "data": {
      "text/html": [
       "<div>\n",
       "<style scoped>\n",
       "    .dataframe tbody tr th:only-of-type {\n",
       "        vertical-align: middle;\n",
       "    }\n",
       "\n",
       "    .dataframe tbody tr th {\n",
       "        vertical-align: top;\n",
       "    }\n",
       "\n",
       "    .dataframe thead th {\n",
       "        text-align: right;\n",
       "    }\n",
       "</style>\n",
       "<table border=\"1\" class=\"dataframe\">\n",
       "  <thead>\n",
       "    <tr style=\"text-align: right;\">\n",
       "      <th></th>\n",
       "      <th>president_name</th>\n",
       "      <th>pres_num</th>\n",
       "      <th>associated_party</th>\n",
       "      <th>begin_office</th>\n",
       "      <th>end_office</th>\n",
       "    </tr>\n",
       "  </thead>\n",
       "  <tbody>\n",
       "    <tr>\n",
       "      <th>41</th>\n",
       "      <td>William (Bill) Clinton</td>\n",
       "      <td>42</td>\n",
       "      <td>Democratic</td>\n",
       "      <td>1993</td>\n",
       "      <td>2001</td>\n",
       "    </tr>\n",
       "    <tr>\n",
       "      <th>42</th>\n",
       "      <td>George W. Bush</td>\n",
       "      <td>43</td>\n",
       "      <td>Republican</td>\n",
       "      <td>2001</td>\n",
       "      <td>2009</td>\n",
       "    </tr>\n",
       "    <tr>\n",
       "      <th>43</th>\n",
       "      <td>Barack Obama</td>\n",
       "      <td>44</td>\n",
       "      <td>Democratic</td>\n",
       "      <td>2009</td>\n",
       "      <td>2017</td>\n",
       "    </tr>\n",
       "    <tr>\n",
       "      <th>44</th>\n",
       "      <td>Donald Trump</td>\n",
       "      <td>45</td>\n",
       "      <td>Republican</td>\n",
       "      <td>2017</td>\n",
       "      <td>2021</td>\n",
       "    </tr>\n",
       "    <tr>\n",
       "      <th>45</th>\n",
       "      <td>Joe Biden</td>\n",
       "      <td>46</td>\n",
       "      <td>Democratic</td>\n",
       "      <td>2021</td>\n",
       "      <td></td>\n",
       "    </tr>\n",
       "  </tbody>\n",
       "</table>\n",
       "</div>"
      ],
      "text/plain": [
       "            president_name pres_num associated_party begin_office end_office\n",
       "41  William (Bill) Clinton       42       Democratic         1993       2001\n",
       "42          George W. Bush       43       Republican         2001       2009\n",
       "43            Barack Obama       44       Democratic         2009       2017\n",
       "44            Donald Trump       45       Republican         2017       2021\n",
       "45               Joe Biden       46       Democratic         2021           "
      ]
     },
     "execution_count": 54,
     "metadata": {},
     "output_type": "execute_result"
    }
   ],
   "source": [
    "df.tail(5)"
   ]
  },
  {
   "cell_type": "code",
   "execution_count": 58,
   "metadata": {},
   "outputs": [],
   "source": [
    "url_sources = {\n",
    "    'William (Bill) Clinton': ['https://fr.wikipedia.org/wiki/Bill_Clinton', 'https://www.whitehouse.gov/about-the-white-house/presidents/william-j-clinton/'],\n",
    "    'George W. Bush': ['https://fr.wikipedia.org/wiki/George_W._Bush', 'https://www.whitehouse.gov/about-the-white-house/presidents/george-w-bush/'],\n",
    "    'Barack Obama': ['https://fr.wikipedia.org/wiki/Barack_Obama', 'https://www.whitehouse.gov/about-the-white-house/presidents/barack-obama/']\n",
    "}\n",
    "\n",
    "df['url_source'] = df['president_name'].map(url_sources)\n",
    "df['url_source'] = df['url_source'].fillna('')"
   ]
  },
  {
   "cell_type": "code",
   "execution_count": 59,
   "metadata": {},
   "outputs": [
    {
     "data": {
      "text/html": [
       "<div>\n",
       "<style scoped>\n",
       "    .dataframe tbody tr th:only-of-type {\n",
       "        vertical-align: middle;\n",
       "    }\n",
       "\n",
       "    .dataframe tbody tr th {\n",
       "        vertical-align: top;\n",
       "    }\n",
       "\n",
       "    .dataframe thead th {\n",
       "        text-align: right;\n",
       "    }\n",
       "</style>\n",
       "<table border=\"1\" class=\"dataframe\">\n",
       "  <thead>\n",
       "    <tr style=\"text-align: right;\">\n",
       "      <th></th>\n",
       "      <th>president_name</th>\n",
       "      <th>pres_num</th>\n",
       "      <th>associated_party</th>\n",
       "      <th>begin_office</th>\n",
       "      <th>end_office</th>\n",
       "      <th>url_source</th>\n",
       "    </tr>\n",
       "  </thead>\n",
       "  <tbody>\n",
       "    <tr>\n",
       "      <th>41</th>\n",
       "      <td>William (Bill) Clinton</td>\n",
       "      <td>42</td>\n",
       "      <td>Democratic</td>\n",
       "      <td>1993</td>\n",
       "      <td>2001</td>\n",
       "      <td>[https://fr.wikipedia.org/wiki/Bill_Clinton, h...</td>\n",
       "    </tr>\n",
       "    <tr>\n",
       "      <th>42</th>\n",
       "      <td>George W. Bush</td>\n",
       "      <td>43</td>\n",
       "      <td>Republican</td>\n",
       "      <td>2001</td>\n",
       "      <td>2009</td>\n",
       "      <td>[https://fr.wikipedia.org/wiki/George_W._Bush,...</td>\n",
       "    </tr>\n",
       "    <tr>\n",
       "      <th>43</th>\n",
       "      <td>Barack Obama</td>\n",
       "      <td>44</td>\n",
       "      <td>Democratic</td>\n",
       "      <td>2009</td>\n",
       "      <td>2017</td>\n",
       "      <td>[https://fr.wikipedia.org/wiki/Barack_Obama, h...</td>\n",
       "    </tr>\n",
       "    <tr>\n",
       "      <th>44</th>\n",
       "      <td>Donald Trump</td>\n",
       "      <td>45</td>\n",
       "      <td>Republican</td>\n",
       "      <td>2017</td>\n",
       "      <td>2021</td>\n",
       "      <td></td>\n",
       "    </tr>\n",
       "    <tr>\n",
       "      <th>45</th>\n",
       "      <td>Joe Biden</td>\n",
       "      <td>46</td>\n",
       "      <td>Democratic</td>\n",
       "      <td>2021</td>\n",
       "      <td></td>\n",
       "      <td></td>\n",
       "    </tr>\n",
       "  </tbody>\n",
       "</table>\n",
       "</div>"
      ],
      "text/plain": [
       "            president_name pres_num associated_party begin_office end_office  \\\n",
       "41  William (Bill) Clinton       42       Democratic         1993       2001   \n",
       "42          George W. Bush       43       Republican         2001       2009   \n",
       "43            Barack Obama       44       Democratic         2009       2017   \n",
       "44            Donald Trump       45       Republican         2017       2021   \n",
       "45               Joe Biden       46       Democratic         2021              \n",
       "\n",
       "                                           url_source  \n",
       "41  [https://fr.wikipedia.org/wiki/Bill_Clinton, h...  \n",
       "42  [https://fr.wikipedia.org/wiki/George_W._Bush,...  \n",
       "43  [https://fr.wikipedia.org/wiki/Barack_Obama, h...  \n",
       "44                                                     \n",
       "45                                                     "
      ]
     },
     "execution_count": 59,
     "metadata": {},
     "output_type": "execute_result"
    }
   ],
   "source": [
    "df.tail(5)"
   ]
  },
  {
   "cell_type": "markdown",
   "metadata": {},
   "source": [
    "#### Step 3: Saving the final database for later use"
   ]
  },
  {
   "cell_type": "code",
   "execution_count": 60,
   "metadata": {},
   "outputs": [],
   "source": [
    "df.to_csv('./data/president_dataset.csv', index=False)"
   ]
  }
 ],
 "metadata": {
  "kernelspec": {
   "display_name": ".venv",
   "language": "python",
   "name": "python3"
  },
  "language_info": {
   "codemirror_mode": {
    "name": "ipython",
    "version": 3
   },
   "file_extension": ".py",
   "mimetype": "text/x-python",
   "name": "python",
   "nbconvert_exporter": "python",
   "pygments_lexer": "ipython3",
   "version": "3.12.0"
  }
 },
 "nbformat": 4,
 "nbformat_minor": 2
}
