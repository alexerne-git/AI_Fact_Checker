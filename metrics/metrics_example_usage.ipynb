{
 "cells": [
  {
   "cell_type": "code",
   "execution_count": null,
   "metadata": {},
   "outputs": [],
   "source": [
    "pip install nltk rouge_score\n",
    "pip install datasets"
   ]
  },
  {
   "cell_type": "code",
   "execution_count": null,
   "metadata": {},
   "outputs": [],
   "source": [
    "from datasets import load_metric\n",
    "rouge = load_metric(\"rouge\")\n",
    "predictons = [\"The cat sat on the blue mat\"]\n",
    "references = [\"The cat is on the mat\"]\n",
    "rouge.compute(predictions=predictons, references=references)\n",
    "\n",
    "# print the result for {'rouge1'} and for Aggregated score low \n",
    "print(rouge.compute(predictions=predictons, references=references)['rouge1'])\n",
    "print(rouge.compute(predictions=predictons, references=references)['rouge2'])\n",
    "print(rouge.compute(predictions=predictons, references=references)['rougeL'])"
   ]
  },
  {
   "cell_type": "code",
   "execution_count": null,
   "metadata": {},
   "outputs": [],
   "source": [
    "predictons = [\"I really loved reading the Hunger Games\"]\n",
    "references = [\"I loved reading the Hunger Games\"]\n",
    "rouge.compute(predictions=predictons, references=references)\n",
    "\n",
    "# print the result for {'rouge1'} and for Aggregated score low \n",
    "print(rouge.compute(predictions=predictons, references=references)['rouge1'])\n",
    "print(rouge.compute(predictions=predictons, references=references)['rouge2'])\n",
    "print(rouge.compute(predictions=predictons, references=references)['rougeL'])"
   ]
  },
  {
   "cell_type": "code",
   "execution_count": null,
   "metadata": {},
   "outputs": [],
   "source": [
    "from datasets import load_metric\n",
    "\n",
    "bleu = load_metric(\"bleu\")\n",
    "predictions = [[\"I\", \"have\", \"thirty\", \"six\", \"years\",\"old\"]]\n",
    "references = [\n",
    "    [[\"I\", \"am\", \"thirty\", \"six\", \"years\", \"old\"]]\n",
    "]\n",
    "bleu.compute(predictions=predictions, references=references)"
   ]
  },
  {
   "cell_type": "code",
   "execution_count": null,
   "metadata": {},
   "outputs": [],
   "source": [
    "!pip install torch torchvision torchaudio\n",
    "!pip install bert-score"
   ]
  },
  {
   "cell_type": "code",
   "execution_count": null,
   "metadata": {},
   "outputs": [],
   "source": [
    "\n",
    "import torch\n",
    "from bert_score import score\n",
    "\n",
    "candidate = ['The quick brown dog jumps over the lazy fox.']\n",
    "reference = ['The quick brown fox jumps over the lazy dog.']\n",
    "P, R, F1 = score(candidate, reference, lang='en')\n",
    "print(P, R, F1) # Precission, Recall and F1 score"
   ]
  }
 ],
 "metadata": {
  "kernelspec": {
   "display_name": "Python 3",
   "language": "python",
   "name": "python3"
  },
  "language_info": {
   "codemirror_mode": {
    "name": "ipython",
    "version": 3
   },
   "file_extension": ".py",
   "mimetype": "text/x-python",
   "name": "python",
   "nbconvert_exporter": "python",
   "pygments_lexer": "ipython3",
   "version": "3.12.0"
  }
 },
 "nbformat": 4,
 "nbformat_minor": 2
}
